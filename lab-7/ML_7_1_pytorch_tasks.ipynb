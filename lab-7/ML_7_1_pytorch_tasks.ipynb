{
  "nbformat": 4,
  "nbformat_minor": 0,
  "metadata": {
    "colab": {
      "provenance": [],
      "gpuType": "T4"
    },
    "kernelspec": {
      "display_name": "Python 3",
      "name": "python3"
    },
    "language_info": {
      "codemirror_mode": {
        "name": "ipython",
        "version": 3
      },
      "file_extension": ".py",
      "mimetype": "text/x-python",
      "name": "python",
      "nbconvert_exporter": "python",
      "pygments_lexer": "ipython3",
      "version": "3.6.5"
    },
    "accelerator": "GPU"
  },
  "cells": [
    {
      "cell_type": "markdown",
      "metadata": {
        "id": "vcnGdgw_YJ8u"
      },
      "source": [
        "# PyTorch. Основы: синтаксис, torch.cuda и torch.autograd\n",
        "\n",
        "## Задание 7.1"
      ]
    },
    {
      "cell_type": "code",
      "metadata": {
        "id": "RtyozNmmYJ89"
      },
      "source": [
        "import torch\n",
        "import matplotlib.pyplot as plt"
      ],
      "execution_count": null,
      "outputs": []
    },
    {
      "cell_type": "markdown",
      "metadata": {
        "id": "ny4-Qi2wYJ-6"
      },
      "source": [
        "### Задача 1"
      ]
    },
    {
      "cell_type": "markdown",
      "metadata": {
        "id": "IWxlFq0bYJ-_"
      },
      "source": [
        "1). Создайте два вещественных тензора: `a` размером (3, 4) и `b` размером (12,)   \n",
        "2). Создайте тензор `c`, являющийся тензором `b`, но размера (2, 2, 3)  \n",
        "3). Выведите первый столбец матрицы `a` с помощью индексации"
      ]
    },
    {
      "cell_type": "code",
      "metadata": {
        "id": "3oxZuk3yYJ_A",
        "colab": {
          "base_uri": "https://localhost:8080/"
        },
        "outputId": "8fda16dd-0b67-483c-be09-3bc9c782e0bd"
      },
      "source": [
        "a = torch.randn((3, 4), dtype=torch.float)\n",
        "print(\"Тензор a:\")\n",
        "print(a)\n",
        "\n",
        "b = torch.randn((12,), dtype=torch.float)\n",
        "print(\"Тензор b:\")\n",
        "print(b)\n",
        "\n",
        "c = b.view(2, 2, 3)\n",
        "print(\"Тензор c:\")\n",
        "print(c)\n",
        "\n",
        "a_first_column = a[:, 0]\n",
        "print(\"Первый столбец матрицы a:\")\n",
        "print(a_first_column)"
      ],
      "execution_count": null,
      "outputs": [
        {
          "output_type": "stream",
          "name": "stdout",
          "text": [
            "Тензор a:\n",
            "tensor([[-0.1648,  0.4250,  0.3488,  1.7058],\n",
            "        [-1.7219,  1.9930,  1.4100, -1.9291],\n",
            "        [ 0.6699,  0.2412,  0.2221, -1.6056]])\n",
            "Тензор b:\n",
            "tensor([-0.7661, -0.7307, -0.4004,  0.8161,  0.1223,  0.2406,  2.4612,  0.3817,\n",
            "         0.4430, -1.6768,  0.3920, -0.8736])\n",
            "Тензор c:\n",
            "tensor([[[-0.7661, -0.7307, -0.4004],\n",
            "         [ 0.8161,  0.1223,  0.2406]],\n",
            "\n",
            "        [[ 2.4612,  0.3817,  0.4430],\n",
            "         [-1.6768,  0.3920, -0.8736]]])\n",
            "Первый столбец матрицы a:\n",
            "tensor([-0.1648, -1.7219,  0.6699])\n"
          ]
        }
      ]
    },
    {
      "cell_type": "markdown",
      "metadata": {
        "id": "D2IP_FrKYKAA"
      },
      "source": [
        "### Задача 2"
      ]
    },
    {
      "cell_type": "markdown",
      "metadata": {
        "id": "tBZFbSYQYKAA"
      },
      "source": [
        "1). Создайте два вещественных тензора: `a` размером (5, 2) и `b` размером (1,10)   \n",
        "2). Создайте тензор `c`, являющийся тензором `b`, но размера (5, 2)  \n",
        "3). Произведите все арифметические операции с тензорами `a` и `c`"
      ]
    },
    {
      "cell_type": "code",
      "metadata": {
        "id": "hzs2bH3GYKAB",
        "colab": {
          "base_uri": "https://localhost:8080/"
        },
        "outputId": "40fcaea8-baff-4198-8628-b33208930eb8"
      },
      "source": [
        "a = torch.randn((5, 2), dtype=torch.float)\n",
        "b = torch.randn((1, 10), dtype=torch.float)\n",
        "\n",
        "c = b.view(5, 2)\n",
        "\n",
        "print(\"Тензор a:\")\n",
        "print(a)\n",
        "print(\"Тензор c:\")\n",
        "print(c)"
      ],
      "execution_count": null,
      "outputs": [
        {
          "output_type": "stream",
          "name": "stdout",
          "text": [
            "Тензор a:\n",
            "tensor([[-1.1327, -0.2692],\n",
            "        [ 1.8021, -0.0166],\n",
            "        [ 0.3581, -0.3298],\n",
            "        [-0.5715,  0.0404],\n",
            "        [-0.1632, -2.5569]])\n",
            "Тензор c:\n",
            "tensor([[-1.2672, -0.0091],\n",
            "        [ 1.1549, -0.0429],\n",
            "        [-1.3443,  0.5262],\n",
            "        [-0.2794,  0.5425],\n",
            "        [-0.1194,  0.0448]])\n"
          ]
        }
      ]
    },
    {
      "cell_type": "code",
      "source": [
        "print(a + c)"
      ],
      "metadata": {
        "colab": {
          "base_uri": "https://localhost:8080/"
        },
        "id": "qynKkHRpAqnl",
        "outputId": "7c6b6486-acb8-41ad-c11f-18cdbe81503a"
      },
      "execution_count": null,
      "outputs": [
        {
          "output_type": "stream",
          "name": "stdout",
          "text": [
            "tensor([[-2.3999, -0.2784],\n",
            "        [ 2.9571, -0.0595],\n",
            "        [-0.9861,  0.1964],\n",
            "        [-0.8509,  0.5830],\n",
            "        [-0.2825, -2.5121]])\n"
          ]
        }
      ]
    },
    {
      "cell_type": "code",
      "source": [
        "print(a - c)"
      ],
      "metadata": {
        "colab": {
          "base_uri": "https://localhost:8080/"
        },
        "id": "_mn1L0kPBeWp",
        "outputId": "303b2c5b-71c1-4acc-f172-3a512d35fb29"
      },
      "execution_count": null,
      "outputs": [
        {
          "output_type": "stream",
          "name": "stdout",
          "text": [
            "tensor([[ 0.1346, -0.2601],\n",
            "        [ 0.6472,  0.0264],\n",
            "        [ 1.7024, -0.8560],\n",
            "        [-0.2921, -0.5021],\n",
            "        [-0.0438, -2.6017]])\n"
          ]
        }
      ]
    },
    {
      "cell_type": "code",
      "source": [
        "print(a * c)"
      ],
      "metadata": {
        "colab": {
          "base_uri": "https://localhost:8080/"
        },
        "id": "scmG8g_bBhaG",
        "outputId": "f4f0fed7-0254-42ae-ffb7-cbcc13ddcb46"
      },
      "execution_count": null,
      "outputs": [
        {
          "output_type": "stream",
          "name": "stdout",
          "text": [
            "tensor([[ 1.4354e+00,  2.4603e-03],\n",
            "        [ 2.0813e+00,  7.1169e-04],\n",
            "        [-4.8145e-01, -1.7354e-01],\n",
            "        [ 1.5966e-01,  2.1940e-02],\n",
            "        [ 1.9476e-02, -1.1450e-01]])\n"
          ]
        }
      ]
    },
    {
      "cell_type": "code",
      "source": [
        "print(a / c)"
      ],
      "metadata": {
        "colab": {
          "base_uri": "https://localhost:8080/"
        },
        "id": "eXcFVIrjBli1",
        "outputId": "4c7abf65-1331-4486-f9b3-39e359884b7d"
      },
      "execution_count": null,
      "outputs": [
        {
          "output_type": "stream",
          "name": "stdout",
          "text": [
            "tensor([[  0.8938,  29.4621],\n",
            "        [  1.5604,   0.3860],\n",
            "        [ -0.2664,  -0.6268],\n",
            "        [  2.0456,   0.0745],\n",
            "        [  1.3669, -57.0992]])\n"
          ]
        }
      ]
    },
    {
      "cell_type": "markdown",
      "metadata": {
        "id": "rIaroFO6YKBT"
      },
      "source": [
        "### Задача 3"
      ]
    },
    {
      "cell_type": "markdown",
      "metadata": {
        "id": "GfLHVvKvYKBT"
      },
      "source": [
        "1). Создайте тензор *целых чисел* `images` размерности (100, 200, 200, 3) (можно интерпретировать это как 100 картинок размера 200х200 с тремя цветовыми каналами, то есть 100 цветных изображений 200х200). Заполните его нулями  \n",
        "\n",
        "2). Сделайте так, чтобы у $i$-ой по порядку картинки была нарисована белая полоса толщиной два пикселя в строках, которые соответствуют номеру картинки. Например, у 3-ей по порядку картинки белая полоска будет занимать 6 и 7 строки, у 99 - 198 и 199. Сделать белую строку можно, записав в ячейки тензора число 255 (по всем трём каналам). Выведите несколько примеров с помощью `pylot`  \n",
        "\n",
        "3). Посчитайте среднее тензора `images` по 1-ой оси (по сути - средняя картинка), умножьте полученный тензор на 70. Нарисуйте с помощью `pyplot`, должна получиться серая картинка (при взятии среднего нужно привести тензор к float с помощью `.float()`, при отрисовке обратно к int с помощью `.int()`)"
      ]
    },
    {
      "cell_type": "code",
      "metadata": {
        "id": "pZVGHEQQYKBU"
      },
      "source": [
        "images = torch.zeros((100, 200, 200, 3), dtype=torch.int32)"
      ],
      "execution_count": null,
      "outputs": []
    },
    {
      "cell_type": "code",
      "source": [
        "for i in range(images.shape[0]):\n",
        "    images[i, i*2:i*2+2, :, :] = 255\n",
        "\n",
        "# Выводим несколько примеров\n",
        "plt.imshow(images[3].int())\n",
        "plt.show()\n",
        "\n",
        "plt.imshow(images[99].int())\n",
        "plt.show()"
      ],
      "metadata": {
        "colab": {
          "base_uri": "https://localhost:8080/",
          "height": 851
        },
        "id": "1xjSFDyJL1AX",
        "outputId": "4f613b12-bac4-4142-c251-22b880282d26"
      },
      "execution_count": null,
      "outputs": [
        {
          "output_type": "display_data",
          "data": {
            "text/plain": [
              "<Figure size 640x480 with 1 Axes>"
            ],
            "image/png": "[encoded data removed]"
          },
          "metadata": {}
        },
        {
          "output_type": "display_data",
          "data": {
            "text/plain": [
              "<Figure size 640x480 with 1 Axes>"
            ],
            "image/png": "[encoded data removed]"
          },
          "metadata": {}
        }
      ]
    },
    {
      "cell_type": "code",
      "source": [
        "mean_images = torch.mean(images.float(), 0) * 70\n",
        "plt.imshow(mean_images.int())"
      ],
      "metadata": {
        "colab": {
          "base_uri": "https://localhost:8080/",
          "height": 451
        },
        "id": "OS9bvCRGNoGq",
        "outputId": "089fba47-eb89-4135-951e-9f443b0d2573"
      },
      "execution_count": null,
      "outputs": [
        {
          "output_type": "execute_result",
          "data": {
            "text/plain": [
              "<matplotlib.image.AxesImage at 0x79b49ca4e050>"
            ]
          },
          "metadata": {},
          "execution_count": 89
        },
        {
          "output_type": "display_data",
          "data": {
            "text/plain": [
              "<Figure size 640x480 with 1 Axes>"
            ],
            "image/png": "[encoded data removed]"
          },
          "metadata": {}
        }
      ]
    },
    {
      "cell_type": "markdown",
      "metadata": {
        "id": "oQnhq5ZdYKCu"
      },
      "source": [
        "### Задача 4"
      ]
    },
    {
      "cell_type": "markdown",
      "metadata": {
        "id": "UB95BhgTYKCu"
      },
      "source": [
        "- В Colab нажмите в меню сверху: `Runtime` -> `Change Runtime Type` -> `GPU`, где изначально стоит `None` (`Среда выполнение` - `Сменить среду выполнения`)\n",
        "- Объявите тензор `a` размера (2, 3, 4) и тензор `b` размера (1, 8, 3) на GPU, иницилизируйте их случайно равномерно (`.uniform_()`)\n",
        "- Затем измените форму тензора `b`, чтобы она совпадала с формой тензора `a`, получите тензор `c`  \n",
        "- Переместите `c` на CPU, переместите `a` на CPU  \n",
        "- Оберните их в `Variable()`\n",
        "- Объявите тензор `L = torch.mean((c - a) `**` 2)` и посчитайте градиент `L` по `c` ( то есть $\\frac{\\partial{L}}{\\partial{c}})$\n",
        "- Выведите градиент `L` по `c`"
      ]
    },
    {
      "cell_type": "code",
      "metadata": {
        "id": "WESOm5TCYKCv"
      },
      "source": [
        "a = torch.empty((2, 3, 4), device='cuda').uniform_()\n",
        "b = torch.empty((1, 8, 3), device='cuda').uniform_()"
      ],
      "execution_count": null,
      "outputs": []
    },
    {
      "cell_type": "code",
      "source": [
        "#print(a)\n",
        "#print(b)\n",
        "\n",
        "c = b.view(a.size())"
      ],
      "metadata": {
        "id": "cCivLXvoSLlE"
      },
      "execution_count": null,
      "outputs": []
    },
    {
      "cell_type": "code",
      "source": [
        "print(a)\n",
        "print(b)\n",
        "print(c)"
      ],
      "metadata": {
        "colab": {
          "base_uri": "https://localhost:8080/"
        },
        "id": "3D4BD0jyVVvv",
        "outputId": "4f1616c3-be9a-4d0f-adbc-3aac57756b66"
      },
      "execution_count": null,
      "outputs": [
        {
          "output_type": "stream",
          "name": "stdout",
          "text": [
            "tensor([[[0.4628, 0.0332, 0.5773, 0.4944],\n",
            "         [0.3023, 0.1239, 0.3519, 0.8811],\n",
            "         [0.3181, 0.5317, 0.5673, 0.8939]],\n",
            "\n",
            "        [[0.4124, 0.6077, 0.1344, 0.7576],\n",
            "         [0.1259, 0.6206, 0.8790, 0.8429],\n",
            "         [0.8374, 0.5735, 0.2104, 0.5655]]], device='cuda:0')\n",
            "tensor([[[0.5775, 0.2408, 0.0023],\n",
            "         [0.4322, 0.6827, 0.4616],\n",
            "         [0.2277, 0.3760, 0.7889],\n",
            "         [0.2764, 0.4590, 0.5796],\n",
            "         [0.6281, 0.9437, 0.0595],\n",
            "         [0.9046, 0.5545, 0.1314],\n",
            "         [0.3504, 0.2209, 0.3044],\n",
            "         [0.9353, 0.8592, 0.0858]]], device='cuda:0')\n",
            "tensor([[[0.5775, 0.2408, 0.0023, 0.4322],\n",
            "         [0.6827, 0.4616, 0.2277, 0.3760],\n",
            "         [0.7889, 0.2764, 0.4590, 0.5796]],\n",
            "\n",
            "        [[0.6281, 0.9437, 0.0595, 0.9046],\n",
            "         [0.5545, 0.1314, 0.3504, 0.2209],\n",
            "         [0.3044, 0.9353, 0.8592, 0.0858]]], device='cuda:0')\n"
          ]
        }
      ]
    },
    {
      "cell_type": "code",
      "source": [
        "c = c.to('cpu')\n",
        "a = a.to('cpu')"
      ],
      "metadata": {
        "id": "kEsUV2eyVgCd"
      },
      "execution_count": null,
      "outputs": []
    },
    {
      "cell_type": "code",
      "source": [
        "from torch.autograd import Variable\n",
        "\n",
        "a, c = Variable(a), Variable(c, requires_grad=True)"
      ],
      "metadata": {
        "id": "xi44wk5vVzCi"
      },
      "execution_count": null,
      "outputs": []
    },
    {
      "cell_type": "code",
      "source": [
        "L = torch.mean((c - a)**2)\n",
        "#print(L)"
      ],
      "metadata": {
        "id": "Av-GGvzlWAQt"
      },
      "execution_count": null,
      "outputs": []
    },
    {
      "cell_type": "code",
      "source": [
        "L.backward()\n",
        "L_gradient_c = c.grad\n",
        "\n",
        "print(L_gradient_c)"
      ],
      "metadata": {
        "colab": {
          "base_uri": "https://localhost:8080/"
        },
        "id": "i2Tqry9bWoAI",
        "outputId": "d3953119-3a6b-46d5-dbe0-d3d592672d6b"
      },
      "execution_count": null,
      "outputs": [
        {
          "output_type": "stream",
          "name": "stdout",
          "text": [
            "tensor([[[ 0.0096,  0.0173, -0.0479, -0.0052],\n",
            "         [ 0.0317,  0.0281, -0.0103, -0.0421],\n",
            "         [ 0.0392, -0.0213, -0.0090, -0.0262]],\n",
            "\n",
            "        [[ 0.0180,  0.0280, -0.0062,  0.0123],\n",
            "         [ 0.0357, -0.0408, -0.0441, -0.0518],\n",
            "         [-0.0444,  0.0301,  0.0541, -0.0400]]])\n"
          ]
        }
      ]
    }
  ]
}