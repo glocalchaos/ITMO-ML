{
  "cells": [
    {
      "cell_type": "code",
      "execution_count": null,
      "metadata": {
        "id": "e0N_e7VUEGUd"
      },
      "outputs": [],
      "source": [
        "from decimal import *\n",
        "import numpy as np\n",
        "from scipy.optimize import minimize_scalar\n",
        "import matplotlib.pyplot as plt\n",
        "import math"
      ]
    },
    {
      "cell_type": "code",
      "execution_count": null,
      "metadata": {
        "id": "83WKH1YnhRvD"
      },
      "outputs": [],
      "source": [
        "def d(x):\n",
        "  return Decimal(x)"
      ]
    },
    {
      "cell_type": "markdown",
      "metadata": {
        "id": "BsNwjQDRfmLY"
      },
      "source": [
        "# Задание 1"
      ]
    },
    {
      "cell_type": "markdown",
      "metadata": {
        "id": "wu6r1-s7fmLe"
      },
      "source": [
        "---"
      ]
    },
    {
      "cell_type": "markdown",
      "metadata": {
        "id": "zxRIdPO9gYyX"
      },
      "source": [
        "Напишите функцию linan(), которая будет решать систему линейных уравнений вида:\n",
        "\n",
        "\\begin{matrix} a_{11}x+a_{12}y=b_{1}&(1) \\\\ a_{21}x+a_{22}y=b_{2} &(2) \\end{matrix}\n",
        "​\n",
        "На вход программа должна принимать 2 строки.\n",
        "\n",
        "Каждая строка содержит 3 действительных числа через пробел: коэффициенты a и b.\n",
        "\n",
        "На выходе программа должна выдавать значения x и y в одну строку через пробел.\n",
        "\n",
        "\n",
        "Примечание 1. Для разделения строки на отдельные элементы используйте функцию split()\n",
        "\n",
        "Примечание 2. В качестве разделителя между целой и дробной частью используйте точку, например 0.2"
      ]
    },
    {
      "cell_type": "markdown",
      "metadata": {
        "id": "pg37sPaIhPK8"
      },
      "source": []
    },
    {
      "cell_type": "code",
      "execution_count": null,
      "metadata": {
        "colab": {
          "base_uri": "https://localhost:8080/",
          "height": 70
        },
        "id": "6sxlcLbVlrjl",
        "outputId": "27855b0e-23a8-4871-f4c0-db8c1dcd7e51"
      },
      "outputs": [
        {
          "name": "stdout",
          "output_type": "stream",
          "text": [
            "1 2 3\n",
            "3 2 1\n"
          ]
        },
        {
          "data": {
            "application/vnd.google.colaboratory.intrinsic+json": {
              "type": "string"
            },
            "text/plain": [
              "'-1.0 2.0'"
            ]
          },
          "execution_count": 16,
          "metadata": {},
          "output_type": "execute_result"
        }
      ],
      "source": [
        "def linan():\n",
        "  a11, a12, b1 = map(float, input().split())\n",
        "  a21, a22, b2 = map(float, input().split())\n",
        "\n",
        "  answer = np.linalg.solve(np.array([[a11, a12], [a21, a22]]), np.array([b1, b2]))\n",
        "  x, y = answer[0], answer[1]\n",
        "\n",
        "  return f\"{round(x, 2)} {round(y, 2)}\"\n",
        "\n",
        "linan()"
      ]
    },
    {
      "cell_type": "markdown",
      "metadata": {
        "id": "wLoVDMQnfmOv"
      },
      "source": [
        "# Задание 2"
      ]
    },
    {
      "cell_type": "markdown",
      "metadata": {
        "id": "6bmt_YF3fmOw"
      },
      "source": [
        "Напишите функцию `decorate_matrix`, которая получает на вход одно целое число больше единицы. Функция должна возвращать матрицу n на n, у которой на границах стоят единицы, а на всех остальных позициях(если остались позиции не на границах) стоят нули.\n",
        "\n",
        "Нужно сделать без использования  циклов.\n",
        "\n",
        "```\n",
        "# ожидаемый результат для аргумента 5\n",
        "array([[1., 1., 1., 1., 1.],\n",
        "[1., 0., 0., 0., 1.],\n",
        "[1., 0., 0., 0., 1.],\n",
        "[1., 0., 0., 0., 1.],\n",
        "[1., 1., 1., 1., 1.]])\n",
        "```\n",
        "\n"
      ]
    },
    {
      "cell_type": "markdown",
      "metadata": {
        "id": "FjeIqKk-bhc0"
      },
      "source": [
        "Обратите внимание, что ожидается массив numpy"
      ]
    },
    {
      "cell_type": "code",
      "execution_count": null,
      "metadata": {
        "colab": {
          "base_uri": "https://localhost:8080/"
        },
        "id": "rB1E2WfyTGa4",
        "outputId": "bd06b960-0546-429c-a58b-abc08e606edd"
      },
      "outputs": [
        {
          "data": {
            "text/plain": [
              "array([[1., 1., 1., 1., 1.],\n",
              "       [1., 0., 0., 0., 1.],\n",
              "       [1., 0., 0., 0., 1.],\n",
              "       [1., 0., 0., 0., 1.],\n",
              "       [1., 1., 1., 1., 1.]])"
            ]
          },
          "execution_count": 12,
          "metadata": {},
          "output_type": "execute_result"
        }
      ],
      "source": [
        "def decorate_matrix(n):\n",
        "  matrix = np.zeros((n, n))\n",
        "  matrix[0,:] = 1\n",
        "  matrix[-1,:] = 1\n",
        "  matrix[:,0] = 1\n",
        "  matrix[:,-1] = 1\n",
        "\n",
        "  return matrix\n",
        "decorate_matrix(5)"
      ]
    },
    {
      "cell_type": "markdown",
      "metadata": {
        "id": "75sxny1zSCbl"
      },
      "source": [
        "# Задание 3"
      ]
    },
    {
      "cell_type": "markdown",
      "metadata": {
        "id": "2Xq1tBBAS5UJ"
      },
      "source": [
        "1) реализуйте 2 функции:\n",
        "\n",
        "$f(x) = (x+a)^2 - b$\n",
        "\n",
        "$g(x) = |f(x)|$\n",
        "\n",
        "2) Найдите аргументы, при которых достигается минимум функций $f(x)$ и $g(x)$\n",
        "\n",
        "Пример.\n",
        "Входные значение: $a=3$ и $b=4$\n",
        "\n",
        "Выходные значения:\n",
        "\n",
        "`-3.0 -1.0`"
      ]
    },
    {
      "cell_type": "code",
      "execution_count": null,
      "metadata": {
        "colab": {
          "base_uri": "https://localhost:8080/"
        },
        "id": "_92Y616PTvtH",
        "outputId": "285b4d0f-610f-4ea7-9af9-6591c1bf4efc"
      },
      "outputs": [
        {
          "output_type": "stream",
          "name": "stdout",
          "text": [
            "3 4\n",
            "-3.0 [-1. -5.]\n"
          ]
        }
      ],
      "source": [
        "from scipy.optimize import fmin\n",
        "import sys;\n",
        "\n",
        "def f(x, a, b):\n",
        "  return (x + a) ** 2 - b\n",
        "\n",
        "def g(x, a, b):\n",
        "  return abs(f(x, a, b))\n",
        "\n",
        "def find_argmin(func, a, b):\n",
        "  '''\n",
        "  def func_left(x):\n",
        "    if (x <= -a):\n",
        "        return func(x, a, b)\n",
        "    else:\n",
        "      return +100500\n",
        "  def func_right(x):\n",
        "    if (x >= -a):\n",
        "        return func(x, a, b)\n",
        "    else:\n",
        "      return +100500\n",
        "\n",
        "\n",
        "  result1 = minimize_scalar(lambda x: func_left(x))\n",
        "  result2 = minimize_scalar(lambda x: func_right(x))\n",
        "  if (result1.x == result2.x):\n",
        "    return (round(result1.x, 2))\n",
        "  else:\n",
        "    return (round(result1.x, 2), round(result2.x, 2)) '''\n",
        "  result = np.array(round(minimize_scalar(lambda x: func(x, a, b)).x, 2))\n",
        "  if (result != -a):\n",
        "    if (result < -a):\n",
        "        result = np.append(result, -a + abs(-a - result))\n",
        "    else:\n",
        "        result = np.append(result, -a - abs(-a - result))\n",
        "\n",
        "  return np.array(result)\n",
        "\n",
        "a, b = map(float, input().split())\n",
        "argmin_f = find_argmin(f, a, b)\n",
        "argmin_g = find_argmin(g, a, b)\n",
        "print(f'{argmin_f} {argmin_g}')"
      ]
    },
    {
      "cell_type": "markdown",
      "metadata": {
        "id": "efml9GzISC9Q"
      },
      "source": [
        "# Задание 4"
      ]
    },
    {
      "cell_type": "markdown",
      "metadata": {
        "id": "SDZvKcsTVbAW"
      },
      "source": [
        "Постройте графики для функций из предыдущего задания и отметьте другим цветом на графиках точки найденных минимумов."
      ]
    },
    {
      "cell_type": "code",
      "execution_count": null,
      "metadata": {
        "colab": {
          "base_uri": "https://localhost:8080/",
          "height": 927
        },
        "id": "uwbbFZQf21Ty",
        "outputId": "7baf17c8-231d-4ab4-db51-456462d2fe05"
      },
      "outputs": [
        {
          "output_type": "display_data",
          "data": {
            "text/plain": [
              "<Figure size 640x480 with 1 Axes>"
            ],
            "image/png": "[encoded data removed]"
          },
          "metadata": {}
        },
        {
          "output_type": "display_data",
          "data": {
            "text/plain": [
              "<Figure size 640x480 with 1 Axes>"
            ],
            "image/png": "[encoded data removed]"
          },
          "metadata": {}
        }
      ],
      "source": [
        "def plot_function(f, a, b, argmin, col, title):\n",
        "    x = np.linspace(-a - 20, -a + 20, 200)\n",
        "    y = f(x, a, b)\n",
        "\n",
        "    plt.plot(x, y, color=col)\n",
        "    plt.ylabel(\"Y\")\n",
        "    plt.xlabel(\"X\")\n",
        "\n",
        "    if (type(argmin) is np.array):\n",
        "      for x in argmin:\n",
        "        plt.plot(x, f(x, a, b), 'o', color='red', label='argmin')\n",
        "    else:\n",
        "      plt.plot(argmin, f(argmin, a, b), 'o', color='red', label='argmin')\n",
        "\n",
        "    plt.grid()\n",
        "    plt.title(title)\n",
        "    plt.show()\n",
        "\n",
        "plot_function(f, a, b, argmin_f, 'green', \"f(x)\")\n",
        "\n",
        "plot_function(g, a, b, argmin_g, 'blue', \"g(x)\")"
      ]
    },
    {
      "cell_type": "markdown",
      "metadata": {
        "id": "mrby3EfiSDKJ"
      },
      "source": [
        "# Задание 5"
      ]
    },
    {
      "cell_type": "markdown",
      "metadata": {
        "id": "J6AZ8785VkQd"
      },
      "source": [
        "1000 человек бросают монетку. Каждый бросил 10 раз подряд.\n",
        "\n",
        " 1. Какова вероятность того, что хотя бы у одного человека монетка выпала 10 раз подряд той же самой стороной (орлом или решкой)?\n",
        " 2. Какова вероятность того, что хотя бы у одного человека монетка выпала 8 раз подряд той же самой стороной (орлом или решкой)?\n",
        " 3. Какова вероятность того, что ровно у троих человек из 1000 монетка выпала 10 раз подряд той же самой стороной (орлом или решкой)?"
      ]
    },
    {
      "cell_type": "code",
      "execution_count": null,
      "metadata": {
        "colab": {
          "base_uri": "https://localhost:8080/"
        },
        "id": "cKVtvAtb5rhu",
        "outputId": "6472f441-044d-48b4-cbd9-eccbe059d608"
      },
      "outputs": [
        {
          "output_type": "stream",
          "name": "stdout",
          "text": [
            "1. 0.86\n",
            "2. 0.99\n",
            "3. 0.18\n"
          ]
        }
      ],
      "source": [
        "from math import comb\n",
        "\n",
        "n = d(10) # количество бросков одним человеком\n",
        "p = d(0.5) # вероятность выпадения орла или решки\n",
        "\n",
        "k = d(10) # количество выпадения монетки подряд одной и той же стороной\n",
        "\n",
        "c = d(1000) # число человек\n",
        "\n",
        "# вероятность того, что монетка выпадет 10 раз одной и той же стороной у одного человека\n",
        "p_one_person = p ** k * 2\n",
        "# вероятность того, что ни у одного монетка HE выпала 10 раз подряд той же самой стороной\n",
        "p_no_one = (1 - p_one_person) ** c\n",
        "\n",
        "# вероятность того, что хотя бы у одного человека монетка выпадет 10 раз подряд\n",
        "p_at_least_one_person = 1 - p_no_one\n",
        "\n",
        "print(\"1.\", round(p_at_least_one_person, 2))\n",
        "\n",
        "\n",
        "\n",
        "\n",
        "\n",
        "k = d(8)\n",
        "# вероятность того, что монетка выпадет 8 раз подряд у одного человека\n",
        "p_one_person = p ** k * (1 - p** (n - k)) ** (n - k) * 2\n",
        "# вероятность того, что ни у одного монетка HE выпала 10 раз подряд той же самой стороной\n",
        "p_no_one = (1 - p_one_person) ** c\n",
        "# вероятность того, что хотя бы у одного человека монетка выпадет 8 раз подряд\n",
        "p_at_least_one_person = 1 - p_no_one\n",
        "\n",
        "print(\"2.\", round(p_at_least_one_person, 2))\n",
        "\n",
        "\n",
        "\n",
        "\n",
        "# Число сочетаний из c по k\n",
        "def C (c, k):\n",
        "    return d(math.factorial(int(c)) / (math.factorial(int(c - k)) * math.factorial(int(k))))\n",
        "\n",
        "# Формула Бернулли: вероятность того, что событие (с вероятностью p) наступит ровно k раз из c\n",
        "def Bernoulli(p, c, k):\n",
        "    return d(C(c, k)) * (p ** 9) ** k * (d(511 / 512)) ** (c - k)\n",
        "k = d(10) # количество выпадения монетки подряд одной и той же стороной\n",
        "\n",
        "# вероятность того, что монетка выпадет 10 раз одной и той же стороной у одного человека\n",
        "p_one_person = p ** k * 2\n",
        "\n",
        "# вероятность того, что ровно у троих человек из 1000 монетка выпала 10 раз подряд той же самой стороной\n",
        "p_exactly_3_people = Bernoulli(p, c, 3)\n",
        "print(\"3.\", round(p_exactly_3_people, 2))"
      ]
    }
  ],
  "metadata": {
    "colab": {
      "provenance": [],
      "collapsed_sections": [
        "BsNwjQDRfmLY",
        "mrby3EfiSDKJ"
      ]
    },
    "kernelspec": {
      "display_name": "Python 3",
      "language": "python",
      "name": "python3"
    },
    "language_info": {
      "codemirror_mode": {
        "name": "ipython",
        "version": 3
      },
      "file_extension": ".py",
      "mimetype": "text/x-python",
      "name": "python",
      "nbconvert_exporter": "python",
      "pygments_lexer": "ipython3",
      "version": "3.7.4"
    }
  },
  "nbformat": 4,
  "nbformat_minor": 0
}