{
  "nbformat": 4,
  "nbformat_minor": 0,
  "metadata": {
    "kernelspec": {
      "display_name": "Python 3",
      "language": "python",
      "name": "python3"
    },
    "language_info": {
      "codemirror_mode": {
        "name": "ipython",
        "version": 3
      },
      "file_extension": ".py",
      "mimetype": "text/x-python",
      "name": "python",
      "nbconvert_exporter": "python",
      "pygments_lexer": "ipython3",
      "version": "3.6.5"
    },
    "toc": {
      "base_numbering": 1,
      "nav_menu": {},
      "number_sections": true,
      "sideBar": true,
      "skip_h1_title": false,
      "title_cell": "Table of Contents",
      "title_sidebar": "Contents",
      "toc_cell": false,
      "toc_position": {},
      "toc_section_display": true,
      "toc_window_display": false
    },
    "colab": {
      "provenance": []
    }
  },
  "cells": [
    {
      "cell_type": "markdown",
      "metadata": {
        "id": "LYKqDli0Lqas"
      },
      "source": [
        "# Рубежная контрольная работа\n",
        "\n",
        "*Эту работу выполнять не обязательно. Баллы, набранные за эту контрольную работу просуммируются с баллами, которые будут набраны за контрольную работу 2 и будут выставлены как оценка за экзамен \"автоматом\". Если вы не выполните эту работу, переписать её будет невозможно, просто приходите на экзамен и добирайте баллы там.*"
      ]
    },
    {
      "cell_type": "markdown",
      "metadata": {
        "id": "Cdt8kOfu4K3x"
      },
      "source": [
        "Сделайте копию ноутбука\n",
        "\n",
        "Присвойте переменной `v` значение свой табельный номер ИСУ, это нужно для определения вашего варианта. Запустите код в следующей ячейке."
      ]
    },
    {
      "cell_type": "code",
      "metadata": {
        "id": "38Ryn8pjvYqb",
        "colab": {
          "base_uri": "https://localhost:8080/"
        },
        "outputId": "a456dddd-895b-4aaa-b440-b4dad73a4926"
      },
      "source": [
        "from datetime import datetime\n",
        "current_datetime = datetime.now()\n",
        "print(current_datetime)\n",
        "v = 336071 # по умолчанию вписан мой номер"
      ],
      "execution_count": null,
      "outputs": [
        {
          "output_type": "stream",
          "name": "stdout",
          "text": [
            "2023-10-27 07:06:55.287633\n"
          ]
        }
      ]
    },
    {
      "cell_type": "markdown",
      "metadata": {
        "id": "Qr0CAgObPOv7"
      },
      "source": [
        "## Описание метрического алгоритма"
      ]
    },
    {
      "cell_type": "markdown",
      "metadata": {
        "id": "OFP_i1F1Lqay"
      },
      "source": [
        "Пусть задана обучающая выборка пар \"объект-ответ\" $X^m = \\{(x_1,y_1),\\dots,(x_m,y_m)\\}.$\n",
        "\n",
        "Пусть на множестве объектов задана функция расстояния $\\rho(x,x')$. Чем больше значение этой функции, тем менее схожими являются два объекта $x, x'$.\n",
        "В простейшем случае используется евклидова метрика: $\\rho(x,x') = \\sqrt {\\sum _{i=1}^{n}(x_{i}-x'_{i})^{2}}$,\n",
        "\n",
        "Для произвольного объекта $u$ расположим объекты обучающей выборки $x_i$ в порядке возрастания расстояний до $u$:\n",
        "\n",
        "$$\\rho(u,x_{1; u}) \\leq  \\rho(u,x_{2; u}) \\leq \\cdots \\leq \\rho(u,x_{m; u}),$$\n",
        "где через $x_{i; u}$ обозначается тот объект обучающей выборки, который является $i$-м соседом объекта $u$. Аналогичное обозначение введём и для ответа на $i$-м соседе: $y_{i; u}$. Таким образом, произвольный объект $u$ порождает свою перенумерацию выборки. В наиболее общем виде алгоритм ближайших соседей есть:\n",
        "$$a(u) = \\mathrm{arg}\\max_{y\\in Y} \\sum_{i=1}^m \\bigl[ y_{i; u}=y \\bigr] w(i,u),$$\n",
        "где $w(i,u)$ - заданная весовая функция, которая оценивает степень важности $i$-го соседа для классификации объекта $u$. Естественно полагать, что эта функция не отрицательна и не возрастает по $i$ (поскольку чем дальше объект, тем меньший вклад он должен вносить в пользу своего класса).\n",
        "\n",
        "По-разному задавая весовую функцию, можно получать различные варианты метода ближайших соседей.\n",
        "\n",
        "$w(i,u) = [i=1]$ - простейший метод ближайшего соседа;\n",
        "\n",
        "$w(i,u) = [i\\leq k]$ - метод $k$ ближайших соседей;\n",
        "\n",
        "$w(i,u) = [i\\leq k] q^i$ - метод $k$ экспоненциально взвешенных ближайших соседей, где предполагается константа $q < 1$\n",
        "\n",
        "\n"
      ]
    },
    {
      "cell_type": "markdown",
      "metadata": {
        "id": "9O9wv47JPzIf"
      },
      "source": [
        "**Использование ядер сглаживания**\n",
        "\n",
        "Для избежания неоднозначности ответа при классификации в качестве весовой функции $w(i, u)$ используют функцию ядра $K(r)$\n",
        "\n",
        "Примеры ядер:\n",
        "\n",
        "Triangular: ${\\displaystyle K(r)=(1-|r|)}$,\n",
        "\n",
        "Parabolic: ${\\displaystyle K(r)={\\frac {3}{4}}(1-r^{2})}$,\n",
        "\n",
        "Tricube: ${\\displaystyle K(r)={\\frac {70}{81}}(1-{\\left|r\\right|}^{3})^{3}}$.\n",
        "\n",
        "**Метод парзеновского окна**\n",
        "\n",
        "Алгоритм $k$ ближайших соседей можно обобщить с помощью функции ядра. Рассмотрим два способа, которыми это можно сделать.\n",
        "\n",
        "Метод парзеновского окна фиксированной ширины  $h$:\n",
        "$$w(i,u) = K\\biggl(\\frac{\\rho(u,x_{i; u})}{h}\\biggr)$$\n",
        "\n",
        "Метод парзеновского окна переменной ширины:\n",
        "$$w(i,u) = K\\biggl(\\frac{\\rho(u,x_{i; u})}{\\rho(u,x_{k+1; u})}\\biggr)$$\n",
        "\n",
        "Таким образом классификаторы, полученные при использовании этих методов, можно записать в следующем виде\n",
        "\n",
        "Фиксированной ширины: $$a_h = a(u, X^m, \\boldsymbol{h}, K) = \\mathrm{arg}\\max_{y\\in Y} \\sum_{i=1}^m \\bigl[ y_{i; u}=y \\bigr] K\\biggl(\\frac{\\rho(u,x_{i; u})}{h}\\biggr)$$\n",
        "\n",
        "Переменной ширины (фиксированное число соседей):\n",
        "$$a_k = a(u, X^m, \\boldsymbol{k}, K) = \\mathrm{arg}\\max_{y\\in Y} \\sum_{i=1}^m \\bigl[ y_{i; u}=y \\bigr] K\\biggl(\\frac{\\rho(u,x_{i; u})}{\\rho(u,x_{k+1; u})}\\biggr)$$\n"
      ]
    },
    {
      "cell_type": "markdown",
      "metadata": {
        "id": "QChjKJIRPWty"
      },
      "source": [
        "# Задание 1 (7 баллов)\n",
        "\n",
        "В задании требуется написать свою реализацию метрического алгоритма.\n",
        "\n",
        "В качестве расстояния между объектами в этом задании используйте евклидово расстояние.\n",
        "\n",
        "В качестве функции ядра используйте Triangular."
      ]
    },
    {
      "cell_type": "markdown",
      "metadata": {
        "id": "F57T22yav-gp"
      },
      "source": [
        "Для выбора варианта, запустите код в следующей ячейке\n",
        "\n"
      ]
    },
    {
      "cell_type": "code",
      "metadata": {
        "id": "zFcuNXzcwMbH",
        "colab": {
          "base_uri": "https://localhost:8080/"
        },
        "outputId": "61a292d6-9785-4812-ad68-311826db9283"
      },
      "source": [
        "if (int(str(v)[5]) % 2) == 0:\n",
        "  print ('1.1 В алгоритме число соседей должно быть фиксированным. Настроить гиперпараметр k, для оценки качества использовать ROC-AUC')\n",
        "else:\n",
        "  print ('1.1 В алгоритме число соседей не должно быть фиксированным. Настроить гиперпараметр h (ширина окна), для оценки качества использовать использовать F1-меру')\n",
        "\n",
        "if (int(str(v)[5]) % 2) == 0:\n",
        "  print ('1.2 Построить график зависимости метрики качества на обучающей выборке от k')\n",
        "else:\n",
        "  print ('1.2 Построить график зависимости метрики качества на контрольной выборке от h')"
      ],
      "execution_count": null,
      "outputs": [
        {
          "output_type": "stream",
          "name": "stdout",
          "text": [
            "1.1 В алгоритме число соседей не должно быть фиксированным. Настроить гиперпараметр h (ширина окна), для оценки качества использовать использовать F1-меру\n",
            "1.2 Построить график зависимости метрики качества на контрольной выборке от h\n"
          ]
        }
      ]
    },
    {
      "cell_type": "markdown",
      "metadata": {
        "id": "ms_1FH-3S_7E"
      },
      "source": [
        "Протестирйуте эту реализацию на наборе данных breast_cancer:\n",
        "\n",
        "https://scikit-learn.org/stable/modules/generated/sklearn.datasets.load_breast_cancer.html"
      ]
    },
    {
      "cell_type": "code",
      "metadata": {
        "id": "gHGUZu8rLqa8"
      },
      "source": [
        "from sklearn.datasets import load_breast_cancer\n",
        "from sklearn.model_selection import train_test_split\n",
        "import numpy as np\n",
        "import pandas as pd\n",
        "import matplotlib.pyplot as plt"
      ],
      "execution_count": null,
      "outputs": []
    },
    {
      "cell_type": "code",
      "source": [
        "data = load_breast_cancer()\n",
        "print(data)\n",
        "def split_data(data, target, cnt):\n",
        "    idxs = np.random.shuffle(range(len(data)))\n",
        "\n",
        "    learnset_data = data[idxs[:-cnt]]\n",
        "    learnset_target = target[idxs[:-cnt]]\n",
        "    testset_data = data[idxs[-cnt:]]\n",
        "    testset_target = target[idxs[-cnt:]]\n",
        "    return learnset_data, learnset_target, testset_data, testset_target\n",
        "\n",
        "X_train, X_test, y_train, y_test = train_test_split(data.data, data.target)"
      ],
      "metadata": {
        "id": "B0XqdqCotg_p",
        "colab": {
          "base_uri": "https://localhost:8080/"
        },
        "outputId": "441c2722-1857-459d-876e-abb1eb46937d"
      },
      "execution_count": null,
      "outputs": [
        {
          "output_type": "stream",
          "name": "stdout",
          "text": [
            "{'data': array([[1.799e+01, 1.038e+01, 1.228e+02, ..., 2.654e-01, 4.601e-01,\n",
            "        1.189e-01],\n",
            "       [2.057e+01, 1.777e+01, 1.329e+02, ..., 1.860e-01, 2.750e-01,\n",
            "        8.902e-02],\n",
            "       [1.969e+01, 2.125e+01, 1.300e+02, ..., 2.430e-01, 3.613e-01,\n",
            "        8.758e-02],\n",
            "       ...,\n",
            "       [1.660e+01, 2.808e+01, 1.083e+02, ..., 1.418e-01, 2.218e-01,\n",
            "        7.820e-02],\n",
            "       [2.060e+01, 2.933e+01, 1.401e+02, ..., 2.650e-01, 4.087e-01,\n",
            "        1.240e-01],\n",
            "       [7.760e+00, 2.454e+01, 4.792e+01, ..., 0.000e+00, 2.871e-01,\n",
            "        7.039e-02]]), 'target': array([0, 0, 0, 0, 0, 0, 0, 0, 0, 0, 0, 0, 0, 0, 0, 0, 0, 0, 0, 1, 1, 1,\n",
            "       0, 0, 0, 0, 0, 0, 0, 0, 0, 0, 0, 0, 0, 0, 0, 1, 0, 0, 0, 0, 0, 0,\n",
            "       0, 0, 1, 0, 1, 1, 1, 1, 1, 0, 0, 1, 0, 0, 1, 1, 1, 1, 0, 1, 0, 0,\n",
            "       1, 1, 1, 1, 0, 1, 0, 0, 1, 0, 1, 0, 0, 1, 1, 1, 0, 0, 1, 0, 0, 0,\n",
            "       1, 1, 1, 0, 1, 1, 0, 0, 1, 1, 1, 0, 0, 1, 1, 1, 1, 0, 1, 1, 0, 1,\n",
            "       1, 1, 1, 1, 1, 1, 1, 0, 0, 0, 1, 0, 0, 1, 1, 1, 0, 0, 1, 0, 1, 0,\n",
            "       0, 1, 0, 0, 1, 1, 0, 1, 1, 0, 1, 1, 1, 1, 0, 1, 1, 1, 1, 1, 1, 1,\n",
            "       1, 1, 0, 1, 1, 1, 1, 0, 0, 1, 0, 1, 1, 0, 0, 1, 1, 0, 0, 1, 1, 1,\n",
            "       1, 0, 1, 1, 0, 0, 0, 1, 0, 1, 0, 1, 1, 1, 0, 1, 1, 0, 0, 1, 0, 0,\n",
            "       0, 0, 1, 0, 0, 0, 1, 0, 1, 0, 1, 1, 0, 1, 0, 0, 0, 0, 1, 1, 0, 0,\n",
            "       1, 1, 1, 0, 1, 1, 1, 1, 1, 0, 0, 1, 1, 0, 1, 1, 0, 0, 1, 0, 1, 1,\n",
            "       1, 1, 0, 1, 1, 1, 1, 1, 0, 1, 0, 0, 0, 0, 0, 0, 0, 0, 0, 0, 0, 0,\n",
            "       0, 0, 1, 1, 1, 1, 1, 1, 0, 1, 0, 1, 1, 0, 1, 1, 0, 1, 0, 0, 1, 1,\n",
            "       1, 1, 1, 1, 1, 1, 1, 1, 1, 1, 1, 0, 1, 1, 0, 1, 0, 1, 1, 1, 1, 1,\n",
            "       1, 1, 1, 1, 1, 1, 1, 1, 1, 0, 1, 1, 1, 0, 1, 0, 1, 1, 1, 1, 0, 0,\n",
            "       0, 1, 1, 1, 1, 0, 1, 0, 1, 0, 1, 1, 1, 0, 1, 1, 1, 1, 1, 1, 1, 0,\n",
            "       0, 0, 1, 1, 1, 1, 1, 1, 1, 1, 1, 1, 1, 0, 0, 1, 0, 0, 0, 1, 0, 0,\n",
            "       1, 1, 1, 1, 1, 0, 1, 1, 1, 1, 1, 0, 1, 1, 1, 0, 1, 1, 0, 0, 1, 1,\n",
            "       1, 1, 1, 1, 0, 1, 1, 1, 1, 1, 1, 1, 0, 1, 1, 1, 1, 1, 0, 1, 1, 0,\n",
            "       1, 1, 1, 1, 1, 1, 1, 1, 1, 1, 1, 1, 0, 1, 0, 0, 1, 0, 1, 1, 1, 1,\n",
            "       1, 0, 1, 1, 0, 1, 0, 1, 1, 0, 1, 0, 1, 1, 1, 1, 1, 1, 1, 1, 0, 0,\n",
            "       1, 1, 1, 1, 1, 1, 0, 1, 1, 1, 1, 1, 1, 1, 1, 1, 1, 0, 1, 1, 1, 1,\n",
            "       1, 1, 1, 0, 1, 0, 1, 1, 0, 1, 1, 1, 1, 1, 0, 0, 1, 0, 1, 0, 1, 1,\n",
            "       1, 1, 1, 0, 1, 1, 0, 1, 0, 1, 0, 0, 1, 1, 1, 0, 1, 1, 1, 1, 1, 1,\n",
            "       1, 1, 1, 1, 1, 0, 1, 0, 0, 1, 1, 1, 1, 1, 1, 1, 1, 1, 1, 1, 1, 1,\n",
            "       1, 1, 1, 1, 1, 1, 1, 1, 1, 1, 1, 1, 0, 0, 0, 0, 0, 0, 1]), 'frame': None, 'target_names': array(['malignant', 'benign'], dtype='<U9'), 'DESCR': '.. _breast_cancer_dataset:\\n\\nBreast cancer wisconsin (diagnostic) dataset\\n--------------------------------------------\\n\\n**Data Set Characteristics:**\\n\\n    :Number of Instances: 569\\n\\n    :Number of Attributes: 30 numeric, predictive attributes and the class\\n\\n    :Attribute Information:\\n        - radius (mean of distances from center to points on the perimeter)\\n        - texture (standard deviation of gray-scale values)\\n        - perimeter\\n        - area\\n        - smoothness (local variation in radius lengths)\\n        - compactness (perimeter^2 / area - 1.0)\\n        - concavity (severity of concave portions of the contour)\\n        - concave points (number of concave portions of the contour)\\n        - symmetry\\n        - fractal dimension (\"coastline approximation\" - 1)\\n\\n        The mean, standard error, and \"worst\" or largest (mean of the three\\n        worst/largest values) of these features were computed for each image,\\n        resulting in 30 features.  For instance, field 0 is Mean Radius, field\\n        10 is Radius SE, field 20 is Worst Radius.\\n\\n        - class:\\n                - WDBC-Malignant\\n                - WDBC-Benign\\n\\n    :Summary Statistics:\\n\\n    ===================================== ====== ======\\n                                           Min    Max\\n    ===================================== ====== ======\\n    radius (mean):                        6.981  28.11\\n    texture (mean):                       9.71   39.28\\n    perimeter (mean):                     43.79  188.5\\n    area (mean):                          143.5  2501.0\\n    smoothness (mean):                    0.053  0.163\\n    compactness (mean):                   0.019  0.345\\n    concavity (mean):                     0.0    0.427\\n    concave points (mean):                0.0    0.201\\n    symmetry (mean):                      0.106  0.304\\n    fractal dimension (mean):             0.05   0.097\\n    radius (standard error):              0.112  2.873\\n    texture (standard error):             0.36   4.885\\n    perimeter (standard error):           0.757  21.98\\n    area (standard error):                6.802  542.2\\n    smoothness (standard error):          0.002  0.031\\n    compactness (standard error):         0.002  0.135\\n    concavity (standard error):           0.0    0.396\\n    concave points (standard error):      0.0    0.053\\n    symmetry (standard error):            0.008  0.079\\n    fractal dimension (standard error):   0.001  0.03\\n    radius (worst):                       7.93   36.04\\n    texture (worst):                      12.02  49.54\\n    perimeter (worst):                    50.41  251.2\\n    area (worst):                         185.2  4254.0\\n    smoothness (worst):                   0.071  0.223\\n    compactness (worst):                  0.027  1.058\\n    concavity (worst):                    0.0    1.252\\n    concave points (worst):               0.0    0.291\\n    symmetry (worst):                     0.156  0.664\\n    fractal dimension (worst):            0.055  0.208\\n    ===================================== ====== ======\\n\\n    :Missing Attribute Values: None\\n\\n    :Class Distribution: 212 - Malignant, 357 - Benign\\n\\n    :Creator:  Dr. William H. Wolberg, W. Nick Street, Olvi L. Mangasarian\\n\\n    :Donor: Nick Street\\n\\n    :Date: November, 1995\\n\\nThis is a copy of UCI ML Breast Cancer Wisconsin (Diagnostic) datasets.\\nhttps://goo.gl/U2Uwz2\\n\\nFeatures are computed from a digitized image of a fine needle\\naspirate (FNA) of a breast mass.  They describe\\ncharacteristics of the cell nuclei present in the image.\\n\\nSeparating plane described above was obtained using\\nMultisurface Method-Tree (MSM-T) [K. P. Bennett, \"Decision Tree\\nConstruction Via Linear Programming.\" Proceedings of the 4th\\nMidwest Artificial Intelligence and Cognitive Science Society,\\npp. 97-101, 1992], a classification method which uses linear\\nprogramming to construct a decision tree.  Relevant features\\nwere selected using an exhaustive search in the space of 1-4\\nfeatures and 1-3 separating planes.\\n\\nThe actual linear program used to obtain the separating plane\\nin the 3-dimensional space is that described in:\\n[K. P. Bennett and O. L. Mangasarian: \"Robust Linear\\nProgramming Discrimination of Two Linearly Inseparable Sets\",\\nOptimization Methods and Software 1, 1992, 23-34].\\n\\nThis database is also available through the UW CS ftp server:\\n\\nftp ftp.cs.wisc.edu\\ncd math-prog/cpo-dataset/machine-learn/WDBC/\\n\\n.. topic:: References\\n\\n   - W.N. Street, W.H. Wolberg and O.L. Mangasarian. Nuclear feature extraction \\n     for breast tumor diagnosis. IS&T/SPIE 1993 International Symposium on \\n     Electronic Imaging: Science and Technology, volume 1905, pages 861-870,\\n     San Jose, CA, 1993.\\n   - O.L. Mangasarian, W.N. Street and W.H. Wolberg. Breast cancer diagnosis and \\n     prognosis via linear programming. Operations Research, 43(4), pages 570-577, \\n     July-August 1995.\\n   - W.H. Wolberg, W.N. Street, and O.L. Mangasarian. Machine learning techniques\\n     to diagnose breast cancer from fine-needle aspirates. Cancer Letters 77 (1994) \\n     163-171.', 'feature_names': array(['mean radius', 'mean texture', 'mean perimeter', 'mean area',\n",
            "       'mean smoothness', 'mean compactness', 'mean concavity',\n",
            "       'mean concave points', 'mean symmetry', 'mean fractal dimension',\n",
            "       'radius error', 'texture error', 'perimeter error', 'area error',\n",
            "       'smoothness error', 'compactness error', 'concavity error',\n",
            "       'concave points error', 'symmetry error',\n",
            "       'fractal dimension error', 'worst radius', 'worst texture',\n",
            "       'worst perimeter', 'worst area', 'worst smoothness',\n",
            "       'worst compactness', 'worst concavity', 'worst concave points',\n",
            "       'worst symmetry', 'worst fractal dimension'], dtype='<U23'), 'filename': 'breast_cancer.csv', 'data_module': 'sklearn.datasets.data'}\n",
            "[[1.051e+01 2.309e+01 6.685e+01 ... 3.125e-02 2.227e-01 6.777e-02]\n",
            " [2.029e+01 1.434e+01 1.351e+02 ... 1.625e-01 2.364e-01 7.678e-02]\n",
            " [1.168e+01 1.617e+01 7.549e+01 ... 9.815e-02 2.804e-01 8.024e-02]\n",
            " ...\n",
            " [1.953e+01 3.247e+01 1.280e+02 ... 1.625e-01 2.713e-01 7.568e-02]\n",
            " [1.585e+01 2.395e+01 1.037e+02 ... 1.119e-01 2.809e-01 6.287e-02]\n",
            " [1.200e+01 1.565e+01 7.695e+01 ... 7.632e-02 3.379e-01 7.924e-02]]\n",
            "[1 0 1 1 1 1 1 1 0 0 1 1 0 1 1 1 1 0 0 1 1 1 1 1 1 0 1 1 0 1 0 0 0 1 1 1 1\n",
            " 1 1 1 1 1 1 1 1 1 1 1 0 0 0 1 1 0 0 1 0 0 0 1 1 0 1 1 1 1 0 0 0 1 0 1 0 1\n",
            " 0 0 1 1 1 1 1 1 1 0 1 0 1 0 0 1 1 0 0 1 1 0 0 0 0 1 1 1 0 1 0 0 1 1 1 1 0\n",
            " 0 0 0 1 1 1 0 0 1 0 1 0 1 1 0 0 1 0 0 1 1 0 0 1 1 0 1 1 0 1 1 1 1 0 0 1 1\n",
            " 1 1 1 1 0 1 1 0 1 0 1 1 0 0 1 1 0 1 1 1 0 1 1 0 1 0 1 1 0 0 1 1 1 0 1 1 1\n",
            " 1 1 1 1 1 0 1 1 0 1 0 1 1 0 1 1 0 1 1 1 1 0 0 0 0 0 1 0 1 1 1 1 1 0 0 1 0\n",
            " 1 1 0 0 1 0 1 0 1 0 1 0 1 1 0 1 1 0 0 1 1 0 1 0 1 0 1 0 1 1 1 1 0 1 0 0 1\n",
            " 1 1 1 1 1 0 1 1 0 1 1 1 0 0 0 1 0 0 1 1 1 1 0 1 1 1 0 1 0 1 1 1 1 0 0 1 0\n",
            " 1 0 1 0 0 1 1 0 0 1 0 1 0 1 0 0 0 1 1 1 0 0 1 0 0 0 1 0 1 1 1 0 1 1 0 1 0\n",
            " 0 1 0 0 1 1 1 1 1 1 1 1 1 1 1 0 1 1 1 0 1 0 1 1 1 0 0 1 1 1 1 1 1 0 0 1 0\n",
            " 1 1 1 1 0 1 1 1 1 0 1 1 1 0 1 0 1 1 0 0 0 1 0 0 0 0 1 1 1 1 1 1 1 1 1 0 0\n",
            " 1 0 0 1 1 1 1 1 0 1 1 0 1 1 1 0 0 0 1]\n"
          ]
        }
      ]
    },
    {
      "cell_type": "code",
      "source": [
        "# использовать метрику парзеновского окна (F1 мера)\n",
        "# график зависимости от h\n",
        "import numpy as np\n",
        "from collections import Counter\n",
        "from sklearn.neighbors import LocalOutlierFactor\n",
        "from sklearn.metrics import f1_score\n",
        "\n",
        "h_list = []\n",
        "f1_list = []\n",
        "\n",
        "# Евклидово расстояние между двумя объектами\n",
        "def xy_distance(a, b):\n",
        "  return np.linalg.norm(a - b)\n",
        "\n",
        "# триангулярное ядро сглаживания\n",
        "def triangular(r):\n",
        "      return 1 - abs(r)\n",
        "\n",
        "class KNN:\n",
        "  def __init__(self, k=1, h=1):\n",
        "      self.k = k\n",
        "      self.h = h\n",
        "\n",
        "\n",
        "  def _minmax_normalize_data(self, X):\n",
        "    # Вычисление минимального и максимального значения для каждого признака\n",
        "    min_val = np.min(X, axis=0)\n",
        "    max_val = np.max(X, axis=0)\n",
        "\n",
        "    # Минмаксная нормализация данных\n",
        "    normalized_X = (X - min_val) / (max_val - min_val)\n",
        "\n",
        "    return normalized_X\n",
        "\n",
        "\n",
        "  def _count_errors(self, array1, array2):\n",
        "      count = 0\n",
        "\n",
        "      for i in range(len(array1)):\n",
        "          if array1[i] != array2[i]:\n",
        "              count += 1\n",
        "      return count\n",
        "\n",
        "  # избавление от шумовых и неинформативных объектов\n",
        "  def _clean_dataset(self):\n",
        "      df = pd.concat((pd.DataFrame(self.X_train), pd.Series(self.y_train, name='target')), axis='columns')\n",
        "\n",
        "      df.drop_duplicates(inplace=True) # убираем дубликаты\n",
        "      df.dropna(thresh=df.shape[1]*0.5, inplace=True) # Удаляем строки с более чем 50% отсутствующих значений\n",
        "\n",
        "      self.y_train = np.array(df['target'])\n",
        "      self.X_train = np.array(df.drop(columns=df.columns[-1],  axis=1))\n",
        "\n",
        "  # Удаление выбросов из датасета обучения\n",
        "  def _delete_outliers(self):\n",
        "      lof = LocalOutlierFactor(n_neighbors=self.k)\n",
        "\n",
        "      outliers = lof.fit_predict(self.X_train) == -1\n",
        "\n",
        "      self.X_train = self.X_train[~outliers]\n",
        "      self.y_train = self.y_train[~outliers]\n",
        "\n",
        "\n",
        "  # подбор ширины парзеновского окна\n",
        "  def _choose_h(self):\n",
        "      max_h = len(self.X_train[0])\n",
        "      chosen_h = 0\n",
        "      max_F1score = 0\n",
        "      for i in range(1, max_h + 1):\n",
        "        self.h = i\n",
        "        F1score = f1_score(self.predict(self.X_train, normalise=False), self.y_train)\n",
        "\n",
        "        h_list.append(self.h)\n",
        "\n",
        "        f1_list.append(F1score)\n",
        "        if (max_F1score <= F1score):\n",
        "            max_F1score = F1score\n",
        "            chosen_h = i\n",
        "\n",
        "      self.h = chosen_h\n",
        "\n",
        "  def fit(self, X, y):\n",
        "      self.X_train = self._minmax_normalize_data(X) # нормализация данных\n",
        "      self.y_train = y\n",
        "      self._clean_dataset()\n",
        "      self._choose_h()\n",
        "      self._delete_outliers()\n",
        "\n",
        "  def predict(self, X, normalise=True):\n",
        "      X_for_prediction = X\n",
        "      if (normalise == True):\n",
        "        X_for_prediction = self._minmax_normalize_data(X) # нормализация данных\n",
        "\n",
        "      predictions = [self._predict(x) for x in X_for_prediction]\n",
        "      return predictions\n",
        "\n",
        "  def _predict(self, x):\n",
        "      class_count = {}\n",
        "\n",
        "      for i in range(len(self.X_train)):\n",
        "          '''distance = triangular(distance(x, self.X_train[i]))\n",
        "          weight = (1 / (np.sqrt(2 * np.pi) * self.h)) * np.exp(-0.5 * ((distance / self.h) ** 2))'''\n",
        "          weight = triangular(xy_distance(x, self.X_train[i]) / self.h)\n",
        "          '''distance = triangular(xy_distance(x, self.X_train[i]))\n",
        "          weight = (1 / (np.sqrt(2 * np.pi) * self.h)) * np.exp(-0.5 * ((distance / self.h) ** 2))'''\n",
        "          label = self.y_train[i]\n",
        "\n",
        "          # Обновляем счетчики классов с учетом веса\n",
        "          if label in class_count:\n",
        "              class_count[label] += weight\n",
        "          else:\n",
        "              class_count[label] = weight\n",
        "\n",
        "      # Находим класс с максимальным счетчиком\n",
        "      max_count = 0\n",
        "      max_label = None\n",
        "      for label, count in class_count.items():\n",
        "          if count > max_count:\n",
        "              max_count = count\n",
        "              max_label = label\n",
        "\n",
        "      return max_label if max_label is not None else max(class_count)"
      ],
      "metadata": {
        "id": "5efRcsUn94lc"
      },
      "execution_count": null,
      "outputs": []
    },
    {
      "cell_type": "code",
      "source": [
        "knn = KNN()\n",
        "knn.fit(X_train, y_train)\n",
        "print(knn.predict(X_test))\n",
        "print(y_test)"
      ],
      "metadata": {
        "colab": {
          "base_uri": "https://localhost:8080/"
        },
        "id": "-AwdwbHdB7ME",
        "outputId": "09613f24-3e96-4c8d-c3a7-58141455e7e3"
      },
      "execution_count": null,
      "outputs": [
        {
          "output_type": "stream",
          "name": "stdout",
          "text": [
            "[1, 1, 1, 1, 1, 1, 1, 1, 0, 1, 1, 1, 1, 1, 1, 1, 0, 1, 1, 1, 1, 1, 1, 1, 1, 1, 1, 1, 1, 1, 1, 1, 1, 1, 1, 1, 1, 1, 1, 1, 1, 1, 1, 0, 1, 1, 1, 1, 1, 1, 1, 0, 1, 1, 1, 0, 1, 1, 1, 1, 1, 0, 1, 1, 1, 1, 1, 1, 1, 1, 1, 1, 1, 0, 1, 1, 1, 1, 1, 1, 0, 1, 0, 1, 1, 1, 1, 1, 1, 1, 0, 1, 1, 1, 1, 1, 0, 1, 1, 1, 1, 1, 1, 1, 1, 1, 1, 1, 1, 1, 1, 1, 1, 1, 1, 1, 1, 1, 1, 0, 1, 1, 1, 1, 1, 0, 1, 1, 1, 1, 1, 1, 1, 1, 1, 1, 1, 1, 1, 1, 1, 1, 1]\n",
            "[1 1 0 1 1 0 1 0 0 1 1 1 1 1 1 1 0 1 1 1 1 0 1 1 1 1 0 0 1 1 0 0 1 1 1 0 0\n",
            " 0 1 1 1 1 0 0 1 1 0 1 0 0 1 0 1 0 1 0 0 1 1 1 1 0 1 1 1 0 1 0 1 1 0 1 0 0\n",
            " 1 1 1 1 1 1 0 1 0 1 0 0 0 1 0 1 0 0 1 1 1 1 0 0 0 1 1 0 1 1 1 1 1 0 0 1 1\n",
            " 1 1 1 1 0 0 0 1 0 1 1 1 1 1 0 0 1 1 1 1 1 1 1 1 1 1 1 1 1 0 1 1]\n"
          ]
        }
      ]
    },
    {
      "cell_type": "code",
      "source": [
        "import matplotlib.pyplot as plt\n",
        "plt.plot(h_list, f1_list)\n",
        "plt.title(\"Зависимость f1score от h\")\n",
        "plt.xlabel(\"h\")\n",
        "plt.ylabel(\"f1\")"
      ],
      "metadata": {
        "colab": {
          "base_uri": "https://localhost:8080/",
          "height": 489
        },
        "id": "PCClD1rPGota",
        "outputId": "e70b2f93-d75d-4391-a1bf-9c5b166d396d"
      },
      "execution_count": null,
      "outputs": [
        {
          "output_type": "execute_result",
          "data": {
            "text/plain": [
              "Text(0, 0.5, 'f1')"
            ]
          },
          "metadata": {},
          "execution_count": 51
        },
        {
          "output_type": "display_data",
          "data": {
            "text/plain": [
              "<Figure size 640x480 with 1 Axes>"
            ],
            "image/png": "[encoded data removed]"
          },
          "metadata": {}
        }
      ]
    },
    {
      "cell_type": "code",
      "source": [
        "print(knn.h)"
      ],
      "metadata": {
        "colab": {
          "base_uri": "https://localhost:8080/"
        },
        "id": "DJFUF21OHnG_",
        "outputId": "aeedf7ac-1411-43cb-eed0-19d640aa7f75"
      },
      "execution_count": null,
      "outputs": [
        {
          "output_type": "stream",
          "name": "stdout",
          "text": [
            "1\n"
          ]
        }
      ]
    },
    {
      "cell_type": "markdown",
      "source": [
        "Может потребоваться предобработка данных"
      ],
      "metadata": {
        "id": "-FjuFgFs3kDw"
      }
    },
    {
      "cell_type": "markdown",
      "metadata": {
        "id": "XL9H9vXATHcc"
      },
      "source": [
        "Штрафы:\n",
        "* отсутствие реализации алгоритма (4 балла)\n",
        "* ошибки в реализации алгоритма (2 балла)\n",
        "* отсутствие настройки гиперпараметра (2 балла)\n",
        "* ошибки в настройке гиперпараметра (1 балл)\n",
        "* отсутствие графика (1 балл)"
      ]
    },
    {
      "cell_type": "markdown",
      "metadata": {
        "id": "Mz4rsFhALqbJ"
      },
      "source": [
        "# Задание 2 (4 балла)"
      ]
    },
    {
      "cell_type": "markdown",
      "metadata": {
        "id": "EHdzuZj-3dsF"
      },
      "source": [
        "Требуется реализовать метрический алгоритм для предсказания действительного числа (то есть как в задаче регрессии, а не как в задаче классификации).\n",
        "\n",
        "В задании 2 не используйте ядра и метод парзеновского окна."
      ]
    },
    {
      "cell_type": "markdown",
      "metadata": {
        "id": "gOM9Kj8pLqbS"
      },
      "source": [
        "Во этом задании в качестве исходных данных используется словарь кинокритиков и выставленных ими оценок"
      ]
    },
    {
      "cell_type": "code",
      "metadata": {
        "id": "ENkh6Gr98Pit"
      },
      "source": [
        "critics={'Lisa Rose': {'Lady in the Water': 2.5, 'Snakes on a Plane': 3.5,\n",
        " 'Just My Luck': 3.0, 'Superman Returns': 3.5, 'You, Me and Dupree': 2.5,\n",
        " 'The Night Listener': 3.0},\n",
        "'Gene Seymour': {'Lady in the Water': 3.0, 'Snakes on a Plane': 3.5,\n",
        " 'Just My Luck': 1.5, 'Superman Returns': 5.0, 'The Night Listener': 3.0,\n",
        " 'You, Me and Dupree': 3.5},\n",
        "'Michael Phillips': {'Lady in the Water': 2.5, 'Snakes on a Plane': 3.0,\n",
        " 'Superman Returns': 3.5, 'The Night Listener': 4.0},\n",
        "'Claudia Puig': {'Snakes on a Plane': 3.5, 'Just My Luck': 3.0,\n",
        " 'The Night Listener': 4.5, 'Superman Returns': 4.0,\n",
        " 'You, Me and Dupree': 2.5},\n",
        "'Mick LaSalle': {'Lady in the Water': 3.0, 'Snakes on a Plane': 4.0,\n",
        " 'Just My Luck': 2.0, 'Superman Returns': 3.0, 'The Night Listener': 3.0,\n",
        " 'You, Me and Dupree': 2.0},\n",
        "'Jack Matthews': {'Lady in the Water': 3.0, 'Snakes on a Plane': 4.0,\n",
        " 'The Night Listener': 3.0, 'Superman Returns': 5.0, 'You, Me and Dupree': 3.5},\n",
        "'Toby': {'Snakes on a Plane':4.5,'You, Me and Dupree':1.0,'Superman Returns':4.0}}"
      ],
      "execution_count": null,
      "outputs": []
    },
    {
      "cell_type": "markdown",
      "metadata": {
        "id": "MVfEyvFj019l"
      },
      "source": [
        "По этому словарю нужно сделать Dataframe в pandas. Строки - это критики, столбцы - названия фильмов. На пересечении поставленные оценки. При отсуствии оценки у критика за фильм в датафрейме нужно поставить 0."
      ]
    },
    {
      "cell_type": "code",
      "source": [
        "critics_df = pd.DataFrame(critics).T.fillna(0)\n",
        "print(critics_df)"
      ],
      "metadata": {
        "colab": {
          "base_uri": "https://localhost:8080/"
        },
        "id": "bR0m5aa1IZzK",
        "outputId": "8ec9ea8e-856d-43f0-c77a-b521724cd69f"
      },
      "execution_count": null,
      "outputs": [
        {
          "output_type": "stream",
          "name": "stdout",
          "text": [
            "                  Lady in the Water  Snakes on a Plane  Just My Luck  \\\n",
            "Lisa Rose                       2.5                3.5           3.0   \n",
            "Gene Seymour                    3.0                3.5           1.5   \n",
            "Michael Phillips                2.5                3.0           0.0   \n",
            "Claudia Puig                    0.0                3.5           3.0   \n",
            "Mick LaSalle                    3.0                4.0           2.0   \n",
            "Jack Matthews                   3.0                4.0           0.0   \n",
            "Toby                            0.0                4.5           0.0   \n",
            "\n",
            "                  Superman Returns  You, Me and Dupree  The Night Listener  \n",
            "Lisa Rose                      3.5                 2.5                 3.0  \n",
            "Gene Seymour                   5.0                 3.5                 3.0  \n",
            "Michael Phillips               3.5                 0.0                 4.0  \n",
            "Claudia Puig                   4.0                 2.5                 4.5  \n",
            "Mick LaSalle                   3.0                 2.0                 3.0  \n",
            "Jack Matthews                  5.0                 3.5                 3.0  \n",
            "Toby                           4.0                 1.0                 0.0  \n"
          ]
        }
      ]
    },
    {
      "cell_type": "code",
      "source": [
        "# реализация kNN\n",
        "import numpy as np\n",
        "from collections import Counter\n",
        "from sklearn.neighbors import LocalOutlierFactor\n",
        "from sklearn.decomposition import PCA\n",
        "import statistics\n",
        "\n",
        "def distance(a, b):\n",
        "  return np.linalg.norm(a - b)\n",
        "\n",
        "class KNN:\n",
        "  def __init__(self, k=1):\n",
        "      self.k = k\n",
        "\n",
        "\n",
        "  def _minmax_normalize_data(self, X):\n",
        "    min_val = np.min(X, axis=0)\n",
        "    max_val = np.max(X, axis=0)\n",
        "    normalized_X = (X - min_val) / (max_val - min_val)\n",
        "\n",
        "    return normalized_X\n",
        "\n",
        "\n",
        "  '''# первый выбор k - нечётный корень числа сэмплов\n",
        "  def _choose_k(self):\n",
        "      self.k = np.sqrt(len(self.X_train))\n",
        "\n",
        "      self.k = round(np.sqrt(self.k))\n",
        "\n",
        "      if self.k % 2 == 0:\n",
        "          if self.k > np.sqrt(len(self.X_train)):\n",
        "              self.k -= 1\n",
        "          else:\n",
        "              self.k += 1'''\n",
        "\n",
        "  def _count_errors(self, array1, array2):\n",
        "      count = 0\n",
        "\n",
        "      for i in range(len(array1)):\n",
        "          if array1[i] != array2[i]:\n",
        "              count += 1\n",
        "      return count\n",
        "\n",
        "  # подбор k\n",
        "  def _choose_k(self):\n",
        "      max_k = len(self.X_train[0])\n",
        "      chosen_k = 0\n",
        "      min_errors = len(self.X_train) + 1\n",
        "      for i in range(1, max_k + 1):\n",
        "        self.k = i\n",
        "        errors_count = self._count_errors(self.predict(self.X_train, normalise=False), self.y_train)\n",
        "        if (min_errors > errors_count):\n",
        "            min_errors = errors_count\n",
        "            chosen_k = i\n",
        "\n",
        "      self.k = chosen_k\n",
        "\n",
        "\n",
        "  def _clean_dataset(self):\n",
        "      df = pd.concat((pd.DataFrame(self.X_train), pd.Series(self.y_train, name='target')), axis='columns')\n",
        "\n",
        "      df.drop_duplicates(inplace=True)\n",
        "      df.dropna(thresh=df.shape[1]*0.5, inplace=True)\n",
        "\n",
        "      self.y_train = np.array(df['target'])\n",
        "      self.X_train = np.array(df.drop(columns=df.columns[-1],  axis=1))\n",
        "\n",
        "  def _delete_outliers(self):\n",
        "      lof = LocalOutlierFactor(n_neighbors=self.k)\n",
        "\n",
        "      outliers = lof.fit_predict(self.X_train) == -1\n",
        "\n",
        "      self.X_train = self.X_train[~outliers]\n",
        "      self.y_train = self.y_train[~outliers]\n",
        "\n",
        "\n",
        "\n",
        "  def fit(self, X, y):\n",
        "      self.X_train = self._minmax_normalize_data(X)\n",
        "      self.y_train = y\n",
        "      self._clean_dataset()\n",
        "      self._choose_k()\n",
        "      self._delete_outliers()\n",
        "\n",
        "  def predict(self, X, normalise=True):\n",
        "      X_for_prediction = X\n",
        "      if (normalise == True):\n",
        "        X_for_prediction = self._minmax_normalize_data(X)\n",
        "\n",
        "      predictions = [self._predict(x) for x in X_for_prediction]\n",
        "      return predictions\n",
        "\n",
        "  def _predict(self, x):\n",
        "      # вычисляем расстояние\n",
        "      distances = [distance(x, x_train) for x_train in self.X_train]\n",
        "\n",
        "      # получаем k ближайших cоседей\n",
        "      k_indices = np.argsort(distances)[:self.k]\n",
        "      k_neighbours = [self.y_train[i] for i in k_indices]\n",
        "\n",
        "      return statistics.mean(k_neighbours)\n",
        "\n"
      ],
      "metadata": {
        "id": "QyORtBuVI4xS"
      },
      "execution_count": null,
      "outputs": []
    },
    {
      "cell_type": "markdown",
      "metadata": {
        "id": "xakj7Hul1jMp"
      },
      "source": [
        "Для выбора варианта, запустите код в следующей ячейке"
      ]
    },
    {
      "cell_type": "code",
      "metadata": {
        "id": "fvyYCARr1gLt",
        "colab": {
          "base_uri": "https://localhost:8080/"
        },
        "outputId": "8b660547-72bb-44c9-df1c-1f05ad67b852"
      },
      "source": [
        "if (int(str(v)[4]) % 2) == 0:\n",
        "  print ('2.1 Сделайте предсказание оценок для критика Toby по фильмам, которые он ещё не видел')\n",
        "else:\n",
        "  print ('2.1 Сделайте предсказание оценок для фильма You, Me and Dupree по критикам, которые его ещё не видели')\n",
        "print ('2.2 Объясните как оценить качество полученного предказания')"
      ],
      "execution_count": null,
      "outputs": [
        {
          "output_type": "stream",
          "name": "stdout",
          "text": [
            "2.1 Сделайте предсказание оценок для фильма You, Me and Dupree по критикам, которые его ещё не видели\n",
            "2.2 Объясните как оценить качество полученного предказания\n"
          ]
        }
      ]
    },
    {
      "cell_type": "code",
      "source": [
        "import pandas as pd"
      ],
      "metadata": {
        "id": "lC63LXE0e-H0"
      },
      "execution_count": null,
      "outputs": []
    },
    {
      "cell_type": "code",
      "source": [
        "target_name = 'You, Me and Dupree'\n",
        "\n",
        "data_test = critics_df.loc[critics_df[target_name] == 0]\n",
        "print(data_test)"
      ],
      "metadata": {
        "id": "GqTtJ2qx3HCB",
        "colab": {
          "base_uri": "https://localhost:8080/"
        },
        "outputId": "6408df0e-704e-459a-9078-55097e030612"
      },
      "execution_count": null,
      "outputs": [
        {
          "output_type": "stream",
          "name": "stdout",
          "text": [
            "                  Lady in the Water  Snakes on a Plane  Just My Luck  \\\n",
            "Michael Phillips                2.5                3.0           0.0   \n",
            "\n",
            "                  Superman Returns  You, Me and Dupree  The Night Listener  \n",
            "Michael Phillips               3.5                 0.0                 4.0  \n"
          ]
        }
      ]
    },
    {
      "cell_type": "code",
      "source": [
        "data_train = critics_df[critics_df[target_name] > 0]\n",
        "print(data_train)"
      ],
      "metadata": {
        "colab": {
          "base_uri": "https://localhost:8080/"
        },
        "id": "kxpGcDN4K4Di",
        "outputId": "83132518-477a-4e30-fc56-1ff8d572003f"
      },
      "execution_count": null,
      "outputs": [
        {
          "output_type": "stream",
          "name": "stdout",
          "text": [
            "               Lady in the Water  Snakes on a Plane  Just My Luck  \\\n",
            "Lisa Rose                    2.5                3.5           3.0   \n",
            "Gene Seymour                 3.0                3.5           1.5   \n",
            "Claudia Puig                 0.0                3.5           3.0   \n",
            "Mick LaSalle                 3.0                4.0           2.0   \n",
            "Jack Matthews                3.0                4.0           0.0   \n",
            "Toby                         0.0                4.5           0.0   \n",
            "\n",
            "               Superman Returns  You, Me and Dupree  The Night Listener  \n",
            "Lisa Rose                   3.5                 2.5                 3.0  \n",
            "Gene Seymour                5.0                 3.5                 3.0  \n",
            "Claudia Puig                4.0                 2.5                 4.5  \n",
            "Mick LaSalle                3.0                 2.0                 3.0  \n",
            "Jack Matthews               5.0                 3.5                 3.0  \n",
            "Toby                        4.0                 1.0                 0.0  \n"
          ]
        }
      ]
    },
    {
      "cell_type": "code",
      "source": [
        "X_train, y_train = data_train.drop(labels=target_name, axis=1).values.tolist(), data_train[target_name].values.tolist()\n",
        "X_test = data_test.drop(labels=target_name, axis=1).values.tolist()"
      ],
      "metadata": {
        "id": "SaGlbLacLnp1"
      },
      "execution_count": null,
      "outputs": []
    },
    {
      "cell_type": "code",
      "source": [
        "print(y_train)"
      ],
      "metadata": {
        "colab": {
          "base_uri": "https://localhost:8080/"
        },
        "id": "hm9TP-B2MQNT",
        "outputId": "d1a745dd-95a4-42d3-8952-edee500a7a79"
      },
      "execution_count": null,
      "outputs": [
        {
          "output_type": "stream",
          "name": "stdout",
          "text": [
            "[2.5, 3.5, 2.5, 2.0, 3.5, 1.0]\n"
          ]
        }
      ]
    },
    {
      "cell_type": "code",
      "source": [
        "knn = KNN()\n",
        "knn.fit(X_train, y_train)\n",
        "print('Michael Phillips', knn.predict(X_test))"
      ],
      "metadata": {
        "colab": {
          "base_uri": "https://localhost:8080/"
        },
        "id": "4GmLWd0zLfSR",
        "outputId": "b0acaa34-5f2b-46d5-e67d-439288c4a022"
      },
      "execution_count": null,
      "outputs": [
        {
          "output_type": "stream",
          "name": "stdout",
          "text": [
            "Michael Phillips [2.5]\n"
          ]
        },
        {
          "output_type": "stream",
          "name": "stderr",
          "text": [
            "<ipython-input-66-8143a8ef1c7f>:22: RuntimeWarning: invalid value encountered in divide\n",
            "  normalized_X = (X - min_val) / (max_val - min_val)\n"
          ]
        }
      ]
    },
    {
      "cell_type": "markdown",
      "source": [
        "Подбор k и оценка качества алгоритма проводилась с помощью подсчёта количества ошибок для объектов тестовой выборки (поиск такого количества соседей, чтобы ошибка была минимальной)"
      ],
      "metadata": {
        "id": "vy77VZ5CNeJh"
      }
    },
    {
      "cell_type": "markdown",
      "metadata": {
        "id": "1lBTspUZFqWL"
      },
      "source": [
        "Штрафы:\n",
        "* отсутствие реализации алгоритма (2 балла)\n",
        "* ошибки в реализации алгоритма (1 балл)\n",
        "* отсутствие тестирования алгоритма (1 балл)\n",
        "* отсутствие объяснения оценки качества алгоритма (1 балл)"
      ]
    },
    {
      "cell_type": "markdown",
      "metadata": {
        "id": "v_oFki5H3_vy"
      },
      "source": [
        "После завершения контрольной работы, дайте ссылку на ноутбук в отдельном followup discussion в своей теме на Piazza. Дайте разрешение на его просмотр.\n",
        "\n",
        "Не забудьте запустить код в последней ячейке для контроля времени выполнения."
      ]
    },
    {
      "cell_type": "code",
      "metadata": {
        "id": "HncJvMmo35Kv",
        "colab": {
          "base_uri": "https://localhost:8080/"
        },
        "outputId": "76425964-cec1-4b1c-accd-e2e5a3151b8e"
      },
      "source": [
        "current_datetime = datetime.now()\n",
        "print(current_datetime)"
      ],
      "execution_count": null,
      "outputs": [
        {
          "output_type": "stream",
          "name": "stdout",
          "text": [
            "2023-10-27 08:25:17.875708\n"
          ]
        }
      ]
    }
  ]
}