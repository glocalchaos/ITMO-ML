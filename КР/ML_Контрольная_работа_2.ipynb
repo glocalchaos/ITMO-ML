{
  "nbformat": 4,
  "nbformat_minor": 0,
  "metadata": {
    "kernelspec": {
      "display_name": "Python 3",
      "language": "python",
      "name": "python3"
    },
    "language_info": {
      "codemirror_mode": {
        "name": "ipython",
        "version": 3
      },
      "file_extension": ".py",
      "mimetype": "text/x-python",
      "name": "python",
      "nbconvert_exporter": "python",
      "pygments_lexer": "ipython3",
      "version": "3.6.5"
    },
    "toc": {
      "base_numbering": 1,
      "nav_menu": {},
      "number_sections": true,
      "sideBar": true,
      "skip_h1_title": false,
      "title_cell": "Table of Contents",
      "title_sidebar": "Contents",
      "toc_cell": false,
      "toc_position": {},
      "toc_section_display": true,
      "toc_window_display": false
    },
    "colab": {
      "provenance": []
    },
    "accelerator": "GPU",
    "gpuClass": "standard"
  },
  "cells": [
    {
      "cell_type": "markdown",
      "metadata": {
        "id": "LYKqDli0Lqas"
      },
      "source": [
        "# Рубежная контрольная работа\n",
        "\n",
        "Эту работу выполнять не обязательно. Баллы, набранные за работу, просуммируются с баллами, которые были набраны за контрольную работу 1, и будут выставлены как оценка за промежуточную аттестацию \"автоматом\"."
      ]
    },
    {
      "cell_type": "markdown",
      "metadata": {
        "id": "Cdt8kOfu4K3x"
      },
      "source": [
        "Сделайте копию ноутбука.\n",
        "\n",
        "Присвойте переменной `v` значение - свой табельный номер ИСУ, это нужно для определения вашего варианта. Запустите код в следующей ячейке."
      ]
    },
    {
      "cell_type": "code",
      "metadata": {
        "id": "38Ryn8pjvYqb",
        "colab": {
          "base_uri": "https://localhost:8080/"
        },
        "outputId": "9df98a61-9188-414c-eff6-78a9f65bdc3b"
      },
      "source": [
        "from datetime import datetime\n",
        "current_datetime = datetime.now()\n",
        "print(current_datetime)\n",
        "v = 336071 # по умолчанию вписан мой номер"
      ],
      "execution_count": null,
      "outputs": [
        {
          "output_type": "stream",
          "name": "stdout",
          "text": [
            "2023-12-15 08:10:25.801246\n"
          ]
        }
      ]
    },
    {
      "cell_type": "markdown",
      "metadata": {
        "id": "W85i4fC7srcf"
      },
      "source": [
        "# Общее задание"
      ]
    },
    {
      "cell_type": "markdown",
      "metadata": {
        "id": "tIXprGNhsvTG"
      },
      "source": [
        "Нужно решить задачу бинарной классификации, предварительно построив признаковое описание объектов на основе нескольких таблиц.\n",
        "\n",
        "Целевая переменная - пол клиента.\n",
        "\n",
        "В качестве модели нужно использовать нейронную сеть, которую нужно строить с помощью `keras` или `torch` на выбор студента."
      ]
    },
    {
      "cell_type": "markdown",
      "metadata": {
        "id": "G5nnK3tftPvc"
      },
      "source": [
        "# Данные"
      ]
    },
    {
      "cell_type": "markdown",
      "metadata": {
        "id": "y8f3_l3KtSUh"
      },
      "source": [
        "Для всех последующих заданий будем использовать обезличенные транзакционные банковские данные. Для этого считайте в переменные **transactions, tr_mcc_codes и gender_train** из одноимённых таблиц из папки data. Для таблицы transactions используйте только первые n=1000000 строк."
      ]
    },
    {
      "cell_type": "markdown",
      "metadata": {
        "id": "6gIKs_I-tr27"
      },
      "source": [
        "Эти данные уже использовались в работе 2. Описание данных тут: https://drive.google.com/file/d/13sn8orjkoGfO1SVZYByXNmZQYFRfmOdp/view?usp=sharing\n",
        "\n",
        "Скачать данные отсюда: https://drive.google.com/drive/folders/1YAMe7MiTxA-RSSd8Ex2p-L0Dspe6Gs4L?usp=sharing"
      ]
    },
    {
      "cell_type": "markdown",
      "metadata": {
        "id": "OFP_i1F1Lqay"
      },
      "source": [
        "## Задание 1 (6 баллов)\n",
        "\n",
        "В задании требуется на основе нескольких таблиц с данными сделать признаковое описание объектов.\n",
        "\n",
        "Объектами являются клиенты. Клиенты идентифицируются с помощью `customer_id`, которые есть в таблицах **transactions** и **gender_train**. В качестве призаков нужно использовать даннее по категориям транзаций: ```mcc_code``` — mcc-код транзакции есть в таблицах **transactions** и **tr_mcc_codes**.\n"
      ]
    },
    {
      "cell_type": "markdown",
      "metadata": {
        "id": "F57T22yav-gp"
      },
      "source": [
        "Для выбора варианта запустите код в следующей ячейке.\n",
        "\n"
      ]
    },
    {
      "cell_type": "code",
      "metadata": {
        "id": "zFcuNXzcwMbH",
        "colab": {
          "base_uri": "https://localhost:8080/"
        },
        "outputId": "5c9804b3-4267-44a1-b375-dd0b01e5bc2b"
      },
      "source": [
        "print ('Список категорий')\n",
        "feature_list = ['Одежда (также нужно искать \"одежды\")', 'Аптеки', 'Ценные бумаги', 'Магазины косметики и Салоны красоты', 'Образовательные услуги (а также школы, университеты)',\n",
        "                'Алименты', 'Прокат автомобилей', 'Автозапчасти, Автошины и Станции техобслуживания (а также СТО)', 'Видеоигры (искать надо по \"видеоигр\")',\n",
        "                'Отели', 'Программирование', 'Спиртное и алкоголь', 'Предсказатели будущего', 'Азартные игры']\n",
        "if (int(str(v)[4]) % 2) == 0:\n",
        "  print (feature_list[::2])\n",
        "else:\n",
        "  print (feature_list[::-2])\n",
        "\n",
        "\n",
        "if (int(str(v)[5]) % 2) == 0:\n",
        "  print ('В качестве значений признаков используйте количество транзакций с тратами и количество транзакций с поступлениями')\n",
        "else:\n",
        "  print ('В качестве значений признаков используйте сумму по транзакциям с тратами и сумму по транзакциям с поступлениями')"
      ],
      "execution_count": null,
      "outputs": [
        {
          "output_type": "stream",
          "name": "stdout",
          "text": [
            "Список категорий\n",
            "['Азартные игры', 'Спиртное и алкоголь', 'Отели', 'Автозапчасти, Автошины и Станции техобслуживания (а также СТО)', 'Алименты', 'Магазины косметики и Салоны красоты', 'Аптеки']\n",
            "В качестве значений признаков используйте сумму по транзакциям с тратами и сумму по транзакциям с поступлениями\n"
          ]
        }
      ]
    },
    {
      "cell_type": "markdown",
      "metadata": {
        "id": "3V5SzWwN7k8F"
      },
      "source": [
        "Каждая категория может быть связана с одним или несколькими mcc-кодами. Например, вот несколько mcc-кодов по категории \"Одежда\":\n",
        "* 5621; Готовая женская одежда\n",
        "* 5641; Детская одежда\n",
        "* 5651; Одежда для всей семьи"
      ]
    },
    {
      "cell_type": "markdown",
      "metadata": {
        "id": "xgFGtCDIvU4m"
      },
      "source": [
        "Таким образом получится 14 признаков, то есть семь категорий, каждая из которых даст два значения: траты и поступления. Например, категория \"Одежда\" даёт признаки \"Одежда траты\" и \"Одежда поступления\"."
      ]
    },
    {
      "cell_type": "markdown",
      "metadata": {
        "id": "xGC6oWTyv9S4"
      },
      "source": [
        "Сделайте нормализацию значений признаков так, чтобы все означения менялись от 0 до 1."
      ]
    },
    {
      "cell_type": "code",
      "source": [
        "import pandas as pd\n",
        "import numpy as np\n",
        "from google.colab import drive\n",
        "\n",
        "drive.mount('/content/drive')"
      ],
      "metadata": {
        "id": "5y-xn1wbMsvV",
        "colab": {
          "base_uri": "https://localhost:8080/"
        },
        "outputId": "400bd51b-d6dc-4807-e740-ab07202f7220"
      },
      "execution_count": null,
      "outputs": [
        {
          "output_type": "stream",
          "name": "stdout",
          "text": [
            "Drive already mounted at /content/drive; to attempt to forcibly remount, call drive.mount(\"/content/drive\", force_remount=True).\n"
          ]
        }
      ]
    },
    {
      "cell_type": "code",
      "source": [
        "tr_mcc_codes = pd.read_csv(\"/content/drive/MyDrive/Colab Notebooks/tr_mcc_codes.csv\", sep=\";\")\n",
        "transactions = pd.read_csv('/content/drive/MyDrive/Colab Notebooks/transactions.csv', sep=\",\")\n",
        "gender_train = pd.read_csv(filepath_or_buffer = \"/content/drive/MyDrive/Colab Notebooks/gender_train.csv\", sep=\",\")"
      ],
      "metadata": {
        "id": "Go8Ql2iSTROt"
      },
      "execution_count": null,
      "outputs": []
    },
    {
      "cell_type": "code",
      "source": [
        "searched_categories = \"азартн|спирт|алкоголь|отел|автозапчаст|автошин|станции техобслуживания| сто |алимент|косметик|красот|аптек|аптеч\""
      ],
      "metadata": {
        "id": "fF0zMTujTYnR"
      },
      "execution_count": null,
      "outputs": []
    },
    {
      "cell_type": "code",
      "source": [
        "chosen_mcc_codes = tr_mcc_codes[tr_mcc_codes.mcc_description.str.contains(searched_categories, case=False)]\n",
        "print(chosen_mcc_codes)"
      ],
      "metadata": {
        "colab": {
          "base_uri": "https://localhost:8080/"
        },
        "id": "DmAS6VmeTu-e",
        "outputId": "fb649126-8ed2-4124-e437-ed24a2d2f6c1"
      },
      "execution_count": null,
      "outputs": [
        {
          "output_type": "stream",
          "name": "stdout",
          "text": [
            "     mcc_code                                    mcc_description\n",
            "7        3501                     Жилье — отели, мотели, курорты\n",
            "37       5122             Лекарства, их распространители, аптеки\n",
            "63       5532                                           Автошины\n",
            "64       5533                          Автозапчасти и аксессуары\n",
            "65       5541                            Станции техобслуживания\n",
            "91       5813  Бары, коктейль-бары, дискотеки, ночные клубы и...\n",
            "94       5912                                             Аптеки\n",
            "95       5921  Магазины с продажей спиртных напитков на вынос...\n",
            "116      5977                                 Магазины косметики\n",
            "131      7011   Отели, мотели, базы отдыха, сервисы бронирования\n",
            "135      7230                    Салоты красоты и парикмахерские\n",
            "162      7995                       Транзакции по азартным играм\n",
            "179      9211  Судовые выплаты, включая алименты и детскую по...\n"
          ]
        }
      ]
    },
    {
      "cell_type": "code",
      "source": [
        "chosen_transactions = transactions[transactions.mcc_code.isin(chosen_mcc_codes.mcc_code)]"
      ],
      "metadata": {
        "id": "ETZHWs8oUwVu"
      },
      "execution_count": null,
      "outputs": []
    },
    {
      "cell_type": "code",
      "source": [
        "chosen_transactions = chosen_transactions.merge(chosen_mcc_codes, left_on='mcc_code', right_on='mcc_code')"
      ],
      "metadata": {
        "id": "82JIoCn1Uzg5"
      },
      "execution_count": null,
      "outputs": []
    },
    {
      "cell_type": "code",
      "source": [
        "chosen_transactions['expenses'] = transactions[transactions['amount'] < 0]['amount']\n",
        "chosen_transactions['receipts'] = transactions[transactions['amount'] >= 0]['amount']"
      ],
      "metadata": {
        "id": "578vlilIU2Ur"
      },
      "execution_count": null,
      "outputs": []
    },
    {
      "cell_type": "code",
      "source": [
        "data = chosen_transactions.merge(gender_train, on='customer_id')\n",
        "\n",
        "data = data.groupby(['customer_id', 'mcc_code', 'gender', 'mcc_description']).sum()\n",
        "data = data.drop(columns=['tr_type', 'amount'])"
      ],
      "metadata": {
        "colab": {
          "base_uri": "https://localhost:8080/"
        },
        "id": "9jevmnzfU40Z",
        "outputId": "328b7145-da2c-4a7d-fabd-46b9d83575c3"
      },
      "execution_count": null,
      "outputs": [
        {
          "output_type": "stream",
          "name": "stderr",
          "text": [
            "<ipython-input-64-cc0c8909a336>:3: FutureWarning: The default value of numeric_only in DataFrameGroupBy.sum is deprecated. In a future version, numeric_only will default to False. Either specify numeric_only or select only columns which should be valid for the function.\n",
            "  data = data.groupby(['customer_id', 'mcc_code', 'gender', 'mcc_description']).sum()\n"
          ]
        }
      ]
    },
    {
      "cell_type": "code",
      "source": [
        "data.reset_index(drop=False, inplace=True)\n",
        "data.head()"
      ],
      "metadata": {
        "colab": {
          "base_uri": "https://localhost:8080/",
          "height": 206
        },
        "id": "F83QZVR3U9EQ",
        "outputId": "e5b5bfe2-8c30-4909-ba11-d79326c6e35e"
      },
      "execution_count": null,
      "outputs": [
        {
          "output_type": "execute_result",
          "data": {
            "text/plain": [
              "   customer_id  mcc_code  gender          mcc_description   expenses  \\\n",
              "0        22899      5541       1  Станции техобслуживания -308237.12   \n",
              "1        22899      5912       1                   Аптеки  -22459.16   \n",
              "2        28753      5541       0  Станции техобслуживания -111902.76   \n",
              "3        28753      5912       0                   Аптеки -200605.21   \n",
              "4        28753      5977       0       Магазины косметики       0.00   \n",
              "\n",
              "    receipts  \n",
              "0       0.00  \n",
              "1       0.00  \n",
              "2  314428.21  \n",
              "3   29196.91  \n",
              "4   10825.31  "
            ],
            "text/html": [
              "\n",
              "  <div id=\"df-5f43013e-26f5-4423-ba9b-946de7f94124\" class=\"colab-df-container\">\n",
              "    <div>\n",
              "<style scoped>\n",
              "    .dataframe tbody tr th:only-of-type {\n",
              "        vertical-align: middle;\n",
              "    }\n",
              "\n",
              "    .dataframe tbody tr th {\n",
              "        vertical-align: top;\n",
              "    }\n",
              "\n",
              "    .dataframe thead th {\n",
              "        text-align: right;\n",
              "    }\n",
              "</style>\n",
              "<table border=\"1\" class=\"dataframe\">\n",
              "  <thead>\n",
              "    <tr style=\"text-align: right;\">\n",
              "      <th></th>\n",
              "      <th>customer_id</th>\n",
              "      <th>mcc_code</th>\n",
              "      <th>gender</th>\n",
              "      <th>mcc_description</th>\n",
              "      <th>expenses</th>\n",
              "      <th>receipts</th>\n",
              "    </tr>\n",
              "  </thead>\n",
              "  <tbody>\n",
              "    <tr>\n",
              "      <th>0</th>\n",
              "      <td>22899</td>\n",
              "      <td>5541</td>\n",
              "      <td>1</td>\n",
              "      <td>Станции техобслуживания</td>\n",
              "      <td>-308237.12</td>\n",
              "      <td>0.00</td>\n",
              "    </tr>\n",
              "    <tr>\n",
              "      <th>1</th>\n",
              "      <td>22899</td>\n",
              "      <td>5912</td>\n",
              "      <td>1</td>\n",
              "      <td>Аптеки</td>\n",
              "      <td>-22459.16</td>\n",
              "      <td>0.00</td>\n",
              "    </tr>\n",
              "    <tr>\n",
              "      <th>2</th>\n",
              "      <td>28753</td>\n",
              "      <td>5541</td>\n",
              "      <td>0</td>\n",
              "      <td>Станции техобслуживания</td>\n",
              "      <td>-111902.76</td>\n",
              "      <td>314428.21</td>\n",
              "    </tr>\n",
              "    <tr>\n",
              "      <th>3</th>\n",
              "      <td>28753</td>\n",
              "      <td>5912</td>\n",
              "      <td>0</td>\n",
              "      <td>Аптеки</td>\n",
              "      <td>-200605.21</td>\n",
              "      <td>29196.91</td>\n",
              "    </tr>\n",
              "    <tr>\n",
              "      <th>4</th>\n",
              "      <td>28753</td>\n",
              "      <td>5977</td>\n",
              "      <td>0</td>\n",
              "      <td>Магазины косметики</td>\n",
              "      <td>0.00</td>\n",
              "      <td>10825.31</td>\n",
              "    </tr>\n",
              "  </tbody>\n",
              "</table>\n",
              "</div>\n",
              "    <div class=\"colab-df-buttons\">\n",
              "\n",
              "  <div class=\"colab-df-container\">\n",
              "    <button class=\"colab-df-convert\" onclick=\"convertToInteractive('df-5f43013e-26f5-4423-ba9b-946de7f94124')\"\n",
              "            title=\"Convert this dataframe to an interactive table.\"\n",
              "            style=\"display:none;\">\n",
              "\n",
              "  <svg xmlns=\"http://www.w3.org/2000/svg\" height=\"24px\" viewBox=\"0 -960 960 960\">\n",
              "    <path d=\"M120-120v-720h720v720H120Zm60-500h600v-160H180v160Zm220 220h160v-160H400v160Zm0 220h160v-160H400v160ZM180-400h160v-160H180v160Zm440 0h160v-160H620v160ZM180-180h160v-160H180v160Zm440 0h160v-160H620v160Z\"/>\n",
              "  </svg>\n",
              "    </button>\n",
              "\n",
              "  <style>\n",
              "    .colab-df-container {\n",
              "      display:flex;\n",
              "      gap: 12px;\n",
              "    }\n",
              "\n",
              "    .colab-df-convert {\n",
              "      background-color: #E8F0FE;\n",
              "      border: none;\n",
              "      border-radius: 50%;\n",
              "      cursor: pointer;\n",
              "      display: none;\n",
              "      fill: #1967D2;\n",
              "      height: 32px;\n",
              "      padding: 0 0 0 0;\n",
              "      width: 32px;\n",
              "    }\n",
              "\n",
              "    .colab-df-convert:hover {\n",
              "      background-color: #E2EBFA;\n",
              "      box-shadow: 0px 1px 2px rgba(60, 64, 67, 0.3), 0px 1px 3px 1px rgba(60, 64, 67, 0.15);\n",
              "      fill: #174EA6;\n",
              "    }\n",
              "\n",
              "    .colab-df-buttons div {\n",
              "      margin-bottom: 4px;\n",
              "    }\n",
              "\n",
              "    [theme=dark] .colab-df-convert {\n",
              "      background-color: #3B4455;\n",
              "      fill: #D2E3FC;\n",
              "    }\n",
              "\n",
              "    [theme=dark] .colab-df-convert:hover {\n",
              "      background-color: #434B5C;\n",
              "      box-shadow: 0px 1px 3px 1px rgba(0, 0, 0, 0.15);\n",
              "      filter: drop-shadow(0px 1px 2px rgba(0, 0, 0, 0.3));\n",
              "      fill: #FFFFFF;\n",
              "    }\n",
              "  </style>\n",
              "\n",
              "    <script>\n",
              "      const buttonEl =\n",
              "        document.querySelector('#df-5f43013e-26f5-4423-ba9b-946de7f94124 button.colab-df-convert');\n",
              "      buttonEl.style.display =\n",
              "        google.colab.kernel.accessAllowed ? 'block' : 'none';\n",
              "\n",
              "      async function convertToInteractive(key) {\n",
              "        const element = document.querySelector('#df-5f43013e-26f5-4423-ba9b-946de7f94124');\n",
              "        const dataTable =\n",
              "          await google.colab.kernel.invokeFunction('convertToInteractive',\n",
              "                                                    [key], {});\n",
              "        if (!dataTable) return;\n",
              "\n",
              "        const docLinkHtml = 'Like what you see? Visit the ' +\n",
              "          '<a target=\"_blank\" href=https://colab.research.google.com/notebooks/data_table.ipynb>data table notebook</a>'\n",
              "          + ' to learn more about interactive tables.';\n",
              "        element.innerHTML = '';\n",
              "        dataTable['output_type'] = 'display_data';\n",
              "        await google.colab.output.renderOutput(dataTable, element);\n",
              "        const docLink = document.createElement('div');\n",
              "        docLink.innerHTML = docLinkHtml;\n",
              "        element.appendChild(docLink);\n",
              "      }\n",
              "    </script>\n",
              "  </div>\n",
              "\n",
              "\n",
              "<div id=\"df-c7534609-ba8b-4a5b-b78b-8ec49684f6cf\">\n",
              "  <button class=\"colab-df-quickchart\" onclick=\"quickchart('df-c7534609-ba8b-4a5b-b78b-8ec49684f6cf')\"\n",
              "            title=\"Suggest charts\"\n",
              "            style=\"display:none;\">\n",
              "\n",
              "<svg xmlns=\"http://www.w3.org/2000/svg\" height=\"24px\"viewBox=\"0 0 24 24\"\n",
              "     width=\"24px\">\n",
              "    <g>\n",
              "        <path d=\"M19 3H5c-1.1 0-2 .9-2 2v14c0 1.1.9 2 2 2h14c1.1 0 2-.9 2-2V5c0-1.1-.9-2-2-2zM9 17H7v-7h2v7zm4 0h-2V7h2v10zm4 0h-2v-4h2v4z\"/>\n",
              "    </g>\n",
              "</svg>\n",
              "  </button>\n",
              "\n",
              "<style>\n",
              "  .colab-df-quickchart {\n",
              "      --bg-color: #E8F0FE;\n",
              "      --fill-color: #1967D2;\n",
              "      --hover-bg-color: #E2EBFA;\n",
              "      --hover-fill-color: #174EA6;\n",
              "      --disabled-fill-color: #AAA;\n",
              "      --disabled-bg-color: #DDD;\n",
              "  }\n",
              "\n",
              "  [theme=dark] .colab-df-quickchart {\n",
              "      --bg-color: #3B4455;\n",
              "      --fill-color: #D2E3FC;\n",
              "      --hover-bg-color: #434B5C;\n",
              "      --hover-fill-color: #FFFFFF;\n",
              "      --disabled-bg-color: #3B4455;\n",
              "      --disabled-fill-color: #666;\n",
              "  }\n",
              "\n",
              "  .colab-df-quickchart {\n",
              "    background-color: var(--bg-color);\n",
              "    border: none;\n",
              "    border-radius: 50%;\n",
              "    cursor: pointer;\n",
              "    display: none;\n",
              "    fill: var(--fill-color);\n",
              "    height: 32px;\n",
              "    padding: 0;\n",
              "    width: 32px;\n",
              "  }\n",
              "\n",
              "  .colab-df-quickchart:hover {\n",
              "    background-color: var(--hover-bg-color);\n",
              "    box-shadow: 0 1px 2px rgba(60, 64, 67, 0.3), 0 1px 3px 1px rgba(60, 64, 67, 0.15);\n",
              "    fill: var(--button-hover-fill-color);\n",
              "  }\n",
              "\n",
              "  .colab-df-quickchart-complete:disabled,\n",
              "  .colab-df-quickchart-complete:disabled:hover {\n",
              "    background-color: var(--disabled-bg-color);\n",
              "    fill: var(--disabled-fill-color);\n",
              "    box-shadow: none;\n",
              "  }\n",
              "\n",
              "  .colab-df-spinner {\n",
              "    border: 2px solid var(--fill-color);\n",
              "    border-color: transparent;\n",
              "    border-bottom-color: var(--fill-color);\n",
              "    animation:\n",
              "      spin 1s steps(1) infinite;\n",
              "  }\n",
              "\n",
              "  @keyframes spin {\n",
              "    0% {\n",
              "      border-color: transparent;\n",
              "      border-bottom-color: var(--fill-color);\n",
              "      border-left-color: var(--fill-color);\n",
              "    }\n",
              "    20% {\n",
              "      border-color: transparent;\n",
              "      border-left-color: var(--fill-color);\n",
              "      border-top-color: var(--fill-color);\n",
              "    }\n",
              "    30% {\n",
              "      border-color: transparent;\n",
              "      border-left-color: var(--fill-color);\n",
              "      border-top-color: var(--fill-color);\n",
              "      border-right-color: var(--fill-color);\n",
              "    }\n",
              "    40% {\n",
              "      border-color: transparent;\n",
              "      border-right-color: var(--fill-color);\n",
              "      border-top-color: var(--fill-color);\n",
              "    }\n",
              "    60% {\n",
              "      border-color: transparent;\n",
              "      border-right-color: var(--fill-color);\n",
              "    }\n",
              "    80% {\n",
              "      border-color: transparent;\n",
              "      border-right-color: var(--fill-color);\n",
              "      border-bottom-color: var(--fill-color);\n",
              "    }\n",
              "    90% {\n",
              "      border-color: transparent;\n",
              "      border-bottom-color: var(--fill-color);\n",
              "    }\n",
              "  }\n",
              "</style>\n",
              "\n",
              "  <script>\n",
              "    async function quickchart(key) {\n",
              "      const quickchartButtonEl =\n",
              "        document.querySelector('#' + key + ' button');\n",
              "      quickchartButtonEl.disabled = true;  // To prevent multiple clicks.\n",
              "      quickchartButtonEl.classList.add('colab-df-spinner');\n",
              "      try {\n",
              "        const charts = await google.colab.kernel.invokeFunction(\n",
              "            'suggestCharts', [key], {});\n",
              "      } catch (error) {\n",
              "        console.error('Error during call to suggestCharts:', error);\n",
              "      }\n",
              "      quickchartButtonEl.classList.remove('colab-df-spinner');\n",
              "      quickchartButtonEl.classList.add('colab-df-quickchart-complete');\n",
              "    }\n",
              "    (() => {\n",
              "      let quickchartButtonEl =\n",
              "        document.querySelector('#df-c7534609-ba8b-4a5b-b78b-8ec49684f6cf button');\n",
              "      quickchartButtonEl.style.display =\n",
              "        google.colab.kernel.accessAllowed ? 'block' : 'none';\n",
              "    })();\n",
              "  </script>\n",
              "</div>\n",
              "    </div>\n",
              "  </div>\n"
            ]
          },
          "metadata": {},
          "execution_count": 65
        }
      ]
    },
    {
      "cell_type": "code",
      "source": [
        "df_pivot = data.pivot_table(index='customer_id', columns='mcc_code', values=['expenses', 'receipts'], aggfunc='sum')\n",
        "df_pivot.columns = ['{1}_{0}'.format(col[0], col[1]) for col in df_pivot.columns]\n",
        "\n",
        "df_pivot.replace(0, float('nan'), inplace=True)\n",
        "\n",
        "df_pivot = df_pivot.merge(gender_train, on='customer_id')"
      ],
      "metadata": {
        "id": "1CXX1KGwVBQe"
      },
      "execution_count": null,
      "outputs": []
    },
    {
      "cell_type": "code",
      "source": [
        "df_pivot.head()"
      ],
      "metadata": {
        "colab": {
          "base_uri": "https://localhost:8080/",
          "height": 256
        },
        "id": "2MUGYeFaVDiN",
        "outputId": "c8a99518-d73f-44bb-99b6-6bf45d3098ab"
      },
      "execution_count": null,
      "outputs": [
        {
          "output_type": "execute_result",
          "data": {
            "text/plain": [
              "   customer_id  3501_expenses  5122_expenses  5532_expenses  5533_expenses  \\\n",
              "0        22899            NaN            NaN            NaN            NaN   \n",
              "1        28753            NaN            NaN            NaN            NaN   \n",
              "2        42096            NaN            NaN            NaN            NaN   \n",
              "3        49793            NaN            NaN            NaN            NaN   \n",
              "4        50940            NaN            NaN            NaN            NaN   \n",
              "\n",
              "   5541_expenses  5813_expenses  5912_expenses  5921_expenses  5977_expenses  \\\n",
              "0     -308237.12            NaN      -22459.16            NaN            NaN   \n",
              "1     -111902.76            NaN     -200605.21            NaN            NaN   \n",
              "2            NaN            NaN    -3541256.24            NaN            NaN   \n",
              "3            NaN            NaN     -763611.36       -8983.66            NaN   \n",
              "4            NaN            NaN       -1563.15     -254684.60            NaN   \n",
              "\n",
              "   ...  5541_receipts  5813_receipts  5912_receipts  5921_receipts  \\\n",
              "0  ...            NaN            NaN            NaN            NaN   \n",
              "1  ...      314428.21            NaN       29196.91            NaN   \n",
              "2  ...            NaN            NaN     2807394.72            NaN   \n",
              "3  ...            NaN            NaN            NaN            NaN   \n",
              "4  ...            NaN            NaN            NaN            NaN   \n",
              "\n",
              "   5977_receipts  7011_receipts  7230_receipts  7995_receipts  9211_receipts  \\\n",
              "0            NaN            NaN            NaN            NaN            NaN   \n",
              "1       10825.31            NaN       45852.62            NaN            NaN   \n",
              "2            NaN            NaN            NaN            NaN            NaN   \n",
              "3            NaN            NaN            NaN            NaN            NaN   \n",
              "4            NaN            NaN            NaN            NaN            NaN   \n",
              "\n",
              "   gender  \n",
              "0       1  \n",
              "1       0  \n",
              "2       0  \n",
              "3       1  \n",
              "4       0  \n",
              "\n",
              "[5 rows x 28 columns]"
            ],
            "text/html": [
              "\n",
              "  <div id=\"df-5e454924-3c28-4092-a0c2-cc4c856afb4a\" class=\"colab-df-container\">\n",
              "    <div>\n",
              "<style scoped>\n",
              "    .dataframe tbody tr th:only-of-type {\n",
              "        vertical-align: middle;\n",
              "    }\n",
              "\n",
              "    .dataframe tbody tr th {\n",
              "        vertical-align: top;\n",
              "    }\n",
              "\n",
              "    .dataframe thead th {\n",
              "        text-align: right;\n",
              "    }\n",
              "</style>\n",
              "<table border=\"1\" class=\"dataframe\">\n",
              "  <thead>\n",
              "    <tr style=\"text-align: right;\">\n",
              "      <th></th>\n",
              "      <th>customer_id</th>\n",
              "      <th>3501_expenses</th>\n",
              "      <th>5122_expenses</th>\n",
              "      <th>5532_expenses</th>\n",
              "      <th>5533_expenses</th>\n",
              "      <th>5541_expenses</th>\n",
              "      <th>5813_expenses</th>\n",
              "      <th>5912_expenses</th>\n",
              "      <th>5921_expenses</th>\n",
              "      <th>5977_expenses</th>\n",
              "      <th>...</th>\n",
              "      <th>5541_receipts</th>\n",
              "      <th>5813_receipts</th>\n",
              "      <th>5912_receipts</th>\n",
              "      <th>5921_receipts</th>\n",
              "      <th>5977_receipts</th>\n",
              "      <th>7011_receipts</th>\n",
              "      <th>7230_receipts</th>\n",
              "      <th>7995_receipts</th>\n",
              "      <th>9211_receipts</th>\n",
              "      <th>gender</th>\n",
              "    </tr>\n",
              "  </thead>\n",
              "  <tbody>\n",
              "    <tr>\n",
              "      <th>0</th>\n",
              "      <td>22899</td>\n",
              "      <td>NaN</td>\n",
              "      <td>NaN</td>\n",
              "      <td>NaN</td>\n",
              "      <td>NaN</td>\n",
              "      <td>-308237.12</td>\n",
              "      <td>NaN</td>\n",
              "      <td>-22459.16</td>\n",
              "      <td>NaN</td>\n",
              "      <td>NaN</td>\n",
              "      <td>...</td>\n",
              "      <td>NaN</td>\n",
              "      <td>NaN</td>\n",
              "      <td>NaN</td>\n",
              "      <td>NaN</td>\n",
              "      <td>NaN</td>\n",
              "      <td>NaN</td>\n",
              "      <td>NaN</td>\n",
              "      <td>NaN</td>\n",
              "      <td>NaN</td>\n",
              "      <td>1</td>\n",
              "    </tr>\n",
              "    <tr>\n",
              "      <th>1</th>\n",
              "      <td>28753</td>\n",
              "      <td>NaN</td>\n",
              "      <td>NaN</td>\n",
              "      <td>NaN</td>\n",
              "      <td>NaN</td>\n",
              "      <td>-111902.76</td>\n",
              "      <td>NaN</td>\n",
              "      <td>-200605.21</td>\n",
              "      <td>NaN</td>\n",
              "      <td>NaN</td>\n",
              "      <td>...</td>\n",
              "      <td>314428.21</td>\n",
              "      <td>NaN</td>\n",
              "      <td>29196.91</td>\n",
              "      <td>NaN</td>\n",
              "      <td>10825.31</td>\n",
              "      <td>NaN</td>\n",
              "      <td>45852.62</td>\n",
              "      <td>NaN</td>\n",
              "      <td>NaN</td>\n",
              "      <td>0</td>\n",
              "    </tr>\n",
              "    <tr>\n",
              "      <th>2</th>\n",
              "      <td>42096</td>\n",
              "      <td>NaN</td>\n",
              "      <td>NaN</td>\n",
              "      <td>NaN</td>\n",
              "      <td>NaN</td>\n",
              "      <td>NaN</td>\n",
              "      <td>NaN</td>\n",
              "      <td>-3541256.24</td>\n",
              "      <td>NaN</td>\n",
              "      <td>NaN</td>\n",
              "      <td>...</td>\n",
              "      <td>NaN</td>\n",
              "      <td>NaN</td>\n",
              "      <td>2807394.72</td>\n",
              "      <td>NaN</td>\n",
              "      <td>NaN</td>\n",
              "      <td>NaN</td>\n",
              "      <td>NaN</td>\n",
              "      <td>NaN</td>\n",
              "      <td>NaN</td>\n",
              "      <td>0</td>\n",
              "    </tr>\n",
              "    <tr>\n",
              "      <th>3</th>\n",
              "      <td>49793</td>\n",
              "      <td>NaN</td>\n",
              "      <td>NaN</td>\n",
              "      <td>NaN</td>\n",
              "      <td>NaN</td>\n",
              "      <td>NaN</td>\n",
              "      <td>NaN</td>\n",
              "      <td>-763611.36</td>\n",
              "      <td>-8983.66</td>\n",
              "      <td>NaN</td>\n",
              "      <td>...</td>\n",
              "      <td>NaN</td>\n",
              "      <td>NaN</td>\n",
              "      <td>NaN</td>\n",
              "      <td>NaN</td>\n",
              "      <td>NaN</td>\n",
              "      <td>NaN</td>\n",
              "      <td>NaN</td>\n",
              "      <td>NaN</td>\n",
              "      <td>NaN</td>\n",
              "      <td>1</td>\n",
              "    </tr>\n",
              "    <tr>\n",
              "      <th>4</th>\n",
              "      <td>50940</td>\n",
              "      <td>NaN</td>\n",
              "      <td>NaN</td>\n",
              "      <td>NaN</td>\n",
              "      <td>NaN</td>\n",
              "      <td>NaN</td>\n",
              "      <td>NaN</td>\n",
              "      <td>-1563.15</td>\n",
              "      <td>-254684.60</td>\n",
              "      <td>NaN</td>\n",
              "      <td>...</td>\n",
              "      <td>NaN</td>\n",
              "      <td>NaN</td>\n",
              "      <td>NaN</td>\n",
              "      <td>NaN</td>\n",
              "      <td>NaN</td>\n",
              "      <td>NaN</td>\n",
              "      <td>NaN</td>\n",
              "      <td>NaN</td>\n",
              "      <td>NaN</td>\n",
              "      <td>0</td>\n",
              "    </tr>\n",
              "  </tbody>\n",
              "</table>\n",
              "<p>5 rows × 28 columns</p>\n",
              "</div>\n",
              "    <div class=\"colab-df-buttons\">\n",
              "\n",
              "  <div class=\"colab-df-container\">\n",
              "    <button class=\"colab-df-convert\" onclick=\"convertToInteractive('df-5e454924-3c28-4092-a0c2-cc4c856afb4a')\"\n",
              "            title=\"Convert this dataframe to an interactive table.\"\n",
              "            style=\"display:none;\">\n",
              "\n",
              "  <svg xmlns=\"http://www.w3.org/2000/svg\" height=\"24px\" viewBox=\"0 -960 960 960\">\n",
              "    <path d=\"M120-120v-720h720v720H120Zm60-500h600v-160H180v160Zm220 220h160v-160H400v160Zm0 220h160v-160H400v160ZM180-400h160v-160H180v160Zm440 0h160v-160H620v160ZM180-180h160v-160H180v160Zm440 0h160v-160H620v160Z\"/>\n",
              "  </svg>\n",
              "    </button>\n",
              "\n",
              "  <style>\n",
              "    .colab-df-container {\n",
              "      display:flex;\n",
              "      gap: 12px;\n",
              "    }\n",
              "\n",
              "    .colab-df-convert {\n",
              "      background-color: #E8F0FE;\n",
              "      border: none;\n",
              "      border-radius: 50%;\n",
              "      cursor: pointer;\n",
              "      display: none;\n",
              "      fill: #1967D2;\n",
              "      height: 32px;\n",
              "      padding: 0 0 0 0;\n",
              "      width: 32px;\n",
              "    }\n",
              "\n",
              "    .colab-df-convert:hover {\n",
              "      background-color: #E2EBFA;\n",
              "      box-shadow: 0px 1px 2px rgba(60, 64, 67, 0.3), 0px 1px 3px 1px rgba(60, 64, 67, 0.15);\n",
              "      fill: #174EA6;\n",
              "    }\n",
              "\n",
              "    .colab-df-buttons div {\n",
              "      margin-bottom: 4px;\n",
              "    }\n",
              "\n",
              "    [theme=dark] .colab-df-convert {\n",
              "      background-color: #3B4455;\n",
              "      fill: #D2E3FC;\n",
              "    }\n",
              "\n",
              "    [theme=dark] .colab-df-convert:hover {\n",
              "      background-color: #434B5C;\n",
              "      box-shadow: 0px 1px 3px 1px rgba(0, 0, 0, 0.15);\n",
              "      filter: drop-shadow(0px 1px 2px rgba(0, 0, 0, 0.3));\n",
              "      fill: #FFFFFF;\n",
              "    }\n",
              "  </style>\n",
              "\n",
              "    <script>\n",
              "      const buttonEl =\n",
              "        document.querySelector('#df-5e454924-3c28-4092-a0c2-cc4c856afb4a button.colab-df-convert');\n",
              "      buttonEl.style.display =\n",
              "        google.colab.kernel.accessAllowed ? 'block' : 'none';\n",
              "\n",
              "      async function convertToInteractive(key) {\n",
              "        const element = document.querySelector('#df-5e454924-3c28-4092-a0c2-cc4c856afb4a');\n",
              "        const dataTable =\n",
              "          await google.colab.kernel.invokeFunction('convertToInteractive',\n",
              "                                                    [key], {});\n",
              "        if (!dataTable) return;\n",
              "\n",
              "        const docLinkHtml = 'Like what you see? Visit the ' +\n",
              "          '<a target=\"_blank\" href=https://colab.research.google.com/notebooks/data_table.ipynb>data table notebook</a>'\n",
              "          + ' to learn more about interactive tables.';\n",
              "        element.innerHTML = '';\n",
              "        dataTable['output_type'] = 'display_data';\n",
              "        await google.colab.output.renderOutput(dataTable, element);\n",
              "        const docLink = document.createElement('div');\n",
              "        docLink.innerHTML = docLinkHtml;\n",
              "        element.appendChild(docLink);\n",
              "      }\n",
              "    </script>\n",
              "  </div>\n",
              "\n",
              "\n",
              "<div id=\"df-f2c862f0-5f48-4601-a737-5bbd98f3a18a\">\n",
              "  <button class=\"colab-df-quickchart\" onclick=\"quickchart('df-f2c862f0-5f48-4601-a737-5bbd98f3a18a')\"\n",
              "            title=\"Suggest charts\"\n",
              "            style=\"display:none;\">\n",
              "\n",
              "<svg xmlns=\"http://www.w3.org/2000/svg\" height=\"24px\"viewBox=\"0 0 24 24\"\n",
              "     width=\"24px\">\n",
              "    <g>\n",
              "        <path d=\"M19 3H5c-1.1 0-2 .9-2 2v14c0 1.1.9 2 2 2h14c1.1 0 2-.9 2-2V5c0-1.1-.9-2-2-2zM9 17H7v-7h2v7zm4 0h-2V7h2v10zm4 0h-2v-4h2v4z\"/>\n",
              "    </g>\n",
              "</svg>\n",
              "  </button>\n",
              "\n",
              "<style>\n",
              "  .colab-df-quickchart {\n",
              "      --bg-color: #E8F0FE;\n",
              "      --fill-color: #1967D2;\n",
              "      --hover-bg-color: #E2EBFA;\n",
              "      --hover-fill-color: #174EA6;\n",
              "      --disabled-fill-color: #AAA;\n",
              "      --disabled-bg-color: #DDD;\n",
              "  }\n",
              "\n",
              "  [theme=dark] .colab-df-quickchart {\n",
              "      --bg-color: #3B4455;\n",
              "      --fill-color: #D2E3FC;\n",
              "      --hover-bg-color: #434B5C;\n",
              "      --hover-fill-color: #FFFFFF;\n",
              "      --disabled-bg-color: #3B4455;\n",
              "      --disabled-fill-color: #666;\n",
              "  }\n",
              "\n",
              "  .colab-df-quickchart {\n",
              "    background-color: var(--bg-color);\n",
              "    border: none;\n",
              "    border-radius: 50%;\n",
              "    cursor: pointer;\n",
              "    display: none;\n",
              "    fill: var(--fill-color);\n",
              "    height: 32px;\n",
              "    padding: 0;\n",
              "    width: 32px;\n",
              "  }\n",
              "\n",
              "  .colab-df-quickchart:hover {\n",
              "    background-color: var(--hover-bg-color);\n",
              "    box-shadow: 0 1px 2px rgba(60, 64, 67, 0.3), 0 1px 3px 1px rgba(60, 64, 67, 0.15);\n",
              "    fill: var(--button-hover-fill-color);\n",
              "  }\n",
              "\n",
              "  .colab-df-quickchart-complete:disabled,\n",
              "  .colab-df-quickchart-complete:disabled:hover {\n",
              "    background-color: var(--disabled-bg-color);\n",
              "    fill: var(--disabled-fill-color);\n",
              "    box-shadow: none;\n",
              "  }\n",
              "\n",
              "  .colab-df-spinner {\n",
              "    border: 2px solid var(--fill-color);\n",
              "    border-color: transparent;\n",
              "    border-bottom-color: var(--fill-color);\n",
              "    animation:\n",
              "      spin 1s steps(1) infinite;\n",
              "  }\n",
              "\n",
              "  @keyframes spin {\n",
              "    0% {\n",
              "      border-color: transparent;\n",
              "      border-bottom-color: var(--fill-color);\n",
              "      border-left-color: var(--fill-color);\n",
              "    }\n",
              "    20% {\n",
              "      border-color: transparent;\n",
              "      border-left-color: var(--fill-color);\n",
              "      border-top-color: var(--fill-color);\n",
              "    }\n",
              "    30% {\n",
              "      border-color: transparent;\n",
              "      border-left-color: var(--fill-color);\n",
              "      border-top-color: var(--fill-color);\n",
              "      border-right-color: var(--fill-color);\n",
              "    }\n",
              "    40% {\n",
              "      border-color: transparent;\n",
              "      border-right-color: var(--fill-color);\n",
              "      border-top-color: var(--fill-color);\n",
              "    }\n",
              "    60% {\n",
              "      border-color: transparent;\n",
              "      border-right-color: var(--fill-color);\n",
              "    }\n",
              "    80% {\n",
              "      border-color: transparent;\n",
              "      border-right-color: var(--fill-color);\n",
              "      border-bottom-color: var(--fill-color);\n",
              "    }\n",
              "    90% {\n",
              "      border-color: transparent;\n",
              "      border-bottom-color: var(--fill-color);\n",
              "    }\n",
              "  }\n",
              "</style>\n",
              "\n",
              "  <script>\n",
              "    async function quickchart(key) {\n",
              "      const quickchartButtonEl =\n",
              "        document.querySelector('#' + key + ' button');\n",
              "      quickchartButtonEl.disabled = true;  // To prevent multiple clicks.\n",
              "      quickchartButtonEl.classList.add('colab-df-spinner');\n",
              "      try {\n",
              "        const charts = await google.colab.kernel.invokeFunction(\n",
              "            'suggestCharts', [key], {});\n",
              "      } catch (error) {\n",
              "        console.error('Error during call to suggestCharts:', error);\n",
              "      }\n",
              "      quickchartButtonEl.classList.remove('colab-df-spinner');\n",
              "      quickchartButtonEl.classList.add('colab-df-quickchart-complete');\n",
              "    }\n",
              "    (() => {\n",
              "      let quickchartButtonEl =\n",
              "        document.querySelector('#df-f2c862f0-5f48-4601-a737-5bbd98f3a18a button');\n",
              "      quickchartButtonEl.style.display =\n",
              "        google.colab.kernel.accessAllowed ? 'block' : 'none';\n",
              "    })();\n",
              "  </script>\n",
              "</div>\n",
              "    </div>\n",
              "  </div>\n"
            ]
          },
          "metadata": {},
          "execution_count": 67
        }
      ]
    },
    {
      "cell_type": "code",
      "source": [
        "df_pivot.head()"
      ],
      "metadata": {
        "colab": {
          "base_uri": "https://localhost:8080/",
          "height": 256
        },
        "id": "lApqpc2kZxb3",
        "outputId": "d2edd5fc-75a0-4de5-c6c3-ecd86f1f2718"
      },
      "execution_count": null,
      "outputs": [
        {
          "output_type": "execute_result",
          "data": {
            "text/plain": [
              "   customer_id  3501_expenses  5122_expenses  5532_expenses  5533_expenses  \\\n",
              "0        22899            NaN            NaN            NaN            NaN   \n",
              "1        28753            NaN            NaN            NaN            NaN   \n",
              "2        42096            NaN            NaN            NaN            NaN   \n",
              "3        49793            NaN            NaN            NaN            NaN   \n",
              "4        50940            NaN            NaN            NaN            NaN   \n",
              "\n",
              "   5541_expenses  5813_expenses  5912_expenses  5921_expenses  5977_expenses  \\\n",
              "0     -308237.12            NaN      -22459.16            NaN            NaN   \n",
              "1     -111902.76            NaN     -200605.21            NaN            NaN   \n",
              "2            NaN            NaN    -3541256.24            NaN            NaN   \n",
              "3            NaN            NaN     -763611.36       -8983.66            NaN   \n",
              "4            NaN            NaN       -1563.15     -254684.60            NaN   \n",
              "\n",
              "   ...  5541_receipts  5813_receipts  5912_receipts  5921_receipts  \\\n",
              "0  ...            NaN            NaN            NaN            NaN   \n",
              "1  ...      314428.21            NaN       29196.91            NaN   \n",
              "2  ...            NaN            NaN     2807394.72            NaN   \n",
              "3  ...            NaN            NaN            NaN            NaN   \n",
              "4  ...            NaN            NaN            NaN            NaN   \n",
              "\n",
              "   5977_receipts  7011_receipts  7230_receipts  7995_receipts  9211_receipts  \\\n",
              "0            NaN            NaN            NaN            NaN            NaN   \n",
              "1       10825.31            NaN       45852.62            NaN            NaN   \n",
              "2            NaN            NaN            NaN            NaN            NaN   \n",
              "3            NaN            NaN            NaN            NaN            NaN   \n",
              "4            NaN            NaN            NaN            NaN            NaN   \n",
              "\n",
              "   gender  \n",
              "0       1  \n",
              "1       0  \n",
              "2       0  \n",
              "3       1  \n",
              "4       0  \n",
              "\n",
              "[5 rows x 28 columns]"
            ],
            "text/html": [
              "\n",
              "  <div id=\"df-d6e7d936-c4e6-41da-9b4a-a0fc3808ded7\" class=\"colab-df-container\">\n",
              "    <div>\n",
              "<style scoped>\n",
              "    .dataframe tbody tr th:only-of-type {\n",
              "        vertical-align: middle;\n",
              "    }\n",
              "\n",
              "    .dataframe tbody tr th {\n",
              "        vertical-align: top;\n",
              "    }\n",
              "\n",
              "    .dataframe thead th {\n",
              "        text-align: right;\n",
              "    }\n",
              "</style>\n",
              "<table border=\"1\" class=\"dataframe\">\n",
              "  <thead>\n",
              "    <tr style=\"text-align: right;\">\n",
              "      <th></th>\n",
              "      <th>customer_id</th>\n",
              "      <th>3501_expenses</th>\n",
              "      <th>5122_expenses</th>\n",
              "      <th>5532_expenses</th>\n",
              "      <th>5533_expenses</th>\n",
              "      <th>5541_expenses</th>\n",
              "      <th>5813_expenses</th>\n",
              "      <th>5912_expenses</th>\n",
              "      <th>5921_expenses</th>\n",
              "      <th>5977_expenses</th>\n",
              "      <th>...</th>\n",
              "      <th>5541_receipts</th>\n",
              "      <th>5813_receipts</th>\n",
              "      <th>5912_receipts</th>\n",
              "      <th>5921_receipts</th>\n",
              "      <th>5977_receipts</th>\n",
              "      <th>7011_receipts</th>\n",
              "      <th>7230_receipts</th>\n",
              "      <th>7995_receipts</th>\n",
              "      <th>9211_receipts</th>\n",
              "      <th>gender</th>\n",
              "    </tr>\n",
              "  </thead>\n",
              "  <tbody>\n",
              "    <tr>\n",
              "      <th>0</th>\n",
              "      <td>22899</td>\n",
              "      <td>NaN</td>\n",
              "      <td>NaN</td>\n",
              "      <td>NaN</td>\n",
              "      <td>NaN</td>\n",
              "      <td>-308237.12</td>\n",
              "      <td>NaN</td>\n",
              "      <td>-22459.16</td>\n",
              "      <td>NaN</td>\n",
              "      <td>NaN</td>\n",
              "      <td>...</td>\n",
              "      <td>NaN</td>\n",
              "      <td>NaN</td>\n",
              "      <td>NaN</td>\n",
              "      <td>NaN</td>\n",
              "      <td>NaN</td>\n",
              "      <td>NaN</td>\n",
              "      <td>NaN</td>\n",
              "      <td>NaN</td>\n",
              "      <td>NaN</td>\n",
              "      <td>1</td>\n",
              "    </tr>\n",
              "    <tr>\n",
              "      <th>1</th>\n",
              "      <td>28753</td>\n",
              "      <td>NaN</td>\n",
              "      <td>NaN</td>\n",
              "      <td>NaN</td>\n",
              "      <td>NaN</td>\n",
              "      <td>-111902.76</td>\n",
              "      <td>NaN</td>\n",
              "      <td>-200605.21</td>\n",
              "      <td>NaN</td>\n",
              "      <td>NaN</td>\n",
              "      <td>...</td>\n",
              "      <td>314428.21</td>\n",
              "      <td>NaN</td>\n",
              "      <td>29196.91</td>\n",
              "      <td>NaN</td>\n",
              "      <td>10825.31</td>\n",
              "      <td>NaN</td>\n",
              "      <td>45852.62</td>\n",
              "      <td>NaN</td>\n",
              "      <td>NaN</td>\n",
              "      <td>0</td>\n",
              "    </tr>\n",
              "    <tr>\n",
              "      <th>2</th>\n",
              "      <td>42096</td>\n",
              "      <td>NaN</td>\n",
              "      <td>NaN</td>\n",
              "      <td>NaN</td>\n",
              "      <td>NaN</td>\n",
              "      <td>NaN</td>\n",
              "      <td>NaN</td>\n",
              "      <td>-3541256.24</td>\n",
              "      <td>NaN</td>\n",
              "      <td>NaN</td>\n",
              "      <td>...</td>\n",
              "      <td>NaN</td>\n",
              "      <td>NaN</td>\n",
              "      <td>2807394.72</td>\n",
              "      <td>NaN</td>\n",
              "      <td>NaN</td>\n",
              "      <td>NaN</td>\n",
              "      <td>NaN</td>\n",
              "      <td>NaN</td>\n",
              "      <td>NaN</td>\n",
              "      <td>0</td>\n",
              "    </tr>\n",
              "    <tr>\n",
              "      <th>3</th>\n",
              "      <td>49793</td>\n",
              "      <td>NaN</td>\n",
              "      <td>NaN</td>\n",
              "      <td>NaN</td>\n",
              "      <td>NaN</td>\n",
              "      <td>NaN</td>\n",
              "      <td>NaN</td>\n",
              "      <td>-763611.36</td>\n",
              "      <td>-8983.66</td>\n",
              "      <td>NaN</td>\n",
              "      <td>...</td>\n",
              "      <td>NaN</td>\n",
              "      <td>NaN</td>\n",
              "      <td>NaN</td>\n",
              "      <td>NaN</td>\n",
              "      <td>NaN</td>\n",
              "      <td>NaN</td>\n",
              "      <td>NaN</td>\n",
              "      <td>NaN</td>\n",
              "      <td>NaN</td>\n",
              "      <td>1</td>\n",
              "    </tr>\n",
              "    <tr>\n",
              "      <th>4</th>\n",
              "      <td>50940</td>\n",
              "      <td>NaN</td>\n",
              "      <td>NaN</td>\n",
              "      <td>NaN</td>\n",
              "      <td>NaN</td>\n",
              "      <td>NaN</td>\n",
              "      <td>NaN</td>\n",
              "      <td>-1563.15</td>\n",
              "      <td>-254684.60</td>\n",
              "      <td>NaN</td>\n",
              "      <td>...</td>\n",
              "      <td>NaN</td>\n",
              "      <td>NaN</td>\n",
              "      <td>NaN</td>\n",
              "      <td>NaN</td>\n",
              "      <td>NaN</td>\n",
              "      <td>NaN</td>\n",
              "      <td>NaN</td>\n",
              "      <td>NaN</td>\n",
              "      <td>NaN</td>\n",
              "      <td>0</td>\n",
              "    </tr>\n",
              "  </tbody>\n",
              "</table>\n",
              "<p>5 rows × 28 columns</p>\n",
              "</div>\n",
              "    <div class=\"colab-df-buttons\">\n",
              "\n",
              "  <div class=\"colab-df-container\">\n",
              "    <button class=\"colab-df-convert\" onclick=\"convertToInteractive('df-d6e7d936-c4e6-41da-9b4a-a0fc3808ded7')\"\n",
              "            title=\"Convert this dataframe to an interactive table.\"\n",
              "            style=\"display:none;\">\n",
              "\n",
              "  <svg xmlns=\"http://www.w3.org/2000/svg\" height=\"24px\" viewBox=\"0 -960 960 960\">\n",
              "    <path d=\"M120-120v-720h720v720H120Zm60-500h600v-160H180v160Zm220 220h160v-160H400v160Zm0 220h160v-160H400v160ZM180-400h160v-160H180v160Zm440 0h160v-160H620v160ZM180-180h160v-160H180v160Zm440 0h160v-160H620v160Z\"/>\n",
              "  </svg>\n",
              "    </button>\n",
              "\n",
              "  <style>\n",
              "    .colab-df-container {\n",
              "      display:flex;\n",
              "      gap: 12px;\n",
              "    }\n",
              "\n",
              "    .colab-df-convert {\n",
              "      background-color: #E8F0FE;\n",
              "      border: none;\n",
              "      border-radius: 50%;\n",
              "      cursor: pointer;\n",
              "      display: none;\n",
              "      fill: #1967D2;\n",
              "      height: 32px;\n",
              "      padding: 0 0 0 0;\n",
              "      width: 32px;\n",
              "    }\n",
              "\n",
              "    .colab-df-convert:hover {\n",
              "      background-color: #E2EBFA;\n",
              "      box-shadow: 0px 1px 2px rgba(60, 64, 67, 0.3), 0px 1px 3px 1px rgba(60, 64, 67, 0.15);\n",
              "      fill: #174EA6;\n",
              "    }\n",
              "\n",
              "    .colab-df-buttons div {\n",
              "      margin-bottom: 4px;\n",
              "    }\n",
              "\n",
              "    [theme=dark] .colab-df-convert {\n",
              "      background-color: #3B4455;\n",
              "      fill: #D2E3FC;\n",
              "    }\n",
              "\n",
              "    [theme=dark] .colab-df-convert:hover {\n",
              "      background-color: #434B5C;\n",
              "      box-shadow: 0px 1px 3px 1px rgba(0, 0, 0, 0.15);\n",
              "      filter: drop-shadow(0px 1px 2px rgba(0, 0, 0, 0.3));\n",
              "      fill: #FFFFFF;\n",
              "    }\n",
              "  </style>\n",
              "\n",
              "    <script>\n",
              "      const buttonEl =\n",
              "        document.querySelector('#df-d6e7d936-c4e6-41da-9b4a-a0fc3808ded7 button.colab-df-convert');\n",
              "      buttonEl.style.display =\n",
              "        google.colab.kernel.accessAllowed ? 'block' : 'none';\n",
              "\n",
              "      async function convertToInteractive(key) {\n",
              "        const element = document.querySelector('#df-d6e7d936-c4e6-41da-9b4a-a0fc3808ded7');\n",
              "        const dataTable =\n",
              "          await google.colab.kernel.invokeFunction('convertToInteractive',\n",
              "                                                    [key], {});\n",
              "        if (!dataTable) return;\n",
              "\n",
              "        const docLinkHtml = 'Like what you see? Visit the ' +\n",
              "          '<a target=\"_blank\" href=https://colab.research.google.com/notebooks/data_table.ipynb>data table notebook</a>'\n",
              "          + ' to learn more about interactive tables.';\n",
              "        element.innerHTML = '';\n",
              "        dataTable['output_type'] = 'display_data';\n",
              "        await google.colab.output.renderOutput(dataTable, element);\n",
              "        const docLink = document.createElement('div');\n",
              "        docLink.innerHTML = docLinkHtml;\n",
              "        element.appendChild(docLink);\n",
              "      }\n",
              "    </script>\n",
              "  </div>\n",
              "\n",
              "\n",
              "<div id=\"df-df19ea46-bce6-463c-a914-8b9d87d90a51\">\n",
              "  <button class=\"colab-df-quickchart\" onclick=\"quickchart('df-df19ea46-bce6-463c-a914-8b9d87d90a51')\"\n",
              "            title=\"Suggest charts\"\n",
              "            style=\"display:none;\">\n",
              "\n",
              "<svg xmlns=\"http://www.w3.org/2000/svg\" height=\"24px\"viewBox=\"0 0 24 24\"\n",
              "     width=\"24px\">\n",
              "    <g>\n",
              "        <path d=\"M19 3H5c-1.1 0-2 .9-2 2v14c0 1.1.9 2 2 2h14c1.1 0 2-.9 2-2V5c0-1.1-.9-2-2-2zM9 17H7v-7h2v7zm4 0h-2V7h2v10zm4 0h-2v-4h2v4z\"/>\n",
              "    </g>\n",
              "</svg>\n",
              "  </button>\n",
              "\n",
              "<style>\n",
              "  .colab-df-quickchart {\n",
              "      --bg-color: #E8F0FE;\n",
              "      --fill-color: #1967D2;\n",
              "      --hover-bg-color: #E2EBFA;\n",
              "      --hover-fill-color: #174EA6;\n",
              "      --disabled-fill-color: #AAA;\n",
              "      --disabled-bg-color: #DDD;\n",
              "  }\n",
              "\n",
              "  [theme=dark] .colab-df-quickchart {\n",
              "      --bg-color: #3B4455;\n",
              "      --fill-color: #D2E3FC;\n",
              "      --hover-bg-color: #434B5C;\n",
              "      --hover-fill-color: #FFFFFF;\n",
              "      --disabled-bg-color: #3B4455;\n",
              "      --disabled-fill-color: #666;\n",
              "  }\n",
              "\n",
              "  .colab-df-quickchart {\n",
              "    background-color: var(--bg-color);\n",
              "    border: none;\n",
              "    border-radius: 50%;\n",
              "    cursor: pointer;\n",
              "    display: none;\n",
              "    fill: var(--fill-color);\n",
              "    height: 32px;\n",
              "    padding: 0;\n",
              "    width: 32px;\n",
              "  }\n",
              "\n",
              "  .colab-df-quickchart:hover {\n",
              "    background-color: var(--hover-bg-color);\n",
              "    box-shadow: 0 1px 2px rgba(60, 64, 67, 0.3), 0 1px 3px 1px rgba(60, 64, 67, 0.15);\n",
              "    fill: var(--button-hover-fill-color);\n",
              "  }\n",
              "\n",
              "  .colab-df-quickchart-complete:disabled,\n",
              "  .colab-df-quickchart-complete:disabled:hover {\n",
              "    background-color: var(--disabled-bg-color);\n",
              "    fill: var(--disabled-fill-color);\n",
              "    box-shadow: none;\n",
              "  }\n",
              "\n",
              "  .colab-df-spinner {\n",
              "    border: 2px solid var(--fill-color);\n",
              "    border-color: transparent;\n",
              "    border-bottom-color: var(--fill-color);\n",
              "    animation:\n",
              "      spin 1s steps(1) infinite;\n",
              "  }\n",
              "\n",
              "  @keyframes spin {\n",
              "    0% {\n",
              "      border-color: transparent;\n",
              "      border-bottom-color: var(--fill-color);\n",
              "      border-left-color: var(--fill-color);\n",
              "    }\n",
              "    20% {\n",
              "      border-color: transparent;\n",
              "      border-left-color: var(--fill-color);\n",
              "      border-top-color: var(--fill-color);\n",
              "    }\n",
              "    30% {\n",
              "      border-color: transparent;\n",
              "      border-left-color: var(--fill-color);\n",
              "      border-top-color: var(--fill-color);\n",
              "      border-right-color: var(--fill-color);\n",
              "    }\n",
              "    40% {\n",
              "      border-color: transparent;\n",
              "      border-right-color: var(--fill-color);\n",
              "      border-top-color: var(--fill-color);\n",
              "    }\n",
              "    60% {\n",
              "      border-color: transparent;\n",
              "      border-right-color: var(--fill-color);\n",
              "    }\n",
              "    80% {\n",
              "      border-color: transparent;\n",
              "      border-right-color: var(--fill-color);\n",
              "      border-bottom-color: var(--fill-color);\n",
              "    }\n",
              "    90% {\n",
              "      border-color: transparent;\n",
              "      border-bottom-color: var(--fill-color);\n",
              "    }\n",
              "  }\n",
              "</style>\n",
              "\n",
              "  <script>\n",
              "    async function quickchart(key) {\n",
              "      const quickchartButtonEl =\n",
              "        document.querySelector('#' + key + ' button');\n",
              "      quickchartButtonEl.disabled = true;  // To prevent multiple clicks.\n",
              "      quickchartButtonEl.classList.add('colab-df-spinner');\n",
              "      try {\n",
              "        const charts = await google.colab.kernel.invokeFunction(\n",
              "            'suggestCharts', [key], {});\n",
              "      } catch (error) {\n",
              "        console.error('Error during call to suggestCharts:', error);\n",
              "      }\n",
              "      quickchartButtonEl.classList.remove('colab-df-spinner');\n",
              "      quickchartButtonEl.classList.add('colab-df-quickchart-complete');\n",
              "    }\n",
              "    (() => {\n",
              "      let quickchartButtonEl =\n",
              "        document.querySelector('#df-df19ea46-bce6-463c-a914-8b9d87d90a51 button');\n",
              "      quickchartButtonEl.style.display =\n",
              "        google.colab.kernel.accessAllowed ? 'block' : 'none';\n",
              "    })();\n",
              "  </script>\n",
              "</div>\n",
              "    </div>\n",
              "  </div>\n"
            ]
          },
          "metadata": {},
          "execution_count": 68
        }
      ]
    },
    {
      "cell_type": "markdown",
      "source": [
        "## Вопросы к заданию 1"
      ],
      "metadata": {
        "id": "_etoNdFXwY1y"
      }
    },
    {
      "cell_type": "markdown",
      "source": [
        "1. Для каждой категории выведите соответствующие ей mcc-коды с описаниями."
      ],
      "metadata": {
        "id": "Mr3MfPI3viIx"
      }
    },
    {
      "cell_type": "code",
      "source": [
        "print(chosen_mcc_codes)"
      ],
      "metadata": {
        "id": "dgCrGhrFNPu3",
        "colab": {
          "base_uri": "https://localhost:8080/"
        },
        "outputId": "64f9ec4c-b667-4919-91fc-1c6426f76317"
      },
      "execution_count": null,
      "outputs": [
        {
          "output_type": "stream",
          "name": "stdout",
          "text": [
            "     mcc_code                                    mcc_description\n",
            "7        3501                     Жилье — отели, мотели, курорты\n",
            "37       5122             Лекарства, их распространители, аптеки\n",
            "63       5532                                           Автошины\n",
            "64       5533                          Автозапчасти и аксессуары\n",
            "65       5541                            Станции техобслуживания\n",
            "91       5813  Бары, коктейль-бары, дискотеки, ночные клубы и...\n",
            "94       5912                                             Аптеки\n",
            "95       5921  Магазины с продажей спиртных напитков на вынос...\n",
            "116      5977                                 Магазины косметики\n",
            "131      7011   Отели, мотели, базы отдыха, сервисы бронирования\n",
            "135      7230                    Салоты красоты и парикмахерские\n",
            "162      7995                       Транзакции по азартным играм\n",
            "179      9211  Судовые выплаты, включая алименты и детскую по...\n"
          ]
        }
      ]
    },
    {
      "cell_type": "markdown",
      "source": [
        "2. Выведите количество пустых ячеек по каждому признаку. По какому признаку отсутствует больше всего данных?"
      ],
      "metadata": {
        "id": "Qoh0X9hgVM1s"
      }
    },
    {
      "cell_type": "code",
      "source": [
        "print(\"Множество пустых ячеек по каждому признаку\")\n",
        "empty_cells = df_pivot.isna().sum()\n",
        "print(empty_cells)"
      ],
      "metadata": {
        "colab": {
          "base_uri": "https://localhost:8080/"
        },
        "id": "pOLW4KH3VojX",
        "outputId": "b4c6ec96-60a5-44bf-d8ff-b51c75828563"
      },
      "execution_count": null,
      "outputs": [
        {
          "output_type": "stream",
          "name": "stdout",
          "text": [
            "Множество пустых ячеек по каждому признаку\n",
            "customer_id         0\n",
            "3501_expenses    6859\n",
            "5122_expenses    6939\n",
            "5532_expenses    6937\n",
            "5533_expenses    4854\n",
            "5541_expenses    2983\n",
            "5813_expenses    5907\n",
            "5912_expenses    1022\n",
            "5921_expenses    4240\n",
            "5977_expenses    6532\n",
            "7011_expenses    6220\n",
            "7230_expenses    6934\n",
            "7995_expenses    6909\n",
            "9211_expenses    6939\n",
            "3501_receipts    6892\n",
            "5122_receipts    6853\n",
            "5532_receipts    6728\n",
            "5533_receipts    6278\n",
            "5541_receipts    4935\n",
            "5813_receipts    6657\n",
            "5912_receipts    4399\n",
            "5921_receipts    6035\n",
            "5977_receipts    3760\n",
            "7011_receipts    6872\n",
            "7230_receipts    6281\n",
            "7995_receipts    6639\n",
            "9211_receipts    6934\n",
            "gender              0\n",
            "dtype: int64\n"
          ]
        }
      ]
    },
    {
      "cell_type": "code",
      "source": [
        "print(\"Признак с наибольшим числом отсутствующих данных\")\n",
        "max_empty_cells_col = empty_cells.idxmax()\n",
        "print(max_empty_cells_col)\n",
        "print(\"Описание mcc кода\")\n",
        "print(tr_mcc_codes[tr_mcc_codes.mcc_code == int(max_empty_cells_col.split('_')[0])].mcc_description)"
      ],
      "metadata": {
        "colab": {
          "base_uri": "https://localhost:8080/"
        },
        "id": "TmKON3XhV4bq",
        "outputId": "f8673135-715c-45c6-ff5e-b6fd4db9fa0d"
      },
      "execution_count": null,
      "outputs": [
        {
          "output_type": "stream",
          "name": "stdout",
          "text": [
            "Признак с наибольшим числом отсутствующих данных\n",
            "5122_expenses\n",
            "Описание mcc кода\n",
            "37    Лекарства, их распространители, аптеки\n",
            "Name: mcc_description, dtype: object\n"
          ]
        }
      ]
    },
    {
      "cell_type": "markdown",
      "source": [
        "\n",
        "3. По какой категории самая большая разница между мужчинами и женщинами?"
      ],
      "metadata": {
        "id": "PAvHs20BVOlV"
      }
    },
    {
      "cell_type": "code",
      "source": [
        "data_copy = data.copy()\n",
        "data_copy['amount'] = data['expenses'] + data['receipts']\n",
        "\n",
        "mean_male = data_copy[data_copy['gender'] == 0].groupby('mcc_code')['amount'].mean()\n",
        "mean_female = data_copy[data_copy['gender'] == 1].groupby('mcc_code')['amount'].mean()\n",
        "\n",
        "difference = abs(mean_male - mean_female)\n",
        "\n",
        "max_difference_mcc_code = difference.idxmax()\n",
        "\n",
        "print(tr_mcc_codes[tr_mcc_codes.mcc_code == max_difference_mcc_code])"
      ],
      "metadata": {
        "colab": {
          "base_uri": "https://localhost:8080/"
        },
        "id": "In9A2tZ5XL3n",
        "outputId": "3d114131-10df-441b-b6d0-7e377fd727ed"
      },
      "execution_count": null,
      "outputs": [
        {
          "output_type": "stream",
          "name": "stdout",
          "text": [
            "    mcc_code          mcc_description\n",
            "65      5541  Станции техобслуживания\n"
          ]
        }
      ]
    },
    {
      "cell_type": "markdown",
      "metadata": {
        "id": "hiXRvXuACblp"
      },
      "source": [
        "# Задание 2 (3 балла)"
      ]
    },
    {
      "cell_type": "code",
      "source": [
        "from sklearn import preprocessing\n",
        "min_max_scaler = preprocessing.MinMaxScaler()\n",
        "df_scaled = pd.DataFrame(min_max_scaler.fit_transform(df_pivot), columns=df_pivot.columns)\n",
        "\n",
        "y = df_scaled['gender']\n",
        "X = df_scaled.drop(columns=['gender'])\n",
        "X.replace(float('nan'), 0, inplace=True)"
      ],
      "metadata": {
        "colab": {
          "base_uri": "https://localhost:8080/"
        },
        "id": "sDf4o-1mcFG3",
        "outputId": "72791e48-ecbc-495f-be6c-6c6e3d901d1d"
      },
      "execution_count": null,
      "outputs": [
        {
          "output_type": "stream",
          "name": "stderr",
          "text": [
            "/usr/local/lib/python3.10/dist-packages/sklearn/preprocessing/_data.py:473: RuntimeWarning: All-NaN slice encountered\n",
            "  data_min = np.nanmin(X, axis=0)\n",
            "/usr/local/lib/python3.10/dist-packages/sklearn/preprocessing/_data.py:474: RuntimeWarning: All-NaN slice encountered\n",
            "  data_max = np.nanmax(X, axis=0)\n"
          ]
        }
      ]
    },
    {
      "cell_type": "code",
      "source": [
        "import tensorflow as tf\n",
        "\n",
        "#X = tf.convert_to_tensor(X)\n",
        "#y = tf.convert_to_tensor(y)\n",
        "X = np.array(X)\n",
        "y = np.array(y)"
      ],
      "metadata": {
        "id": "Az153hvPcHWw"
      },
      "execution_count": null,
      "outputs": []
    },
    {
      "cell_type": "code",
      "source": [
        "# print(y)"
      ],
      "metadata": {
        "id": "W6EyA1-BcKQ2"
      },
      "execution_count": null,
      "outputs": []
    },
    {
      "cell_type": "code",
      "source": [
        "from sklearn.model_selection import train_test_split\n",
        "\n",
        "X_train, X_test, y_train, y_test = train_test_split(X, y, test_size=0.25, shuffle=True)"
      ],
      "metadata": {
        "id": "bXLirx5mcXwQ"
      },
      "execution_count": null,
      "outputs": []
    },
    {
      "cell_type": "code",
      "source": [
        "X_train, X_val, y_train, y_val = train_test_split(X_train, y_train, test_size=0.25, shuffle=True)"
      ],
      "metadata": {
        "id": "nE3oN6VcccMl"
      },
      "execution_count": null,
      "outputs": []
    },
    {
      "cell_type": "code",
      "source": [
        "'''print(X_train.shape)\n",
        "print(y_train.shape)\n",
        "print(y_train)'''"
      ],
      "metadata": {
        "colab": {
          "base_uri": "https://localhost:8080/",
          "height": 35
        },
        "id": "FKrq3Kn9cfWS",
        "outputId": "54452a4a-4b81-48c8-ea7d-c13920f35bde"
      },
      "execution_count": null,
      "outputs": [
        {
          "output_type": "execute_result",
          "data": {
            "text/plain": [
              "'print(X_train.shape)\\nprint(y_train.shape)\\nprint(y_train)'"
            ],
            "application/vnd.google.colaboratory.intrinsic+json": {
              "type": "string"
            }
          },
          "metadata": {},
          "execution_count": 78
        }
      ]
    },
    {
      "cell_type": "markdown",
      "metadata": {
        "id": "RE1BmT7dCetf"
      },
      "source": [
        "Постройте модель - многослойную нейронную сеть минимум с двумя скрытыми слоями и с dropout. Количество нейронов в каждом слое выберите самостоятельно.\n",
        "Функции активации, метод оптимизации, скорость обучения, параметр для dropout - выберите самостоятельно.\n",
        "\n",
        "Модель нужно построить с помощью keras или torch.\n",
        "\n",
        "Настройте параметры модели."
      ]
    },
    {
      "cell_type": "code",
      "source": [
        "from keras.models import Sequential\n",
        "from keras.layers import Dense, Activation, Flatten, Dropout, Conv2D, MaxPooling2D, BatchNormalization"
      ],
      "metadata": {
        "id": "0azSB_S_OJ2d"
      },
      "execution_count": null,
      "outputs": []
    },
    {
      "cell_type": "code",
      "source": [
        "model = Sequential()\n",
        "\n",
        "model.add(Flatten(input_shape=(27,)))\n",
        "model.add(Activation('relu'))\n",
        "model.add(Dense(units=512, input_shape=(27,)))\n",
        "model.add(Activation('relu'))\n",
        "model.add(Dropout(0.1))\n",
        "model.add(Dense(units=256))\n",
        "model.add(Activation('relu'))\n",
        "model.add(Dropout(0.1))\n",
        "model.add(Activation('relu'))\n",
        "model.add(Dropout(0.1))\n",
        "model.add(Dense(units=128))\n",
        "model.add(Activation('relu'))\n",
        "model.add(Dense(units=64))\n",
        "model.add(Activation('relu'))\n",
        "model.add(Dense(units=32))\n",
        "model.add(Activation('relu'))\n",
        "model.add(Dropout(0.1))\n",
        "model.add(Dense(units=2))\n",
        "model.add(Activation('softmax', name=\"probabilities\"))"
      ],
      "metadata": {
        "id": "Vvjor2YIcqg1"
      },
      "execution_count": null,
      "outputs": []
    },
    {
      "cell_type": "code",
      "source": [
        "model.compile(optimizer = 'adam', loss='sparse_categorical_crossentropy', metrics = ['accuracy', 'mse'])"
      ],
      "metadata": {
        "id": "jPTkP3kvgXkq"
      },
      "execution_count": null,
      "outputs": []
    },
    {
      "cell_type": "code",
      "source": [
        "history = model.fit(X_train, y_train,\n",
        "          batch_size=128,\n",
        "          epochs=35, #epochs=10,\n",
        "          verbose=1,\n",
        "          validation_data=(X_val, y_val))"
      ],
      "metadata": {
        "colab": {
          "base_uri": "https://localhost:8080/"
        },
        "id": "A_CDWZTLc0cf",
        "outputId": "502c5699-7ea8-4c68-d62b-30209c6900cd"
      },
      "execution_count": null,
      "outputs": [
        {
          "output_type": "stream",
          "name": "stdout",
          "text": [
            "Epoch 1/35\n",
            "31/31 [==============================] - 3s 19ms/step - loss: 0.6235 - accuracy: 0.6705 - mse: 0.2815 - val_loss: 0.5906 - val_accuracy: 0.7064 - val_mse: 0.3023\n",
            "Epoch 2/35\n",
            "31/31 [==============================] - 0s 9ms/step - loss: 0.5955 - accuracy: 0.6974 - mse: 0.2977 - val_loss: 0.5931 - val_accuracy: 0.6964 - val_mse: 0.3034\n",
            "Epoch 3/35\n",
            "31/31 [==============================] - 0s 9ms/step - loss: 0.5911 - accuracy: 0.7010 - mse: 0.2979 - val_loss: 0.5871 - val_accuracy: 0.7056 - val_mse: 0.2989\n",
            "Epoch 4/35\n",
            "31/31 [==============================] - 0s 10ms/step - loss: 0.5897 - accuracy: 0.7010 - mse: 0.2980 - val_loss: 0.5906 - val_accuracy: 0.7118 - val_mse: 0.2836\n",
            "Epoch 5/35\n",
            "31/31 [==============================] - 0s 9ms/step - loss: 0.5863 - accuracy: 0.7043 - mse: 0.2993 - val_loss: 0.5867 - val_accuracy: 0.7064 - val_mse: 0.2993\n",
            "Epoch 6/35\n",
            "31/31 [==============================] - 0s 9ms/step - loss: 0.5890 - accuracy: 0.6992 - mse: 0.3011 - val_loss: 0.5848 - val_accuracy: 0.7125 - val_mse: 0.3083\n",
            "Epoch 7/35\n",
            "31/31 [==============================] - 0s 10ms/step - loss: 0.5817 - accuracy: 0.7036 - mse: 0.3023 - val_loss: 0.5868 - val_accuracy: 0.7071 - val_mse: 0.2965\n",
            "Epoch 8/35\n",
            "31/31 [==============================] - 0s 8ms/step - loss: 0.5774 - accuracy: 0.7061 - mse: 0.3036 - val_loss: 0.5852 - val_accuracy: 0.7095 - val_mse: 0.2951\n",
            "Epoch 9/35\n",
            "31/31 [==============================] - 0s 8ms/step - loss: 0.5737 - accuracy: 0.7071 - mse: 0.3025 - val_loss: 0.5848 - val_accuracy: 0.7102 - val_mse: 0.3088\n",
            "Epoch 10/35\n",
            "31/31 [==============================] - 0s 7ms/step - loss: 0.5717 - accuracy: 0.7077 - mse: 0.3057 - val_loss: 0.5829 - val_accuracy: 0.7141 - val_mse: 0.3133\n",
            "Epoch 11/35\n",
            "31/31 [==============================] - 0s 7ms/step - loss: 0.5727 - accuracy: 0.7092 - mse: 0.3069 - val_loss: 0.5833 - val_accuracy: 0.7056 - val_mse: 0.3083\n",
            "Epoch 12/35\n",
            "31/31 [==============================] - 0s 6ms/step - loss: 0.5665 - accuracy: 0.7143 - mse: 0.3097 - val_loss: 0.5834 - val_accuracy: 0.7079 - val_mse: 0.3021\n",
            "Epoch 13/35\n",
            "31/31 [==============================] - 0s 6ms/step - loss: 0.5649 - accuracy: 0.7148 - mse: 0.3074 - val_loss: 0.5798 - val_accuracy: 0.7087 - val_mse: 0.2919\n",
            "Epoch 14/35\n",
            "31/31 [==============================] - 0s 7ms/step - loss: 0.5570 - accuracy: 0.7138 - mse: 0.3102 - val_loss: 0.5759 - val_accuracy: 0.7156 - val_mse: 0.3073\n",
            "Epoch 15/35\n",
            "31/31 [==============================] - 0s 6ms/step - loss: 0.5549 - accuracy: 0.7161 - mse: 0.3115 - val_loss: 0.5755 - val_accuracy: 0.7164 - val_mse: 0.3142\n",
            "Epoch 16/35\n",
            "31/31 [==============================] - 0s 8ms/step - loss: 0.5538 - accuracy: 0.7205 - mse: 0.3139 - val_loss: 0.5842 - val_accuracy: 0.7218 - val_mse: 0.2905\n",
            "Epoch 17/35\n",
            "31/31 [==============================] - 0s 6ms/step - loss: 0.5512 - accuracy: 0.7194 - mse: 0.3109 - val_loss: 0.5813 - val_accuracy: 0.6995 - val_mse: 0.3081\n",
            "Epoch 18/35\n",
            "31/31 [==============================] - 0s 8ms/step - loss: 0.5547 - accuracy: 0.7138 - mse: 0.3132 - val_loss: 0.5734 - val_accuracy: 0.7171 - val_mse: 0.2966\n",
            "Epoch 19/35\n",
            "31/31 [==============================] - 0s 6ms/step - loss: 0.5444 - accuracy: 0.7212 - mse: 0.3168 - val_loss: 0.5765 - val_accuracy: 0.7187 - val_mse: 0.3109\n",
            "Epoch 20/35\n",
            "31/31 [==============================] - 0s 6ms/step - loss: 0.5415 - accuracy: 0.7197 - mse: 0.3163 - val_loss: 0.5888 - val_accuracy: 0.6872 - val_mse: 0.2928\n",
            "Epoch 21/35\n",
            "31/31 [==============================] - 0s 6ms/step - loss: 0.5411 - accuracy: 0.7235 - mse: 0.3152 - val_loss: 0.5753 - val_accuracy: 0.7187 - val_mse: 0.3269\n",
            "Epoch 22/35\n",
            "31/31 [==============================] - 0s 6ms/step - loss: 0.5376 - accuracy: 0.7269 - mse: 0.3175 - val_loss: 0.5757 - val_accuracy: 0.7148 - val_mse: 0.3265\n",
            "Epoch 23/35\n",
            "31/31 [==============================] - 0s 6ms/step - loss: 0.5347 - accuracy: 0.7259 - mse: 0.3198 - val_loss: 0.5796 - val_accuracy: 0.7010 - val_mse: 0.3073\n",
            "Epoch 24/35\n",
            "31/31 [==============================] - 0s 7ms/step - loss: 0.5465 - accuracy: 0.7202 - mse: 0.3225 - val_loss: 0.5716 - val_accuracy: 0.7187 - val_mse: 0.2955\n",
            "Epoch 25/35\n",
            "31/31 [==============================] - 0s 6ms/step - loss: 0.5424 - accuracy: 0.7148 - mse: 0.3107 - val_loss: 0.5708 - val_accuracy: 0.7187 - val_mse: 0.3101\n",
            "Epoch 26/35\n",
            "31/31 [==============================] - 0s 6ms/step - loss: 0.5321 - accuracy: 0.7287 - mse: 0.3175 - val_loss: 0.5817 - val_accuracy: 0.7148 - val_mse: 0.3291\n",
            "Epoch 27/35\n",
            "31/31 [==============================] - 0s 7ms/step - loss: 0.5308 - accuracy: 0.7328 - mse: 0.3225 - val_loss: 0.5689 - val_accuracy: 0.7156 - val_mse: 0.3132\n",
            "Epoch 28/35\n",
            "31/31 [==============================] - 0s 6ms/step - loss: 0.5245 - accuracy: 0.7300 - mse: 0.3214 - val_loss: 0.5845 - val_accuracy: 0.7125 - val_mse: 0.3277\n",
            "Epoch 29/35\n",
            "31/31 [==============================] - 0s 6ms/step - loss: 0.5223 - accuracy: 0.7325 - mse: 0.3238 - val_loss: 0.5675 - val_accuracy: 0.7225 - val_mse: 0.3195\n",
            "Epoch 30/35\n",
            "31/31 [==============================] - 0s 6ms/step - loss: 0.5291 - accuracy: 0.7312 - mse: 0.3233 - val_loss: 0.5796 - val_accuracy: 0.7202 - val_mse: 0.3233\n",
            "Epoch 31/35\n",
            "31/31 [==============================] - 0s 6ms/step - loss: 0.5220 - accuracy: 0.7305 - mse: 0.3224 - val_loss: 0.5742 - val_accuracy: 0.7241 - val_mse: 0.3198\n",
            "Epoch 32/35\n",
            "31/31 [==============================] - 0s 6ms/step - loss: 0.5192 - accuracy: 0.7323 - mse: 0.3256 - val_loss: 0.5761 - val_accuracy: 0.7156 - val_mse: 0.3195\n",
            "Epoch 33/35\n",
            "31/31 [==============================] - 0s 6ms/step - loss: 0.5208 - accuracy: 0.7292 - mse: 0.3229 - val_loss: 0.5730 - val_accuracy: 0.7148 - val_mse: 0.3298\n",
            "Epoch 34/35\n",
            "31/31 [==============================] - 0s 6ms/step - loss: 0.5196 - accuracy: 0.7348 - mse: 0.3274 - val_loss: 0.5758 - val_accuracy: 0.7141 - val_mse: 0.3135\n",
            "Epoch 35/35\n",
            "31/31 [==============================] - 0s 6ms/step - loss: 0.5169 - accuracy: 0.7420 - mse: 0.3260 - val_loss: 0.5715 - val_accuracy: 0.7071 - val_mse: 0.3080\n"
          ]
        }
      ]
    },
    {
      "cell_type": "markdown",
      "source": [
        "## Вопросы к заданию 2"
      ],
      "metadata": {
        "id": "VQXP8vbzxHQA"
      }
    },
    {
      "cell_type": "markdown",
      "source": [
        "1. Перечислите все гиперпараметры и их значения вот в таком формате (значения приведены просто для примера, у вас могут быть другие):\n",
        "\n",
        "* количество эпох: 35\n",
        "* функция активация на скрытых слоях: ReLU\n",
        "* Процент дропаута: 10\n",
        "* размер батча: 128"
      ],
      "metadata": {
        "id": "TWc06aYwxMcZ"
      }
    },
    {
      "cell_type": "markdown",
      "source": [
        "\n",
        "2. Сколько у вашей модели параметров?"
      ],
      "metadata": {
        "id": "T_gxppW3d-sn"
      }
    },
    {
      "cell_type": "markdown",
      "metadata": {
        "id": "vjOJsBFsDOll"
      },
      "source": [
        "# Задание 3 (2 балла)"
      ]
    },
    {
      "cell_type": "markdown",
      "metadata": {
        "id": "FXHBaQF1CnuI"
      },
      "source": [
        "Оцените качество модели не менее, чем на трех разных метриках."
      ]
    },
    {
      "cell_type": "code",
      "source": [
        "model.evaluate(X_test, y_test)"
      ],
      "metadata": {
        "colab": {
          "base_uri": "https://localhost:8080/"
        },
        "id": "NVngT7H2ihWm",
        "outputId": "c9ba002c-9d7e-4167-9d3e-7d0569e2d379"
      },
      "execution_count": null,
      "outputs": [
        {
          "output_type": "stream",
          "name": "stdout",
          "text": [
            "55/55 [==============================] - 0s 4ms/step - loss: 0.5731 - accuracy: 0.7107 - mse: 0.3122\n"
          ]
        },
        {
          "output_type": "execute_result",
          "data": {
            "text/plain": [
              "[0.573117196559906, 0.710662841796875, 0.31217890977859497]"
            ]
          },
          "metadata": {},
          "execution_count": 88
        }
      ]
    },
    {
      "cell_type": "markdown",
      "source": [
        "## Вопросы к заданию 3"
      ],
      "metadata": {
        "id": "5iRvQtk9xv05"
      }
    },
    {
      "cell_type": "markdown",
      "source": [
        "1. Выведите значения метрик.\n",
        "\n",
        "loss: 0.5731 - accuracy: 0.7107 - mse: 0.3122\n",
        "\n",
        "2. Как улучшить модель?\n",
        "\n",
        "Очистить входные данные от большого количества нулевых значений, использовать регуляризацию, попробовать использовать leakyReLU или elu вместо relu, подобрать лучшее значение гиперпараметров\n",
        "\n",
        "3. Для чего может понадобиться предсказание пола клиента по его транзакциям?\n",
        "\n",
        "Для таргетирования рекламы, прогнозирования спроса"
      ],
      "metadata": {
        "id": "K2Ahe-rjxyM9"
      }
    },
    {
      "cell_type": "markdown",
      "metadata": {
        "id": "jnuaWWNID2O8"
      },
      "source": [
        "После завершения контрольной работы дайте ссылку на colab в отдельном followup **в своей теме на Piazza**. Дайте разрешение на его просмотр.\n",
        "\n",
        "**Не создавайте новую тему, не присылайте решение файлом - только ссылкой.**\n",
        "\n",
        "Не забудьте запустить код в последней ячейке для контроля времени выполнения."
      ]
    },
    {
      "cell_type": "code",
      "metadata": {
        "id": "fJ1wmMO4D8jN",
        "colab": {
          "base_uri": "https://localhost:8080/"
        },
        "outputId": "2aeab273-77a5-401b-9a0e-6f4beca85e77"
      },
      "source": [
        "current_datetime = datetime.now()\n",
        "print(current_datetime)"
      ],
      "execution_count": null,
      "outputs": [
        {
          "output_type": "stream",
          "name": "stdout",
          "text": [
            "2023-12-15 08:23:27.196725\n"
          ]
        }
      ]
    },
    {
      "cell_type": "code",
      "source": [],
      "metadata": {
        "id": "_BuZRLhKOy61"
      },
      "execution_count": null,
      "outputs": []
    }
  ]
}