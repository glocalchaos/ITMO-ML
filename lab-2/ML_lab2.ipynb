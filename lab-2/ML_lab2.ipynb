{
  "nbformat": 4,
  "nbformat_minor": 0,
  "metadata": {
    "hide_input": false,
    "kernelspec": {
      "display_name": "Python 3",
      "language": "python",
      "name": "python3"
    },
    "language_info": {
      "codemirror_mode": {
        "name": "ipython",
        "version": 3
      },
      "file_extension": ".py",
      "mimetype": "text/x-python",
      "name": "python",
      "nbconvert_exporter": "python",
      "pygments_lexer": "ipython3",
      "version": "3.7.1"
    },
    "toc": {
      "base_numbering": 1,
      "nav_menu": {},
      "number_sections": true,
      "sideBar": true,
      "skip_h1_title": false,
      "title_cell": "Table of Contents",
      "title_sidebar": "Contents",
      "toc_cell": true,
      "toc_position": {},
      "toc_section_display": true,
      "toc_window_display": false
    },
    "varInspector": {
      "cols": {
        "lenName": 16,
        "lenType": 16,
        "lenVar": 40
      },
      "kernels_config": {
        "python": {
          "delete_cmd_postfix": "",
          "delete_cmd_prefix": "del ",
          "library": "var_list.py",
          "varRefreshCmd": "print(var_dic_list())"
        },
        "r": {
          "delete_cmd_postfix": ") ",
          "delete_cmd_prefix": "rm(",
          "library": "var_list.r",
          "varRefreshCmd": "cat(var_dic_list()) "
        }
      },
      "types_to_exclude": [
        "module",
        "function",
        "builtin_function_or_method",
        "instance",
        "_Feature"
      ],
      "window_display": false
    },
    "colab": {
      "provenance": []
    }
  },
  "cells": [
    {
      "cell_type": "code",
      "metadata": {
        "ExecuteTime": {
          "end_time": "2020-04-23T10:16:05.965275Z",
          "start_time": "2020-04-23T10:16:05.312704Z"
        },
        "id": "bZ7J0si68JdT"
      },
      "source": [
        "import pandas as pd\n",
        "import numpy as np"
      ],
      "execution_count": null,
      "outputs": []
    },
    {
      "cell_type": "code",
      "source": [
        "from google.colab import drive\n",
        "drive.mount('/content/drive')"
      ],
      "metadata": {
        "colab": {
          "base_uri": "https://localhost:8080/"
        },
        "id": "FploM1eCX-NM",
        "outputId": "1cb4e9ab-064c-4c03-a0e6-9e5bf671a8e3"
      },
      "execution_count": null,
      "outputs": [
        {
          "output_type": "stream",
          "name": "stdout",
          "text": [
            "Mounted at /content/drive\n"
          ]
        }
      ]
    },
    {
      "cell_type": "code",
      "source": [
        "transactions = pd.read_csv(\"drive/MyDrive/Colab Notebooks/transactions.csv\",\n",
        "            sep = ',', nrows=1000000)\n",
        "tr_types = pd.read_csv(\"drive/MyDrive/Colab Notebooks/tr_types.csv\",\n",
        "            sep = ';')\n",
        "gender_train = pd.read_csv(\"drive/MyDrive/Colab Notebooks/gender_train.csv\",\n",
        "            sep = ',')\n",
        "tr_mcc_codes = pd.read_csv(\"drive/MyDrive/Colab Notebooks/tr_mcc_codes.csv\",\n",
        "            sep = ';')"
      ],
      "metadata": {
        "id": "kCwTIz2Mkmg2"
      },
      "execution_count": null,
      "outputs": []
    },
    {
      "cell_type": "markdown",
      "metadata": {
        "id": "xjvL0IIG8Jd0"
      },
      "source": [
        "## Задание 0\n"
      ]
    },
    {
      "cell_type": "markdown",
      "metadata": {
        "id": "yaSxXHvxO0qo"
      },
      "source": [
        "Для всех  заданий будем использовать обезличенные транзакционные банковские данные. Для этого считайте в переменные **tr_mcc_codes, tr_types, transactions и gender_train** из одноимённых таблиц из папки [data](https://drive.google.com/drive/folders/1YAMe7MiTxA-RSSd8Ex2p-L0Dspe6Gs4L).\n",
        "\n",
        "Для таблицы transactions используйте только первые n=1000000 строк. При чтении файлов обратите внимание на разделители внутри каждого из файлов - они могут различаться!"
      ]
    },
    {
      "cell_type": "markdown",
      "metadata": {
        "id": "oP3lX9xC8Jd8"
      },
      "source": [
        "###  Описание данных\n",
        "#### Таблица ```transactions.csv```\n",
        "##### Описание\n",
        "Таблица содержит историю транзакций клиентов банка за один год и три месяца.\n",
        "\n",
        "##### Формат данных\n",
        "\n",
        "```\n",
        "customer_id,tr_datetime,mcc_code,tr_type,amount,term_id\n",
        "111111,15 01:40:52,1111,1000,-5224,111111\n",
        "111112,15 15:18:32,3333,2000,-100,11122233\n",
        "...\n",
        "```\n",
        "##### Описание полей\n",
        "\n",
        " - ```customer_id``` — идентификатор клиента;\n",
        " - ```tr_datetime``` — день и время совершения транзакции (дни нумеруются с начала данных);\n",
        " - ```mcc_code``` — mcc-код транзакции;\n",
        " - ```tr_type``` — тип транзакции;\n",
        " - ```amount``` — сумма транзакции в условных единицах со знаком; ```+``` — начисление средств клиенту (приходная транзакция), ```-``` — списание средств (расходная транзакция);\n",
        " - ```term_id``` — идентификатор терминала;\n",
        "\n",
        "\n",
        "#### Таблица ```gender_train.csv```\n",
        "\n",
        "##### Описание\n",
        "Данная таблица содержит информацию по полу для части клиентов, для которых он известен. Для остальных клиентов пол неизвестен.\n",
        "\n",
        "##### Формат данных\n",
        "```\n",
        "customer_id,gender\n",
        "111111,0\n",
        "111112,1\n",
        "...\n",
        "```\n",
        "\n",
        "##### Описание полей\n",
        " - ```customer_id``` — идентификатор клиента;\n",
        " - ```gender``` — пол клиента;\n",
        "\n",
        "### Таблица ```tr_mcc_codes.csv```\n",
        "\n",
        "##### Описание\n",
        "Данная таблица содержит описание mcc-кодов транзакций.\n",
        "\n",
        "##### Формат данных\n",
        "```\n",
        "mcc_code;mcc_description\n",
        "1000;словесное описание mcc-кода 1000\n",
        "2000;словесное описание mcc-кода 2000\n",
        "...\n",
        "```\n",
        "\n",
        "##### Описание полей\n",
        " - ```mcc_code``` – mcc-код транзакции;\n",
        " - ```mcc_description``` — описание mcc-кода транзакции.\n",
        "\n",
        "#### Таблица ```tr_types.csv```\n",
        "\n",
        "##### Описание\n",
        "Данная таблица содержит описание типов транзакций.\n",
        "\n",
        "##### Формат данных\n",
        "```\n",
        "tr_type;tr_description\n",
        "1000;словесное описание типа транзакции 1000\n",
        "2000;словесное описание типа транзакции 2000\n",
        "...\n",
        "```\n",
        "\n",
        "##### Описание полей\n",
        " - ```tr_type``` – тип транзакции;\n",
        " - ```tr_description``` — описание типа транзакции;"
      ]
    },
    {
      "cell_type": "markdown",
      "metadata": {
        "id": "04CYsBKz8JeB"
      },
      "source": [
        "\n",
        "Задания 1-4 делаются без использования merge!\n",
        "\n",
        "## Задание 1\n",
        "\n"
      ]
    },
    {
      "cell_type": "markdown",
      "metadata": {
        "id": "1hcrfwsYN_Yz"
      },
      "source": [
        "1. Для столбца tr_type датафрейма transactions выберите произвольные 1000 строк с помощью метода sample\n",
        "2. В полученной на предыдущем этапе подвыборке найдите долю транзакций (стобец tr_description в датасете tr_types), в которой содержится подстрока 'POS' или 'ATM'\n"
      ]
    },
    {
      "cell_type": "code",
      "source": [
        "transactions_sample = transactions.sample(n = 1000)"
      ],
      "metadata": {
        "id": "yeGyukvfUOzZ"
      },
      "execution_count": null,
      "outputs": []
    },
    {
      "cell_type": "code",
      "source": [
        "count = transactions_sample[transactions_sample['tr_type'].isin(tr_types[tr_types['tr_description'].str.contains('POS|ATM')]['tr_type'])].shape[0]\n",
        "fraction = count / transactions_sample.shape[0]\n",
        "\n",
        "print(fraction)"
      ],
      "metadata": {
        "colab": {
          "base_uri": "https://localhost:8080/"
        },
        "id": "jZP-PPIpOMiu",
        "outputId": "7a39c1d1-da37-4565-a6ea-295c2c16c5a4"
      },
      "execution_count": null,
      "outputs": [
        {
          "output_type": "stream",
          "name": "stdout",
          "text": [
            "0.395\n"
          ]
        }
      ]
    },
    {
      "cell_type": "markdown",
      "metadata": {
        "id": "fiZBDIZt8JeS"
      },
      "source": [
        "## Задание 2\n"
      ]
    },
    {
      "cell_type": "markdown",
      "metadata": {
        "id": "FFKeBUThOCrz"
      },
      "source": [
        "1. Для столбца tr_type датафрейма transactions посчитайте частоту встречаемости всех типов транзакций tr_type в transactions.\n",
        "2. Выведите топ-10 транзакций по частоте встречаемости (вывести для них tr_description тоже)."
      ]
    },
    {
      "cell_type": "code",
      "source": [
        "freq = transactions_sample['tr_type'].value_counts(normalize=True, sort=True)\n",
        "\n",
        "top_10_tr = freq.head(10)\n",
        "print(top_10_tr)\n",
        "\n",
        "for tr_type in top_10_tr.index:\n",
        "  print(tr_types[tr_types['tr_type'] == tr_type])\n",
        "#print(tr_types[tr_types['tr_type'].isin(top_10_tr.index)][['tr_type', 'tr_description']].drop_duplicates())"
      ],
      "metadata": {
        "colab": {
          "base_uri": "https://localhost:8080/"
        },
        "id": "in0n1IS7gK3n",
        "outputId": "5715d3ad-966e-423a-8b3c-f057b2b548ca"
      },
      "execution_count": null,
      "outputs": [
        {
          "output_type": "stream",
          "name": "stdout",
          "text": [
            "1010    0.244\n",
            "2010    0.155\n",
            "1110    0.145\n",
            "7070    0.142\n",
            "1030    0.108\n",
            "2370    0.060\n",
            "7030    0.025\n",
            "7010    0.016\n",
            "1200    0.016\n",
            "7071    0.014\n",
            "Name: tr_type, dtype: float64\n",
            "    tr_type         tr_description\n",
            "98     1010  Покупка. POS ТУ СБ РФ\n",
            "     tr_type                         tr_description\n",
            "106     2010  Выдача наличных в АТМ Сбербанк России\n",
            "     tr_type          tr_description\n",
            "101     1110  Покупка. POS ТУ Россия\n",
            "    tr_type                                     tr_description\n",
            "59     7070  Перевод на карту (с карты) через Мобильный бан...\n",
            "    tr_type                  tr_description\n",
            "99     1030  Оплата услуги. Банкоматы СБ РФ\n",
            "     tr_type                                     tr_description\n",
            "129     2370  Списание с карты на карту по операции <перевод...\n",
            "    tr_type                                     tr_description\n",
            "47     7030  Перевод на карту (с карты) через АТМ (в предел...\n",
            "    tr_type                                tr_description\n",
            "39     7010  Взнос наличных через АТМ (в своем тер.банке)\n",
            "     tr_type        tr_description\n",
            "102     1200  Покупка. Зарубеж. ТУ\n",
            "    tr_type                                     tr_description\n",
            "60     7071  Перевод на карту (с карты) через Мобильный бан...\n"
          ]
        }
      ]
    },
    {
      "cell_type": "markdown",
      "metadata": {
        "id": "mktm_JeA8JeX"
      },
      "source": [
        "## Задание 3\n",
        "1. В датафрейме transactions найдите клиента с максимальной суммой приходов на карту\n",
        "2. В датафрейме transactions найдите клиента с максимальной суммой расходов по карте\n",
        "3. Найдите модуль разницы для этих клиентов между суммой расходов и суммой приходов"
      ]
    },
    {
      "cell_type": "code",
      "source": [
        "max_income_client = transactions[transactions.amount > 0].groupby('customer_id')['amount'].sum().sort_values(ascending = False).head(1)\n",
        "print(max_income_client)"
      ],
      "metadata": {
        "colab": {
          "base_uri": "https://localhost:8080/"
        },
        "id": "DWOB78_9iEB8",
        "outputId": "c6cadb65-d5b9-4c61-a688-2c75e25691e9"
      },
      "execution_count": null,
      "outputs": [
        {
          "output_type": "stream",
          "name": "stdout",
          "text": [
            "customer_id\n",
            "70780820    1.248115e+09\n",
            "Name: amount, dtype: float64\n"
          ]
        }
      ]
    },
    {
      "cell_type": "code",
      "source": [
        "max_expence_client = transactions[transactions.amount < 0].groupby('customer_id')['amount'].sum().sort_values().head(1)\n",
        "print(max_expence_client)"
      ],
      "metadata": {
        "colab": {
          "base_uri": "https://localhost:8080/"
        },
        "id": "B0V1EnnUlKR2",
        "outputId": "7f05bd17-05f6-4592-a0e2-f416dca34864"
      },
      "execution_count": null,
      "outputs": [
        {
          "output_type": "stream",
          "name": "stdout",
          "text": [
            "customer_id\n",
            "70780820   -1.249952e+09\n",
            "Name: amount, dtype: float64\n"
          ]
        }
      ]
    },
    {
      "cell_type": "code",
      "source": [
        "diff = np.abs(max_income_client.max() + max_expence_client.max())\n",
        "\n",
        "print(diff)"
      ],
      "metadata": {
        "colab": {
          "base_uri": "https://localhost:8080/"
        },
        "id": "4Dy8s4J8lZsx",
        "outputId": "1b2e4a91-2640-43bc-afe0-611d6d1d30b7"
      },
      "execution_count": null,
      "outputs": [
        {
          "output_type": "stream",
          "name": "stdout",
          "text": [
            "1837317.980000019\n"
          ]
        }
      ]
    },
    {
      "cell_type": "markdown",
      "source": [
        "## Доп. задание"
      ],
      "metadata": {
        "id": "6ox50JqiuBCx"
      }
    },
    {
      "cell_type": "code",
      "source": [
        "print(\"Пол клиента: \")\n",
        "print(gender_train[gender_train['customer_id'] == max_income_client.index[0]])\n",
        "\n",
        "\n",
        "print(\"Категории, в которых он тратит деньги: \")\n",
        "client_transactions = transactions[transactions['customer_id'] == max_income_client.index[0]]\n",
        "client_transactions = client_transactions['tr_type']\n",
        "client_transactions = client_transactions.unique()\n",
        "for tr_type in client_transactions:\n",
        "  print(tr_types[tr_types['tr_type'] == tr_type])\n",
        "\n",
        "\n",
        "print(\"Клиент противоположного пола с ближайшими тратами\")\n",
        "\n",
        "opposite_sex_client = transactions[(transactions.amount < 0) & (transactions.gender == 0)].groupby('customer_id')['amount'].sum().to_frame()\n",
        "\n",
        "target_expense = max_expence_client.to_frame().iloc[0][0]\n",
        "\n",
        "\n",
        "opposite_sex_client = opposite_sex_client.loc[(opposite_sex_client['amount'] - target_expense).abs().idxmin()]\n",
        "print(opposite_sex_client.name)\n",
        "\n",
        "print(\"Категории в которых он тратит:\")\n",
        "client_transactions = transactions[transactions['customer_id'] == opposite_sex_client.name]\n",
        "client_transactions = client_transactions['tr_type']\n",
        "client_transactions = client_transactions.unique()\n",
        "for tr_type in client_transactions:\n",
        "  print(tr_types[tr_types['tr_type'] == tr_type])"
      ],
      "metadata": {
        "colab": {
          "base_uri": "https://localhost:8080/"
        },
        "id": "TeX-VdMyuMSl",
        "outputId": "8f2fa43d-4450-4980-bf02-8e0b7b593c24"
      },
      "execution_count": null,
      "outputs": [
        {
          "output_type": "stream",
          "name": "stdout",
          "text": [
            "Пол клиента: \n",
            "      customer_id  gender\n",
            "8036     70780820       1\n",
            "Категории, в которых он тратит деньги: \n",
            "     tr_type                         tr_description\n",
            "106     2010  Выдача наличных в АТМ Сбербанк России\n",
            "     tr_type                                     tr_description\n",
            "118     2330  Списание с карты по операции “перевода с карты...\n",
            "     tr_type                                     tr_description\n",
            "129     2370  Списание с карты на карту по операции <перевод...\n",
            "    tr_type                  tr_description\n",
            "35     6110  Возврат покупки. POS ТУ Россия\n",
            "    tr_type            tr_description\n",
            "43     7020  Взнос наличных через POS\n",
            "    tr_type                                     tr_description\n",
            "59     7070  Перевод на карту (с карты) через Мобильный бан...\n",
            "    tr_type                                     tr_description\n",
            "47     7030  Перевод на карту (с карты) через АТМ (в предел...\n",
            "    tr_type                                     tr_description\n",
            "60     7071  Перевод на карту (с карты) через Мобильный бан...\n",
            "    tr_type            tr_description\n",
            "44     7021  Взнос наличных через POS\n",
            "    tr_type                                     tr_description\n",
            "48     7031  Перевод на карту (с карты) через АТМ (из одног...\n",
            "    tr_type                                     tr_description\n",
            "61     7074  Перевод с карты на карту в овердрафте через Мо...\n",
            "    tr_type                                     tr_description\n",
            "52     7040  Перевод на карту (с карты) через POS (в предел...\n",
            "    tr_type                                     tr_description\n",
            "50     7034  Перевод на карту/ с карты через АТМ (без взима...\n",
            "Клиент противоположного пола с ближайшими тратами\n",
            "24753950\n",
            "Категории в которых он тратит:\n",
            "    tr_type                  tr_description\n",
            "99     1030  Оплата услуги. Банкоматы СБ РФ\n",
            "     tr_type       tr_description\n",
            "100     1100  Покупка. ТУ  Россия\n",
            "     tr_type          tr_description\n",
            "101     1110  Покупка. POS ТУ Россия\n",
            "    tr_type         tr_description\n",
            "98     1010  Покупка. POS ТУ СБ РФ\n",
            "     tr_type        tr_description\n",
            "102     1200  Покупка. Зарубеж. ТУ\n",
            "    tr_type                                tr_description\n",
            "39     7010  Взнос наличных через АТМ (в своем тер.банке)\n",
            "     tr_type                         tr_description\n",
            "106     2010  Выдача наличных в АТМ Сбербанк России\n",
            "     tr_type                                     tr_description\n",
            "118     2330  Списание с карты по операции “перевода с карты...\n",
            "     tr_type                                     tr_description\n",
            "129     2370  Списание с карты на карту по операции <перевод...\n",
            "     tr_type                                     tr_description\n",
            "119     2331  Списание с карты по операции “перевода с карты...\n",
            "    tr_type                                     tr_description\n",
            "14     4051  Плата за перевод на карту (с карты) через АТМ ...\n",
            "     tr_type                       tr_description\n",
            "108     2020  Выдача наличных через POS Сбербанка\n",
            "    tr_type                                     tr_description\n",
            "59     7070  Перевод на карту (с карты) через Мобильный бан...\n",
            "    tr_type                                     tr_description\n",
            "47     7030  Перевод на карту (с карты) через АТМ (в предел...\n",
            "    tr_type                                     tr_description\n",
            "61     7074  Перевод с карты на карту в овердрафте через Мо...\n",
            "   tr_type                                     tr_description\n",
            "7     4020  Плата за получение наличных через POS в Сбербанке\n"
          ]
        }
      ]
    },
    {
      "cell_type": "markdown",
      "metadata": {
        "id": "BYrJ5b_E8Jee"
      },
      "source": [
        "## Задание 4\n",
        "1. Найдите среднее арифметическое и медиану по amount по всем типам транзакций из топ 10 из задания 2\n",
        "1. Найдите среднее арифметическое и медиану по amount по всем типам транзакций для клиентов из задания 3"
      ]
    },
    {
      "cell_type": "code",
      "source": [
        "mean_top_10 = transactions[transactions['tr_type'].isin(top_10_tr.index)].groupby('tr_type').mean(['amount'])\n",
        "print(mean_top_10)\n",
        "#mean_top_10['mean_amount'] = mean_top_10.groupby('tr_type').mean(['amount'])\n",
        "#print(mean_top_10)\n",
        "\n",
        "median_top_10 = transactions[transactions['tr_type'].isin(top_10_tr.index)].groupby('tr_type').median(['amount'])\n",
        "print(median_top_10)"
      ],
      "metadata": {
        "id": "lsFbJqlaoxe_",
        "colab": {
          "base_uri": "https://localhost:8080/"
        },
        "outputId": "d93b8486-77fc-4fc3-e8ea-1159d91e5d47"
      },
      "execution_count": null,
      "outputs": [
        {
          "output_type": "stream",
          "name": "stdout",
          "text": [
            "          customer_id     mcc_code         amount    gender    tr_hour\n",
            "tr_type                                                               \n",
            "1010     5.039681e+07  5613.395224  -19784.748640  0.490903  13.821186\n",
            "1030     4.989148e+07  4814.007144   -5320.980222  0.420001  12.767128\n",
            "1110     5.081484e+07  5595.733586  -32119.330371  0.534669   5.537034\n",
            "1200     5.130010e+07  6299.572704  -35440.107159  0.616155   0.532105\n",
            "2010     5.019928e+07  6011.000000 -136077.629325  0.493195  12.666863\n",
            "2370     5.137999e+07  4829.000000 -205418.249032  0.446197  13.306121\n",
            "7010     5.120879e+07  6011.000000  276391.789596  0.471838  13.173892\n",
            "7030     6.209183e+07  6010.000000   86104.332909  0.719004  10.592070\n",
            "7070     6.408689e+07  6010.000000   65569.831700  0.795462  11.322309\n",
            "7071     4.782654e+07  6010.000000   66806.826623  0.843147  13.225081\n",
            "         customer_id  mcc_code     amount  gender  tr_hour\n",
            "tr_type                                                   \n",
            "1010      49724677.0    5499.0   -7411.52     0.0     14.0\n",
            "1030      50885447.0    4814.0   -2245.92     0.0     13.0\n",
            "1110      50859777.0    5411.0  -11207.57     1.0      0.0\n",
            "1200      55045775.0    5964.0   -6692.83     1.0      0.0\n",
            "2010      50859777.0    6011.0  -44918.32     0.0     13.0\n",
            "2370      54871257.0    4829.0  -44918.32     0.0     13.0\n",
            "7010      50600527.5    6011.0  112295.79     0.0     13.0\n",
            "7030      70780820.0    6010.0   13951.52     1.0     11.0\n",
            "7070      70780820.0    6010.0   11319.42     1.0     12.0\n",
            "7071      32489134.0    6010.0    3593.47     1.0     14.0\n"
          ]
        }
      ]
    },
    {
      "cell_type": "code",
      "source": [
        "mean_client = transactions[transactions['customer_id'].isin(max_income_client.index)]['amount'].mean()\n",
        "print(mean_top_10)\n",
        "\n",
        "median_client = transactions[transactions['customer_id'].isin(max_income_client.index)]['amount'].median()\n",
        "print(median_top_10)"
      ],
      "metadata": {
        "id": "ZdsixJdwqyki",
        "colab": {
          "base_uri": "https://localhost:8080/"
        },
        "outputId": "c2f3e68c-8c8c-4e8e-e3fe-57c487ec7297"
      },
      "execution_count": null,
      "outputs": [
        {
          "output_type": "stream",
          "name": "stdout",
          "text": [
            "-194731.06740639365\n",
            "-67377.47\n"
          ]
        }
      ]
    },
    {
      "cell_type": "markdown",
      "metadata": {
        "id": "BYXwM4l3QDBu"
      },
      "source": [
        "## Подготовка для заданий 5-8"
      ]
    },
    {
      "cell_type": "markdown",
      "metadata": {
        "id": "XWQzFeKcQHRe"
      },
      "source": [
        "*Из заданий 5-8 нужно выполнить минимум два любых*\n",
        "\n",
        "Соедините transactions с всеми остальными таблицами (tr_mcc_codes, tr_types, gender_train). Причём с gender_train необходимо смёрджиться с помощью left join, а с оставшимися датафреймами - через inner.\n",
        "После получения результата таблицы gender_train, tr_types, tr_mcc_codes можно удалить. В результате соединения датафреймов должно получиться 999584 строки."
      ]
    },
    {
      "cell_type": "code",
      "metadata": {
        "id": "sndJxjJ7QQf5",
        "colab": {
          "base_uri": "https://localhost:8080/"
        },
        "outputId": "dc87a07f-012c-4cec-80d3-a0ad088bb723"
      },
      "source": [
        "transactions = pd.merge(transactions, gender_train, on='customer_id', how='left')\n",
        "transactions = pd.merge(transactions, tr_mcc_codes, on='mcc_code', how='inner')\n",
        "transactions = pd.merge(transactions, tr_types, on='tr_type', how='inner')\n",
        "\n",
        "\n",
        "transactions.shape"
      ],
      "execution_count": null,
      "outputs": [
        {
          "output_type": "execute_result",
          "data": {
            "text/plain": [
              "(999584, 9)"
            ]
          },
          "metadata": {},
          "execution_count": 12
        }
      ]
    },
    {
      "cell_type": "code",
      "source": [
        "print(transactions.head(n = 10))\n",
        "print(transactions.shape)"
      ],
      "metadata": {
        "colab": {
          "base_uri": "https://localhost:8080/"
        },
        "id": "1i1YpeRkkZWW",
        "outputId": "71b15012-1f48-4de9-9692-88634bad149f"
      },
      "execution_count": null,
      "outputs": [
        {
          "output_type": "stream",
          "name": "stdout",
          "text": [
            "   customer_id  tr_datetime  mcc_code  tr_type   amount term_id  gender  \\\n",
            "0     39026145   0 10:23:26      4814     1030 -2245.92     NaN     1.0   \n",
            "1     39026145   6 07:08:31      4814     1030 -5614.79     NaN     1.0   \n",
            "2     39026145   8 07:06:10      4814     1030 -1122.96     NaN     1.0   \n",
            "3     39026145  11 08:49:03      4814     1030 -2245.92     NaN     1.0   \n",
            "4     39026145  11 14:12:08      4814     1030 -2245.92     NaN     1.0   \n",
            "5     39026145  11 14:15:30      4814     1030 -2245.92     NaN     1.0   \n",
            "6     39026145  13 11:17:34      4814     1030 -2245.92     NaN     1.0   \n",
            "7     39026145  18 07:39:05      4814     1030 -2245.92     NaN     1.0   \n",
            "8     39026145  19 13:24:35      4814     1030  -449.18     NaN     1.0   \n",
            "9     39026145  19 13:25:31      4814     1030 -1122.96     NaN     1.0   \n",
            "\n",
            "                                     mcc_description  \\\n",
            "0  Звонки с использованием телефонов, считывающих...   \n",
            "1  Звонки с использованием телефонов, считывающих...   \n",
            "2  Звонки с использованием телефонов, считывающих...   \n",
            "3  Звонки с использованием телефонов, считывающих...   \n",
            "4  Звонки с использованием телефонов, считывающих...   \n",
            "5  Звонки с использованием телефонов, считывающих...   \n",
            "6  Звонки с использованием телефонов, считывающих...   \n",
            "7  Звонки с использованием телефонов, считывающих...   \n",
            "8  Звонки с использованием телефонов, считывающих...   \n",
            "9  Звонки с использованием телефонов, считывающих...   \n",
            "\n",
            "                   tr_description  \n",
            "0  Оплата услуги. Банкоматы СБ РФ  \n",
            "1  Оплата услуги. Банкоматы СБ РФ  \n",
            "2  Оплата услуги. Банкоматы СБ РФ  \n",
            "3  Оплата услуги. Банкоматы СБ РФ  \n",
            "4  Оплата услуги. Банкоматы СБ РФ  \n",
            "5  Оплата услуги. Банкоматы СБ РФ  \n",
            "6  Оплата услуги. Банкоматы СБ РФ  \n",
            "7  Оплата услуги. Банкоматы СБ РФ  \n",
            "8  Оплата услуги. Банкоматы СБ РФ  \n",
            "9  Оплата услуги. Банкоматы СБ РФ  \n",
            "(999584, 9)\n"
          ]
        }
      ]
    },
    {
      "cell_type": "markdown",
      "metadata": {
        "id": "8vrFauJ8QgmT"
      },
      "source": [
        "## Задание 5"
      ]
    },
    {
      "cell_type": "markdown",
      "metadata": {
        "id": "rOjEQ5xyQfE_"
      },
      "source": [
        "1. Определите модуль разницы между средними тратами женщин и мужчин (трата - отрицательное значение amount).\n",
        "2. Определите модуль разницы между средними поступлениями у мужчин и женщин\n",
        "\n",
        "Обратите внимание, что для вычисления модуля разности точных знаний о том,\n",
        "какой класc относится к мужчинам, а какой - к женщинам, не требуется."
      ]
    },
    {
      "cell_type": "code",
      "source": [
        "mean_spent_diff = abs(transactions[(transactions['amount'] < 0) & (transactions['gender'] == 0)]['amount'].mean() - transactions[(transactions['amount'] < 0) & (transactions['gender'] == 1)]['amount'].mean())\n",
        "print(mean_spent_diff)"
      ],
      "metadata": {
        "colab": {
          "base_uri": "https://localhost:8080/"
        },
        "id": "jcOgMCfbslQd",
        "outputId": "013689f2-ad7a-4890-f7ca-4ab421d10afb"
      },
      "execution_count": null,
      "outputs": [
        {
          "output_type": "stream",
          "name": "stdout",
          "text": [
            "32718.05492022467\n"
          ]
        }
      ]
    },
    {
      "cell_type": "code",
      "source": [
        "mean_income_diff = abs(transactions[(transactions['amount'] > 0) & (transactions['gender'] == 0)]['amount'].mean() - transactions[(transactions['amount'] > 0) & (transactions['gender'] == 1)]['amount'].mean())\n",
        "print(mean_income_diff)"
      ],
      "metadata": {
        "colab": {
          "base_uri": "https://localhost:8080/"
        },
        "id": "oZgOBQGoukSI",
        "outputId": "6e719971-88a3-410b-9df2-6b731142d2c2"
      },
      "execution_count": null,
      "outputs": [
        {
          "output_type": "stream",
          "name": "stdout",
          "text": [
            "63366.57104801465\n"
          ]
        }
      ]
    },
    {
      "cell_type": "markdown",
      "metadata": {
        "id": "DSHFLbepQ7G1"
      },
      "source": [
        "## Задание 6"
      ]
    },
    {
      "cell_type": "markdown",
      "metadata": {
        "id": "2EF1490bQ-17"
      },
      "source": [
        "1. По всем типам транзакций рассчитайте максимальную сумму прихода на карту (из строго положительных сумм по столбцу amount) отдельно для мужчин и женщин (назовите ее \"max_income\"). Оставьте по 10 типов транзакций для мужчин и для женщин, наименьших среди всех типов транзакций по полученным значениям \"max_income\".\n",
        "2. Выделите среди них те типы транзакций, которые встречаются одновременно и у мужчин, и у женщин"
      ]
    },
    {
      "cell_type": "code",
      "source": [
        "max_income_by_type = transactions[transactions['amount'] > 0].groupby(['gender', 'tr_type'])['amount'].agg('max').reset_index()\n",
        "\n",
        "female_least10 = max_income_by_type[max_income_by_type['gender'] == 0].sort_values('amount').head(10)\n",
        "male_least10 = max_income_by_type[max_income_by_type['gender'] == 1].sort_values('amount').head(10)\n",
        "\n",
        "print(female_least10)\n",
        "print(male_least10)"
      ],
      "metadata": {
        "colab": {
          "base_uri": "https://localhost:8080/"
        },
        "id": "piZSogLSuyS1",
        "outputId": "c1319fb3-2991-4f69-a665-f975ab10579a"
      },
      "execution_count": null,
      "outputs": [
        {
          "output_type": "stream",
          "name": "stdout",
          "text": [
            "    gender  tr_type    amount\n",
            "10     0.0     4051   1122.96\n",
            "12     0.0     4110   2245.92\n",
            "13     0.0     4210   2245.92\n",
            "9      0.0     2370   2335.75\n",
            "11     0.0     4100   5041.86\n",
            "36     0.0     7075   6737.75\n",
            "6      0.0     2110  22459.16\n",
            "0      0.0     1010  24839.83\n",
            "5      0.0     2010  44918.32\n",
            "7      0.0     2210  68315.82\n",
            "    gender  tr_type     amount\n",
            "47     1.0     4110    2245.92\n",
            "44     1.0     2020    2245.92\n",
            "38     1.0     1010   28803.87\n",
            "71     1.0     8100   64682.37\n",
            "48     1.0     6000   79280.83\n",
            "66     1.0     7041   87590.72\n",
            "43     1.0     2010   89836.63\n",
            "45     1.0     2110  112295.79\n",
            "46     1.0     2370  113194.15\n",
            "57     1.0     7015  121279.45\n"
          ]
        }
      ]
    },
    {
      "cell_type": "code",
      "source": [
        "common_tr_types = pd.merge(female_least10, male_least10, on='tr_type', how='inner')['tr_type']\n",
        "print(common_tr_types)"
      ],
      "metadata": {
        "colab": {
          "base_uri": "https://localhost:8080/"
        },
        "id": "XtMlcxuKxCLw",
        "outputId": "34ff8139-667b-4017-951c-dfb5113f307e"
      },
      "execution_count": null,
      "outputs": [
        {
          "output_type": "stream",
          "name": "stdout",
          "text": [
            "0    4110\n",
            "1    2370\n",
            "2    2110\n",
            "3    1010\n",
            "4    2010\n",
            "Name: tr_type, dtype: int64\n"
          ]
        }
      ]
    },
    {
      "cell_type": "markdown",
      "metadata": {
        "id": "W-LaVwRdR3UB"
      },
      "source": [
        "## Задание 7"
      ]
    },
    {
      "cell_type": "markdown",
      "metadata": {
        "id": "rhI4NOciR7e0"
      },
      "source": [
        "1. Найдите суммы затрат по каждой категории (mcc) для мужчин и для женщин.\n",
        "2. Найдите топ 10 категорий с самыми большими относительными модулями разности в тратах для разных полов (в ответе должны присутствовать описания mcc кодов)."
      ]
    },
    {
      "cell_type": "code",
      "source": [
        "male_spent_by_mcc = transactions[(transactions['gender'] == 0) & (transactions['amount'] < 0)].groupby('mcc_code')['amount'].sum()\n",
        "female_spent_by_mcc = transactions[(transactions['gender'] == 1) & (transactions['amount'] < 0)].groupby('mcc_code')['amount'].sum()\n",
        "\n",
        "print(male_spent_by_mcc)\n",
        "print(female_spent_by_mcc)"
      ],
      "metadata": {
        "colab": {
          "base_uri": "https://localhost:8080/"
        },
        "id": "nQ8Lnc4dxwwz",
        "outputId": "4b703ab6-576f-4363-dd24-0e6839c94c7e"
      },
      "execution_count": null,
      "outputs": [
        {
          "output_type": "stream",
          "name": "stdout",
          "text": [
            "mcc_code\n",
            "742      -386207.68\n",
            "1711     -674897.69\n",
            "1799     -261626.73\n",
            "2741      -20746.42\n",
            "3000   -74431645.27\n",
            "           ...     \n",
            "8699     -521107.48\n",
            "8999   -19432057.92\n",
            "9222     -361143.24\n",
            "9311     -406197.45\n",
            "9399    -1481389.65\n",
            "Name: amount, Length: 174, dtype: float64\n",
            "mcc_code\n",
            "742      -132277.93\n",
            "1711     -206264.90\n",
            "1731     -121542.67\n",
            "1799    -1129257.68\n",
            "2741     -221290.08\n",
            "           ...     \n",
            "8999   -28643346.63\n",
            "9222     -988205.17\n",
            "9311     -373271.22\n",
            "9399    -1810820.67\n",
            "9402       -4581.67\n",
            "Name: amount, Length: 175, dtype: float64\n"
          ]
        }
      ]
    },
    {
      "cell_type": "code",
      "source": [
        "spent_by_mcc = pd.concat([male_spent_by_mcc, female_spent_by_mcc], axis=1)\n",
        "spent_by_mcc.columns = ['male', 'female']\n",
        "#####print(spent_by_mcc)\n",
        "\n",
        "spent_by_mcc['diff'] = spent_by_mcc['male'] - spent_by_mcc['female']\n",
        "\n",
        "top_10_diff_mcc = spent_by_mcc.reindex(spent_by_mcc['diff'].abs().sort_values(ascending=False).index)[:10]\n",
        "\n",
        "# top_10_diff_mcc['mcc_description'] = top_10_diff_mcc.index.map(tr_mcc_codes)\n",
        "top_10_diff_mcc = pd.merge(top_10_diff_mcc, tr_mcc_codes, left_on='mcc_code', right_on='mcc_code', how='left')\n",
        "print(top_10_diff_mcc)\n",
        "# print(tr_types[tr_types['tr_type'].isin(top_10_diff_mcc.index)][['tr_type', 'tr_description']].drop_duplicates())"
      ],
      "metadata": {
        "colab": {
          "base_uri": "https://localhost:8080/"
        },
        "id": "WXst42_rzRW-",
        "outputId": "c91ac1d0-b6bf-4d87-f806-2000ebce3d94"
      },
      "execution_count": null,
      "outputs": [
        {
          "output_type": "stream",
          "name": "stdout",
          "text": [
            "   mcc_code          male        female          diff  \\\n",
            "0      6011 -4.958077e+09 -8.043939e+09  3.085862e+09   \n",
            "1      4829 -3.513864e+09 -6.013017e+09  2.499153e+09   \n",
            "2      6010 -2.612731e+08 -4.821311e+08  2.208580e+08   \n",
            "3      5541 -5.162489e+07 -2.070574e+08  1.554326e+08   \n",
            "4      5511 -5.095159e+06 -7.862393e+07  7.352877e+07   \n",
            "5      5812 -5.787961e+07 -1.282582e+08  7.037856e+07   \n",
            "6      5977 -7.360784e+07 -3.119022e+07 -4.241762e+07   \n",
            "7      5533 -1.278980e+07 -5.512787e+07  4.233808e+07   \n",
            "8      7995 -1.189100e+05 -4.091455e+07  4.079564e+07   \n",
            "9      5661 -8.183139e+07 -4.367668e+07 -3.815470e+07   \n",
            "\n",
            "                                     mcc_description  \n",
            "0  Финансовые институты — снятие наличности автом...  \n",
            "1                                  Денежные переводы  \n",
            "2   Финансовые институты — снятие наличности вручную  \n",
            "3                            Станции техобслуживания  \n",
            "4  Легковой и грузовой транспорт — продажа, серви...  \n",
            "5             Места общественного питания, рестораны  \n",
            "6                                 Магазины косметики  \n",
            "7                          Автозапчасти и аксессуары  \n",
            "8                       Транзакции по азартным играм  \n",
            "9                                   Обувные магазины  \n"
          ]
        }
      ]
    },
    {
      "cell_type": "markdown",
      "metadata": {
        "id": "aGaPkQkVSvl8"
      },
      "source": [
        "## Задание 8"
      ]
    },
    {
      "cell_type": "markdown",
      "metadata": {
        "id": "T7Ox1qAXTHQl"
      },
      "source": [
        "1. Из поля tr_datetime выделите час tr_hour, в который произошла транзакция, как первые 2 цифры до \":\". (\\**)\n",
        "2. Посчитайте количество транзакций с amount<0 в ночное время для мужчин и женщин. Ночное время - это примерно 00-06 часов."
      ]
    },
    {
      "cell_type": "code",
      "source": [
        "transactions['tr_hour'] = transactions['tr_datetime'].str.split(':').str[0].str[-2:].astype(int)\n",
        "\n",
        "night_transactions = transactions.query('amount < 0 and tr_hour < 6').groupby(['gender', 'tr_hour']).size()\n",
        "print(night_transactions)\n",
        "night_transactions = night_transactions.groupby(['gender']).sum()\n",
        "print(night_transactions)\n",
        "\n",
        "#print(\"Число ночных транзакций:\" + np.sum(night_transactions, axis=-1))"
      ],
      "metadata": {
        "colab": {
          "base_uri": "https://localhost:8080/"
        },
        "id": "UJPaHGv6dEXI",
        "outputId": "3233239f-7b2c-4f8b-f7d3-cb2c6fd14c38"
      },
      "execution_count": null,
      "outputs": [
        {
          "output_type": "stream",
          "name": "stdout",
          "text": [
            "gender  tr_hour\n",
            "0.0     0          29060\n",
            "        1            917\n",
            "        2           1289\n",
            "        3           1893\n",
            "        4           2252\n",
            "        5           3416\n",
            "1.0     0          35697\n",
            "        1            984\n",
            "        2            921\n",
            "        3           1191\n",
            "        4           1615\n",
            "        5           2609\n",
            "dtype: int64\n",
            "gender\n",
            "0.0    38827\n",
            "1.0    43017\n",
            "dtype: int64\n"
          ]
        }
      ]
    }
  ]
}